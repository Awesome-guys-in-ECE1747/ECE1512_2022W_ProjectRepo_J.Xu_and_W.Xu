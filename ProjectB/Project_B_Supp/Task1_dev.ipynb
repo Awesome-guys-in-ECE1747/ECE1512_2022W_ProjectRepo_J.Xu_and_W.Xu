{
  "cells": [
    {
      "cell_type": "markdown",
      "metadata": {
        "id": "6WYMfvCNPwpm"
      },
      "source": [
        "# Project B: Knowledge Distillation for Building Lightweight Deep Learning Models in Visual Classification Tasks"
      ]
    },
    {
      "cell_type": "code",
      "execution_count": null,
      "metadata": {
        "colab": {
          "base_uri": "https://localhost:8080/"
        },
        "id": "vA8ppgB2P0aJ",
        "outputId": "b638b5e1-25bb-413e-c49b-27c35a39d264"
      },
      "outputs": [
        {
          "output_type": "stream",
          "name": "stdout",
          "text": [
            "tfds.core.DatasetInfo(\n",
            "    name='mnist',\n",
            "    version=3.0.1,\n",
            "    description='The MNIST database of handwritten digits.',\n",
            "    homepage='http://yann.lecun.com/exdb/mnist/',\n",
            "    features=FeaturesDict({\n",
            "        'image': Image(shape=(28, 28, 1), dtype=tf.uint8),\n",
            "        'label': ClassLabel(shape=(), dtype=tf.int64, num_classes=10),\n",
            "    }),\n",
            "    total_num_examples=70000,\n",
            "    splits={\n",
            "        'test': 10000,\n",
            "        'train': 60000,\n",
            "    },\n",
            "    supervised_keys=('image', 'label'),\n",
            "    citation=\"\"\"@article{lecun2010mnist,\n",
            "      title={MNIST handwritten digit database},\n",
            "      author={LeCun, Yann and Cortes, Corinna and Burges, CJ},\n",
            "      journal={ATT Labs [Online]. Available: http://yann.lecun.com/exdb/mnist},\n",
            "      volume={2},\n",
            "      year={2010}\n",
            "    }\"\"\",\n",
            "    redistribution_info=,\n",
            ")\n",
            "\n"
          ]
        }
      ],
      "source": [
        "import tensorflow.compat.v2 as tf\n",
        "import tensorflow_datasets as tfds\n",
        "from typing import Union\n",
        "import keras\n",
        "import numpy as np\n",
        "import torch\n",
        "import torch.nn as nn\n",
        "\n",
        "tf.enable_v2_behavior()\n",
        "\n",
        "builder = tfds.builder('mnist')\n",
        "BATCH_SIZE = 256\n",
        "NUM_EPOCHS = 12\n",
        "NUM_CLASSES = 10  # 10 total classes.\n",
        "print(builder.info)"
      ]
    },
    {
      "cell_type": "markdown",
      "metadata": {
        "id": "H2EFLQROP2R7"
      },
      "source": [
        "# Data loading"
      ]
    },
    {
      "cell_type": "code",
      "execution_count": null,
      "metadata": {
        "id": "ynByMG_UP4A4",
        "colab": {
          "base_uri": "https://localhost:8080/",
          "height": 192,
          "referenced_widgets": [
            "4bb896096049421095f2550daccd555c",
            "79fc2278853c4317ab03329be69998fd",
            "6a1367b0b52f477b9fb0e4c93170fa95",
            "a016d24e4fe74b86b35de3fb392fd4e9",
            "db124522abb941448071ddae5ae1d4fa",
            "8fc9e4ab25e94941a6d9ef1554c5bf15",
            "a155724bc58c48388cea36196bf1e20c",
            "4f8a9de1ea0e4237bd29b699f484f42d",
            "71fa0f7450a4415da7f4f1fab240ce69",
            "8b655d8e91794153a9ea8b7f0605aada",
            "f00a239de43045ad9df7551d4ef471a1"
          ]
        },
        "outputId": "70cc6d51-1ad7-4f44-f9da-7fe368df5007"
      },
      "outputs": [
        {
          "output_type": "stream",
          "name": "stdout",
          "text": [
            "\u001b[1mDownloading and preparing dataset mnist/3.0.1 (download: 11.06 MiB, generated: 21.00 MiB, total: 32.06 MiB) to /root/tensorflow_datasets/mnist/3.0.1...\u001b[0m\n"
          ]
        },
        {
          "output_type": "stream",
          "name": "stderr",
          "text": [
            "WARNING:absl:Dataset mnist is hosted on GCS. It will automatically be downloaded to your\n",
            "local data directory. If you'd instead prefer to read directly from our public\n",
            "GCS bucket (recommended if you're running on GCP), you can instead pass\n",
            "`try_gcs=True` to `tfds.load` or set `data_dir=gs://tfds-data/datasets`.\n",
            "\n"
          ]
        },
        {
          "output_type": "display_data",
          "data": {
            "text/plain": [
              "Dl Completed...:   0%|          | 0/4 [00:00<?, ? file/s]"
            ],
            "application/vnd.jupyter.widget-view+json": {
              "version_major": 2,
              "version_minor": 0,
              "model_id": "4bb896096049421095f2550daccd555c"
            }
          },
          "metadata": {}
        },
        {
          "output_type": "stream",
          "name": "stdout",
          "text": [
            "\n",
            "\u001b[1mDataset mnist downloaded and prepared to /root/tensorflow_datasets/mnist/3.0.1. Subsequent calls will reuse this data.\u001b[0m\n"
          ]
        }
      ],
      "source": [
        "# Load train and test splits.\n",
        "def preprocess(x):\n",
        "  image = tf.image.convert_image_dtype(x['image'], tf.float32)\n",
        "  subclass_labels = tf.one_hot(x['label'], builder.info.features['label'].num_classes)\n",
        "  return image, subclass_labels\n",
        "\n",
        "\n",
        "mnist_train = tfds.load('mnist', split='train', shuffle_files=False).cache()\n",
        "mnist_train = mnist_train.map(preprocess)\n",
        "mnist_train = mnist_train.shuffle(builder.info.splits['train'].num_examples)\n",
        "mnist_train = mnist_train.batch(BATCH_SIZE, drop_remainder=True)\n",
        "\n",
        "mnist_test = tfds.load('mnist', split='test').cache()\n",
        "mnist_test = mnist_test.map(preprocess).batch(BATCH_SIZE)"
      ]
    },
    {
      "cell_type": "markdown",
      "metadata": {
        "id": "kAZwfvW5P63q"
      },
      "source": [
        "# Model creation"
      ]
    },
    {
      "cell_type": "code",
      "execution_count": null,
      "metadata": {
        "colab": {
          "base_uri": "https://localhost:8080/"
        },
        "id": "zINgDkA7P7BP",
        "outputId": "19a92d28-ab95-43e3-bf41-de6bb1efdeef"
      },
      "outputs": [
        {
          "output_type": "stream",
          "name": "stdout",
          "text": [
            "\n",
            "\n",
            "\n",
            "============ Teacher Model ============\n",
            "\n",
            "Model: \"sequential\"\n",
            "_________________________________________________________________\n",
            " Layer (type)                Output Shape              Param #   \n",
            "=================================================================\n",
            " conv2d (Conv2D)             (None, 26, 26, 32)        320       \n",
            "                                                                 \n",
            " max_pooling2d (MaxPooling2D  (None, 25, 25, 32)       0         \n",
            " )                                                               \n",
            "                                                                 \n",
            " conv2d_1 (Conv2D)           (None, 23, 23, 64)        18496     \n",
            "                                                                 \n",
            " max_pooling2d_1 (MaxPooling  (None, 11, 11, 64)       0         \n",
            " 2D)                                                             \n",
            "                                                                 \n",
            " flatten (Flatten)           (None, 7744)              0         \n",
            "                                                                 \n",
            " dropout (Dropout)           (None, 7744)              0         \n",
            "                                                                 \n",
            " dense (Dense)               (None, 128)               991360    \n",
            "                                                                 \n",
            " dropout_1 (Dropout)         (None, 128)               0         \n",
            "                                                                 \n",
            " dense_1 (Dense)             (None, 10)                1290      \n",
            "                                                                 \n",
            "=================================================================\n",
            "Total params: 1,011,466\n",
            "Trainable params: 1,011,466\n",
            "Non-trainable params: 0\n",
            "_________________________________________________________________\n",
            "\n",
            "\n",
            "\n",
            "============ Student Model ============\n",
            "\n",
            "Model: \"sequential_1\"\n",
            "_________________________________________________________________\n",
            " Layer (type)                Output Shape              Param #   \n",
            "=================================================================\n",
            " flatten_1 (Flatten)         (None, 784)               0         \n",
            "                                                                 \n",
            " dense_2 (Dense)             (None, 784)               615440    \n",
            "                                                                 \n",
            " dense_3 (Dense)             (None, 784)               615440    \n",
            "                                                                 \n",
            " dense_4 (Dense)             (None, 10)                7850      \n",
            "                                                                 \n",
            "=================================================================\n",
            "Total params: 1,238,730\n",
            "Trainable params: 1,238,730\n",
            "Non-trainable params: 0\n",
            "_________________________________________________________________\n"
          ]
        }
      ],
      "source": [
        "from keras.models import Sequential\n",
        "from keras.layers import Input, Conv2D, MaxPooling2D, Dense, Flatten, Dropout\n",
        "\n",
        "# print(mnist_test)\n",
        "\n",
        "# Build CNN teacher.\n",
        "def build_cnn():\n",
        "  cnn_model = Sequential()\n",
        "  cnn_model.add(Input((28,28,1)))\n",
        "  cnn_model.add(Conv2D(filters=32, kernel_size=(3,3), strides= (1,1), activation='relu'))\n",
        "  cnn_model.add(MaxPooling2D(pool_size=(2,2), strides= (1,1)))\n",
        "  cnn_model.add(Conv2D(filters=64, kernel_size=(3,3), strides= (1,1), activation='relu'))\n",
        "  cnn_model.add(MaxPooling2D(pool_size=(2,2), strides= (2,2)))\n",
        "  cnn_model.add(Flatten())\n",
        "  cnn_model.add(Dropout(rate=0.5))\n",
        "  cnn_model.add(Dense(units=128, activation='relu'))\n",
        "  cnn_model.add(Dropout(rate=0.5))\n",
        "  cnn_model.add(Dense(NUM_CLASSES, activation='softmax'))\n",
        "  return cnn_model\n",
        "\n",
        "cnn_model=build_cnn()\n",
        "print(\"\\n\\n\\n============ Teacher Model ============\\n\")\n",
        "cnn_model.summary()\n",
        "\n",
        "# Build fully connected student.\n",
        "def build_fc():\n",
        "  fc_model = Sequential()\n",
        "  fc_model.add(Input((28,28,1)))\n",
        "  fc_model.add(Flatten())\n",
        "  fc_model.add(Dense(units=784,activation='relu'))\n",
        "  fc_model.add(Dense(units=784,activation='relu'))\n",
        "  fc_model.add(Dense(NUM_CLASSES, activation='softmax'))\n",
        "  return fc_model\n",
        "fc_model=build_fc()\n",
        "print(\"\\n\\n\\n============ Student Model ============\\n\")\n",
        "fc_model.summary()"
      ]
    },
    {
      "cell_type": "markdown",
      "metadata": {
        "id": "8JWGucyrQGav"
      },
      "source": [
        "# Teacher loss function"
      ]
    },
    {
      "cell_type": "code",
      "execution_count": null,
      "metadata": {
        "id": "DhzBP6ZLQJ57"
      },
      "outputs": [],
      "source": [
        "@tf.function\n",
        "def compute_teacher_loss(images, labels):\n",
        "  \"\"\"Compute subclass knowledge distillation teacher loss for given images\n",
        "     and labels.\n",
        "\n",
        "  Args:\n",
        "    images: Tensor representing a batch of images.\n",
        "    labels: Tensor representing a batch of labels.\n",
        "\n",
        "  Returns:\n",
        "    Scalar loss Tensor.\n",
        "  \"\"\"\n",
        "  subclass_logits = cnn_model(images, training=True)\n",
        "  # print(subclass_logits.shape)\n",
        "  # print(tf.argmax(labels, 1).shape)\n",
        "  # Compute cross-entropy loss for subclasses.\n",
        "\n",
        "  # your code start from here for step 3\n",
        "  cross_entropy_loss_value = tf.nn.sparse_softmax_cross_entropy_with_logits(logits=subclass_logits, labels=tf.argmax(labels, 1))\n",
        "\n",
        "\n",
        "  return cross_entropy_loss_value"
      ]
    },
    {
      "cell_type": "markdown",
      "metadata": {
        "id": "JS8xkuH0QbOS"
      },
      "source": [
        "# Student loss function"
      ]
    },
    {
      "cell_type": "code",
      "execution_count": null,
      "metadata": {
        "id": "lDKia4gPQMIr"
      },
      "outputs": [],
      "source": [
        "# Hyperparameters for distillation (need to be tuned).\n",
        "ALPHA = 0.5 # task balance between cross-entropy and distillation loss\n",
        "DISTILLATION_TEMPERATURE = 4. # temperature hyperparameter\n",
        "import numpy as np\n",
        "import torch\n",
        "import torch.nn as nn\n",
        "def distillation_loss(teacher_logits: tf.Tensor, student_logits: tf.Tensor,\n",
        "                      temperature: Union[float, tf.Tensor]):\n",
        "  \"\"\"Compute distillation loss.\n",
        "\n",
        "  This function computes cross entropy between softened logits and softened\n",
        "  targets. The resulting loss is scaled by the squared temperature so that\n",
        "  the gradient magnitude remains approximately constant as the temperature is\n",
        "  changed. For reference, see Hinton et al., 2014, \"Distilling the knowledge in\n",
        "  a neural network.\"\n",
        "\n",
        "  Args:\n",
        "    teacher_logits: A Tensor of logits provided by the teacher.\n",
        "    student_logits: A Tensor of logits provided by the student, of the same\n",
        "      shape as `teacher_logits`.\n",
        "    temperature: Temperature to use for distillation.\n",
        "\n",
        "  Returns:\n",
        "    A scalar Tensor containing the distillation loss.\n",
        "  \"\"\"\n",
        "  # print(tf.reduce_sum(tf.exp(teacher_logits/temperature),axis=1,keepdims=True).shape)\n",
        "  soft_targets = tf.exp((teacher_logits-np.max(teacher_logits,axis=-1,keepdims=True))/temperature)/tf.reduce_sum(tf.exp(np.max(teacher_logits,axis=-1,keepdims=True)/temperature),axis=1,keepdims=True)\n",
        "\n",
        "  return tf.reduce_mean(tf.nn.softmax_cross_entropy_with_logits(soft_targets, student_logits / temperature)) * temperature ** 2\n",
        "\n",
        "def compute_student_loss(images, labels):\n",
        "  \"\"\"Compute subclass knowledge distillation student loss for given images\n",
        "     and labels.\n",
        "\n",
        "  Args:\n",
        "    images: Tensor representing a batch of images.\n",
        "    labels: Tensor representing a batch of labels.\n",
        "\n",
        "  Returns:\n",
        "    Scalar loss Tensor.\n",
        "  \"\"\"\n",
        "  student_subclass_logits = fc_model(images, training=True)\n",
        "\n",
        "  # Compute subclass distillation loss between student subclass logits and\n",
        "  # softened teacher subclass targets probabilities.\n",
        "\n",
        "  teacher_subclass_logits = cnn_model(images, training=False)\n",
        "  distillation_loss_value = distillation_loss(teacher_subclass_logits,student_subclass_logits,DISTILLATION_TEMPERATURE)\n",
        "  L_hard=tf.nn.sparse_softmax_cross_entropy_with_logits(logits=student_subclass_logits, labels=tf.argmax(labels, 1))\n",
        "  # print(labels)\n",
        "  # Compute cross-entropy loss with hard targets.\n",
        "\n",
        "  cross_entropy_loss_value = ALPHA*distillation_loss_value+(1-ALPHA)*L_hard\n",
        "\n",
        "  return cross_entropy_loss_value"
      ]
    },
    {
      "cell_type": "markdown",
      "metadata": {
        "id": "RJ1uyvurQ3w4"
      },
      "source": [
        "# Train and evaluation"
      ]
    },
    {
      "cell_type": "code",
      "execution_count": null,
      "metadata": {
        "id": "EtoLbp8uQ4Vl"
      },
      "outputs": [],
      "source": [
        "@tf.function\n",
        "def compute_num_correct(model, images, labels):\n",
        "  \"\"\"Compute number of correctly classified images in a batch.\n",
        "\n",
        "  Args:\n",
        "    model: Instance of tf.keras.Model.\n",
        "    images: Tensor representing a batch of images.\n",
        "    labels: Tensor representing a batch of labels.\n",
        "\n",
        "  Returns:\n",
        "    Number of correctly classified images.\n",
        "  \"\"\"\n",
        "  class_logits = model(images, training=False)\n",
        "  return tf.reduce_sum(\n",
        "      tf.cast(tf.math.equal(tf.argmax(class_logits, -1), tf.argmax(labels, -1)),\n",
        "              tf.float32)), tf.argmax(class_logits, -1), tf.argmax(labels, -1)\n",
        "\n",
        "\n",
        "def train_and_evaluate(model, compute_loss_fn):\n",
        "  \"\"\"Perform training and evaluation for a given model.\n",
        "\n",
        "  Args:\n",
        "    model: Instance of tf.keras.Model.\n",
        "    compute_loss_fn: A function that computes the training loss given the\n",
        "      images, and labels.\n",
        "  \"\"\"\n",
        "  optimizer = tf.keras.optimizers.Adam(learning_rate=0.001)\n",
        "  res=0.0\n",
        "  for epoch in range(1, NUM_EPOCHS + 1):\n",
        "    # Run training.\n",
        "    print('Epoch {}: '.format(epoch), end='')\n",
        "    for images, labels in mnist_train:\n",
        "      with tf.GradientTape() as tape:\n",
        "        loss_value = compute_loss_fn(images,labels)\n",
        "\n",
        "      grads = tape.gradient(loss_value,model.variables)\n",
        "      optimizer.apply_gradients(zip(grads, model.variables))\n",
        "\n",
        "    # Run evaluation.\n",
        "    num_correct = 0\n",
        "    num_total = builder.info.splits['test'].num_examples\n",
        "    for images, labels in mnist_test:\n",
        "      num_correct += tf.cast(compute_num_correct(model,images,labels)[0],tf.int32)\n",
        "    print(\"Class_accuracy: \" + '{:.2f}%'.format(\n",
        "        num_correct / num_total * 100))\n",
        "    res=num_correct / num_total * 100\n",
        "  return res\n"
      ]
    },
    {
      "cell_type": "markdown",
      "metadata": {
        "id": "NQL1lJdaRPT1"
      },
      "source": [
        "# Training models"
      ]
    },
    {
      "cell_type": "code",
      "execution_count": null,
      "metadata": {
        "colab": {
          "base_uri": "https://localhost:8080/"
        },
        "id": "-AGHbyABRPz3",
        "outputId": "0221b3c1-1445-47ca-d93b-d0bbba34f5f4"
      },
      "outputs": [
        {
          "output_type": "stream",
          "name": "stdout",
          "text": [
            "Epoch 1: Class_accuracy: 96.72%\n",
            "Epoch 2: Class_accuracy: 97.74%\n",
            "Epoch 3: Class_accuracy: 98.19%\n",
            "Epoch 4: Class_accuracy: 98.49%\n",
            "Epoch 5: Class_accuracy: 98.70%\n",
            "Epoch 6: Class_accuracy: 98.63%\n",
            "Epoch 7: Class_accuracy: 98.75%\n",
            "Epoch 8: Class_accuracy: 98.73%\n",
            "Epoch 9: Class_accuracy: 98.87%\n",
            "Epoch 10: Class_accuracy: 98.90%\n",
            "Epoch 11: Class_accuracy: 98.79%\n",
            "Epoch 12: Class_accuracy: 98.92%\n"
          ]
        },
        {
          "output_type": "execute_result",
          "data": {
            "text/plain": [
              "<tf.Tensor: shape=(), dtype=float64, numpy=98.92>"
            ]
          },
          "metadata": {},
          "execution_count": 7
        }
      ],
      "source": [
        "# your code start from here for step 5 \n",
        "\n",
        "train_and_evaluate(cnn_model,compute_teacher_loss)"
      ]
    },
    {
      "cell_type": "code",
      "source": [
        "cnn_model.save('teacher_MNIST.h5')"
      ],
      "metadata": {
        "colab": {
          "base_uri": "https://localhost:8080/"
        },
        "id": "op7pcRIbQkjy",
        "outputId": "c15b7ae2-741b-48e0-d09b-6abd18ebe2df"
      },
      "execution_count": null,
      "outputs": [
        {
          "output_type": "stream",
          "name": "stdout",
          "text": [
            "WARNING:tensorflow:Compiled the loaded model, but the compiled metrics have yet to be built. `model.compile_metrics` will be empty until you train or evaluate the model.\n"
          ]
        },
        {
          "output_type": "stream",
          "name": "stderr",
          "text": [
            "WARNING:tensorflow:Compiled the loaded model, but the compiled metrics have yet to be built. `model.compile_metrics` will be empty until you train or evaluate the model.\n"
          ]
        }
      ]
    },
    {
      "cell_type": "code",
      "execution_count": null,
      "metadata": {
        "colab": {
          "base_uri": "https://localhost:8080/"
        },
        "id": "M6Zw1kkZn3Ha",
        "outputId": "51bdd33f-10c0-41fb-f72f-ed116a032e11"
      },
      "outputs": [
        {
          "output_type": "stream",
          "name": "stdout",
          "text": [
            "temperature:1 Alpha:0.1\n",
            "Epoch 1: Class_accuracy: 94.30%\n",
            "Epoch 2: Class_accuracy: 96.55%\n",
            "Epoch 3: Class_accuracy: 96.65%\n",
            "Epoch 4: Class_accuracy: 97.13%\n",
            "Epoch 5: Class_accuracy: 97.53%\n",
            "Epoch 6: Class_accuracy: 97.83%\n",
            "Epoch 7: Class_accuracy: 97.06%\n",
            "Epoch 8: Class_accuracy: 97.65%\n",
            "Epoch 9: Class_accuracy: 97.59%\n",
            "Epoch 10: Class_accuracy: 97.92%\n",
            "Epoch 11: Class_accuracy: 97.37%\n",
            "Epoch 12: Class_accuracy: 97.35%\n",
            "WARNING:tensorflow:Compiled the loaded model, but the compiled metrics have yet to be built. `model.compile_metrics` will be empty until you train or evaluate the model.\n"
          ]
        },
        {
          "output_type": "stream",
          "name": "stderr",
          "text": [
            "WARNING:tensorflow:Compiled the loaded model, but the compiled metrics have yet to be built. `model.compile_metrics` will be empty until you train or evaluate the model.\n"
          ]
        },
        {
          "output_type": "stream",
          "name": "stdout",
          "text": [
            "temperature:1 Alpha:0.3\n",
            "Epoch 1: Class_accuracy: 94.92%\n",
            "Epoch 2: Class_accuracy: 96.88%\n",
            "Epoch 3: Class_accuracy: 96.85%\n",
            "Epoch 4: Class_accuracy: 97.09%\n",
            "Epoch 5: Class_accuracy: 97.29%\n",
            "Epoch 6: Class_accuracy: 97.61%\n",
            "Epoch 7: Class_accuracy: 97.82%\n",
            "Epoch 8: Class_accuracy: 97.64%\n",
            "Epoch 9: Class_accuracy: 97.63%\n",
            "Epoch 10: Class_accuracy: 97.94%\n",
            "Epoch 11: Class_accuracy: 97.83%\n",
            "Epoch 12: Class_accuracy: 97.93%\n",
            "WARNING:tensorflow:Compiled the loaded model, but the compiled metrics have yet to be built. `model.compile_metrics` will be empty until you train or evaluate the model.\n"
          ]
        },
        {
          "output_type": "stream",
          "name": "stderr",
          "text": [
            "WARNING:tensorflow:Compiled the loaded model, but the compiled metrics have yet to be built. `model.compile_metrics` will be empty until you train or evaluate the model.\n"
          ]
        },
        {
          "output_type": "stream",
          "name": "stdout",
          "text": [
            "temperature:1 Alpha:0.5\n",
            "Epoch 1: Class_accuracy: 95.07%\n",
            "Epoch 2: Class_accuracy: 96.75%\n",
            "Epoch 3: Class_accuracy: 97.35%\n",
            "Epoch 4: Class_accuracy: 97.54%\n",
            "Epoch 5: Class_accuracy: 97.51%\n",
            "Epoch 6: Class_accuracy: 97.51%\n",
            "Epoch 7: Class_accuracy: 97.81%\n",
            "Epoch 8: Class_accuracy: 97.74%\n",
            "Epoch 9: Class_accuracy: 97.55%\n",
            "Epoch 10: Class_accuracy: 97.73%\n",
            "Epoch 11: Class_accuracy: 97.80%\n",
            "Epoch 12: Class_accuracy: 97.71%\n",
            "WARNING:tensorflow:Compiled the loaded model, but the compiled metrics have yet to be built. `model.compile_metrics` will be empty until you train or evaluate the model.\n"
          ]
        },
        {
          "output_type": "stream",
          "name": "stderr",
          "text": [
            "WARNING:tensorflow:Compiled the loaded model, but the compiled metrics have yet to be built. `model.compile_metrics` will be empty until you train or evaluate the model.\n"
          ]
        },
        {
          "output_type": "stream",
          "name": "stdout",
          "text": [
            "temperature:1 Alpha:0.7\n",
            "Epoch 1: Class_accuracy: 95.48%\n",
            "Epoch 2: Class_accuracy: 96.49%\n",
            "Epoch 3: Class_accuracy: 97.08%\n",
            "Epoch 4: Class_accuracy: 97.41%\n",
            "Epoch 5: Class_accuracy: 97.38%\n",
            "Epoch 6: Class_accuracy: 97.06%\n",
            "Epoch 7: Class_accuracy: 97.69%\n",
            "Epoch 8: Class_accuracy: 97.66%\n",
            "Epoch 9: Class_accuracy: 97.95%\n",
            "Epoch 10: Class_accuracy: 97.54%\n",
            "Epoch 11: Class_accuracy: 97.78%\n",
            "Epoch 12: Class_accuracy: 97.30%\n",
            "WARNING:tensorflow:Compiled the loaded model, but the compiled metrics have yet to be built. `model.compile_metrics` will be empty until you train or evaluate the model.\n"
          ]
        },
        {
          "output_type": "stream",
          "name": "stderr",
          "text": [
            "WARNING:tensorflow:Compiled the loaded model, but the compiled metrics have yet to be built. `model.compile_metrics` will be empty until you train or evaluate the model.\n"
          ]
        },
        {
          "output_type": "stream",
          "name": "stdout",
          "text": [
            "temperature:1 Alpha:0.9\n",
            "Epoch 1: Class_accuracy: 95.28%\n",
            "Epoch 2: Class_accuracy: 96.79%\n",
            "Epoch 3: Class_accuracy: 97.30%\n",
            "Epoch 4: Class_accuracy: 97.47%\n",
            "Epoch 5: Class_accuracy: 97.78%\n",
            "Epoch 6: Class_accuracy: 97.52%\n",
            "Epoch 7: Class_accuracy: 97.59%\n",
            "Epoch 8: Class_accuracy: 97.43%\n",
            "Epoch 9: Class_accuracy: 97.50%\n",
            "Epoch 10: Class_accuracy: 97.71%\n",
            "Epoch 11: Class_accuracy: 97.97%\n",
            "Epoch 12: Class_accuracy: 97.65%\n",
            "WARNING:tensorflow:Compiled the loaded model, but the compiled metrics have yet to be built. `model.compile_metrics` will be empty until you train or evaluate the model.\n"
          ]
        },
        {
          "output_type": "stream",
          "name": "stderr",
          "text": [
            "WARNING:tensorflow:Compiled the loaded model, but the compiled metrics have yet to be built. `model.compile_metrics` will be empty until you train or evaluate the model.\n"
          ]
        },
        {
          "output_type": "stream",
          "name": "stdout",
          "text": [
            "temperature:2 Alpha:0.1\n",
            "Epoch 1: Class_accuracy: 95.46%\n",
            "Epoch 2: Class_accuracy: 96.58%\n",
            "Epoch 3: Class_accuracy: 96.78%\n",
            "Epoch 4: Class_accuracy: 97.31%\n",
            "Epoch 5: Class_accuracy: 97.27%\n",
            "Epoch 6: Class_accuracy: 97.56%\n",
            "Epoch 7: Class_accuracy: 97.82%\n",
            "Epoch 8: Class_accuracy: 97.51%\n",
            "Epoch 9: Class_accuracy: 97.82%\n",
            "Epoch 10: Class_accuracy: 98.11%\n",
            "Epoch 11: Class_accuracy: 97.73%\n",
            "Epoch 12: Class_accuracy: 97.76%\n",
            "WARNING:tensorflow:Compiled the loaded model, but the compiled metrics have yet to be built. `model.compile_metrics` will be empty until you train or evaluate the model.\n"
          ]
        },
        {
          "output_type": "stream",
          "name": "stderr",
          "text": [
            "WARNING:tensorflow:Compiled the loaded model, but the compiled metrics have yet to be built. `model.compile_metrics` will be empty until you train or evaluate the model.\n"
          ]
        },
        {
          "output_type": "stream",
          "name": "stdout",
          "text": [
            "temperature:2 Alpha:0.3\n",
            "Epoch 1: Class_accuracy: 95.38%\n",
            "Epoch 2: Class_accuracy: 96.32%\n",
            "Epoch 3: Class_accuracy: 96.98%\n",
            "Epoch 4: Class_accuracy: 97.04%\n",
            "Epoch 5: Class_accuracy: 97.33%\n",
            "Epoch 6: Class_accuracy: 97.42%\n",
            "Epoch 7: Class_accuracy: 97.65%\n",
            "Epoch 8: Class_accuracy: 97.66%\n",
            "Epoch 9: Class_accuracy: 97.78%\n",
            "Epoch 10: Class_accuracy: 97.66%\n",
            "Epoch 11: Class_accuracy: 97.83%\n",
            "Epoch 12: Class_accuracy: 97.84%\n",
            "WARNING:tensorflow:Compiled the loaded model, but the compiled metrics have yet to be built. `model.compile_metrics` will be empty until you train or evaluate the model.\n"
          ]
        },
        {
          "output_type": "stream",
          "name": "stderr",
          "text": [
            "WARNING:tensorflow:Compiled the loaded model, but the compiled metrics have yet to be built. `model.compile_metrics` will be empty until you train or evaluate the model.\n"
          ]
        },
        {
          "output_type": "stream",
          "name": "stdout",
          "text": [
            "temperature:2 Alpha:0.5\n",
            "Epoch 1: Class_accuracy: 95.49%\n",
            "Epoch 2: Class_accuracy: 96.58%\n",
            "Epoch 3: Class_accuracy: 96.88%\n",
            "Epoch 4: Class_accuracy: 97.19%\n",
            "Epoch 5: Class_accuracy: 97.41%\n",
            "Epoch 6: Class_accuracy: 97.63%\n",
            "Epoch 7: Class_accuracy: 97.75%\n",
            "Epoch 8: Class_accuracy: 97.41%\n",
            "Epoch 9: Class_accuracy: 97.70%\n",
            "Epoch 10: Class_accuracy: 97.77%\n",
            "Epoch 11: Class_accuracy: 97.71%\n",
            "Epoch 12: Class_accuracy: 97.61%\n",
            "WARNING:tensorflow:Compiled the loaded model, but the compiled metrics have yet to be built. `model.compile_metrics` will be empty until you train or evaluate the model.\n"
          ]
        },
        {
          "output_type": "stream",
          "name": "stderr",
          "text": [
            "WARNING:tensorflow:Compiled the loaded model, but the compiled metrics have yet to be built. `model.compile_metrics` will be empty until you train or evaluate the model.\n"
          ]
        },
        {
          "output_type": "stream",
          "name": "stdout",
          "text": [
            "temperature:2 Alpha:0.7\n",
            "Epoch 1: Class_accuracy: 95.18%\n",
            "Epoch 2: Class_accuracy: 96.58%\n",
            "Epoch 3: Class_accuracy: 97.15%\n",
            "Epoch 4: Class_accuracy: 97.43%\n",
            "Epoch 5: Class_accuracy: 97.35%\n",
            "Epoch 6: Class_accuracy: 97.24%\n",
            "Epoch 7: Class_accuracy: 97.49%\n",
            "Epoch 8: Class_accuracy: 97.68%\n",
            "Epoch 9: Class_accuracy: 97.50%\n",
            "Epoch 10: Class_accuracy: 97.89%\n",
            "Epoch 11: Class_accuracy: 97.81%\n",
            "Epoch 12: Class_accuracy: 97.86%\n",
            "WARNING:tensorflow:Compiled the loaded model, but the compiled metrics have yet to be built. `model.compile_metrics` will be empty until you train or evaluate the model.\n"
          ]
        },
        {
          "output_type": "stream",
          "name": "stderr",
          "text": [
            "WARNING:tensorflow:Compiled the loaded model, but the compiled metrics have yet to be built. `model.compile_metrics` will be empty until you train or evaluate the model.\n"
          ]
        },
        {
          "output_type": "stream",
          "name": "stdout",
          "text": [
            "temperature:2 Alpha:0.9\n",
            "Epoch 1: Class_accuracy: 95.17%\n",
            "Epoch 2: Class_accuracy: 96.56%\n",
            "Epoch 3: Class_accuracy: 97.15%\n",
            "Epoch 4: Class_accuracy: 97.36%\n",
            "Epoch 5: Class_accuracy: 97.47%\n",
            "Epoch 6: Class_accuracy: 97.25%\n",
            "Epoch 7: Class_accuracy: 97.36%\n",
            "Epoch 8: Class_accuracy: 97.53%\n",
            "Epoch 9: Class_accuracy: 97.41%\n",
            "Epoch 10: Class_accuracy: 97.79%\n",
            "Epoch 11: Class_accuracy: 97.82%\n",
            "Epoch 12: Class_accuracy: 97.76%\n",
            "WARNING:tensorflow:Compiled the loaded model, but the compiled metrics have yet to be built. `model.compile_metrics` will be empty until you train or evaluate the model.\n"
          ]
        },
        {
          "output_type": "stream",
          "name": "stderr",
          "text": [
            "WARNING:tensorflow:Compiled the loaded model, but the compiled metrics have yet to be built. `model.compile_metrics` will be empty until you train or evaluate the model.\n"
          ]
        },
        {
          "output_type": "stream",
          "name": "stdout",
          "text": [
            "temperature:4 Alpha:0.1\n",
            "Epoch 1: Class_accuracy: 95.22%\n",
            "Epoch 2: Class_accuracy: 96.22%\n",
            "Epoch 3: Class_accuracy: 97.03%\n",
            "Epoch 4: Class_accuracy: 96.85%\n",
            "Epoch 5: Class_accuracy: 97.09%\n",
            "Epoch 6: Class_accuracy: 97.47%\n",
            "Epoch 7: Class_accuracy: 97.39%\n",
            "Epoch 8: Class_accuracy: 97.49%\n",
            "Epoch 9: Class_accuracy: 97.81%\n",
            "Epoch 10: Class_accuracy: 97.75%\n",
            "Epoch 11: Class_accuracy: 98.00%\n",
            "Epoch 12: Class_accuracy: 97.62%\n",
            "WARNING:tensorflow:Compiled the loaded model, but the compiled metrics have yet to be built. `model.compile_metrics` will be empty until you train or evaluate the model.\n"
          ]
        },
        {
          "output_type": "stream",
          "name": "stderr",
          "text": [
            "WARNING:tensorflow:Compiled the loaded model, but the compiled metrics have yet to be built. `model.compile_metrics` will be empty until you train or evaluate the model.\n"
          ]
        },
        {
          "output_type": "stream",
          "name": "stdout",
          "text": [
            "temperature:4 Alpha:0.3\n",
            "Epoch 1: Class_accuracy: 95.19%\n",
            "Epoch 2: Class_accuracy: 96.46%\n",
            "Epoch 3: Class_accuracy: 97.29%\n",
            "Epoch 4: Class_accuracy: 96.84%\n",
            "Epoch 5: Class_accuracy: 97.44%\n",
            "Epoch 6: Class_accuracy: 97.00%\n",
            "Epoch 7: Class_accuracy: 97.68%\n",
            "Epoch 8: Class_accuracy: 97.70%\n",
            "Epoch 9: Class_accuracy: 97.55%\n",
            "Epoch 10: Class_accuracy: 97.96%\n",
            "Epoch 11: Class_accuracy: 97.87%\n",
            "Epoch 12: Class_accuracy: 97.94%\n",
            "WARNING:tensorflow:Compiled the loaded model, but the compiled metrics have yet to be built. `model.compile_metrics` will be empty until you train or evaluate the model.\n"
          ]
        },
        {
          "output_type": "stream",
          "name": "stderr",
          "text": [
            "WARNING:tensorflow:Compiled the loaded model, but the compiled metrics have yet to be built. `model.compile_metrics` will be empty until you train or evaluate the model.\n"
          ]
        },
        {
          "output_type": "stream",
          "name": "stdout",
          "text": [
            "temperature:4 Alpha:0.5\n",
            "Epoch 1: Class_accuracy: 95.41%\n",
            "Epoch 2: Class_accuracy: 96.23%\n",
            "Epoch 3: Class_accuracy: 96.77%\n",
            "Epoch 4: Class_accuracy: 97.14%\n",
            "Epoch 5: Class_accuracy: 97.40%\n",
            "Epoch 6: Class_accuracy: 97.63%\n",
            "Epoch 7: Class_accuracy: 97.04%\n",
            "Epoch 8: Class_accuracy: 97.85%\n",
            "Epoch 9: Class_accuracy: 97.77%\n",
            "Epoch 10: Class_accuracy: 97.76%\n",
            "Epoch 11: Class_accuracy: 97.50%\n",
            "Epoch 12: Class_accuracy: 97.39%\n",
            "WARNING:tensorflow:Compiled the loaded model, but the compiled metrics have yet to be built. `model.compile_metrics` will be empty until you train or evaluate the model.\n"
          ]
        },
        {
          "output_type": "stream",
          "name": "stderr",
          "text": [
            "WARNING:tensorflow:Compiled the loaded model, but the compiled metrics have yet to be built. `model.compile_metrics` will be empty until you train or evaluate the model.\n"
          ]
        },
        {
          "output_type": "stream",
          "name": "stdout",
          "text": [
            "temperature:4 Alpha:0.7\n",
            "Epoch 1: Class_accuracy: 95.06%\n",
            "Epoch 2: Class_accuracy: 96.30%\n",
            "Epoch 3: Class_accuracy: 96.85%\n",
            "Epoch 4: Class_accuracy: 97.16%\n",
            "Epoch 5: Class_accuracy: 97.63%\n",
            "Epoch 6: Class_accuracy: 97.41%\n",
            "Epoch 7: Class_accuracy: 97.19%\n",
            "Epoch 8: Class_accuracy: 97.68%\n",
            "Epoch 9: Class_accuracy: 97.69%\n",
            "Epoch 10: Class_accuracy: 97.70%\n",
            "Epoch 11: Class_accuracy: 97.67%\n",
            "Epoch 12: Class_accuracy: 97.42%\n",
            "WARNING:tensorflow:Compiled the loaded model, but the compiled metrics have yet to be built. `model.compile_metrics` will be empty until you train or evaluate the model.\n"
          ]
        },
        {
          "output_type": "stream",
          "name": "stderr",
          "text": [
            "WARNING:tensorflow:Compiled the loaded model, but the compiled metrics have yet to be built. `model.compile_metrics` will be empty until you train or evaluate the model.\n"
          ]
        },
        {
          "output_type": "stream",
          "name": "stdout",
          "text": [
            "temperature:4 Alpha:0.9\n",
            "Epoch 1: Class_accuracy: 94.90%\n",
            "Epoch 2: Class_accuracy: 95.72%\n",
            "Epoch 3: Class_accuracy: 96.95%\n",
            "Epoch 4: Class_accuracy: 97.29%\n",
            "Epoch 5: Class_accuracy: 97.32%\n",
            "Epoch 6: Class_accuracy: 97.61%\n",
            "Epoch 7: Class_accuracy: 97.07%\n",
            "Epoch 8: Class_accuracy: 97.62%\n",
            "Epoch 9: Class_accuracy: 97.45%\n",
            "Epoch 10: Class_accuracy: 97.25%\n",
            "Epoch 11: Class_accuracy: 97.64%\n",
            "Epoch 12: Class_accuracy: 97.67%\n",
            "WARNING:tensorflow:Compiled the loaded model, but the compiled metrics have yet to be built. `model.compile_metrics` will be empty until you train or evaluate the model.\n"
          ]
        },
        {
          "output_type": "stream",
          "name": "stderr",
          "text": [
            "WARNING:tensorflow:Compiled the loaded model, but the compiled metrics have yet to be built. `model.compile_metrics` will be empty until you train or evaluate the model.\n"
          ]
        },
        {
          "output_type": "stream",
          "name": "stdout",
          "text": [
            "temperature:16 Alpha:0.1\n",
            "Epoch 1: Class_accuracy: 95.03%\n",
            "Epoch 2: Class_accuracy: 96.68%\n",
            "Epoch 3: Class_accuracy: 96.29%\n",
            "Epoch 4: Class_accuracy: 97.47%\n",
            "Epoch 5: Class_accuracy: 97.35%\n",
            "Epoch 6: Class_accuracy: 97.58%\n",
            "Epoch 7: Class_accuracy: 97.46%\n",
            "Epoch 8: Class_accuracy: 97.68%\n",
            "Epoch 9: Class_accuracy: 97.67%\n",
            "Epoch 10: Class_accuracy: 97.76%\n",
            "Epoch 11: Class_accuracy: 97.76%\n",
            "Epoch 12: Class_accuracy: 97.52%\n",
            "WARNING:tensorflow:Compiled the loaded model, but the compiled metrics have yet to be built. `model.compile_metrics` will be empty until you train or evaluate the model.\n"
          ]
        },
        {
          "output_type": "stream",
          "name": "stderr",
          "text": [
            "WARNING:tensorflow:Compiled the loaded model, but the compiled metrics have yet to be built. `model.compile_metrics` will be empty until you train or evaluate the model.\n"
          ]
        },
        {
          "output_type": "stream",
          "name": "stdout",
          "text": [
            "temperature:16 Alpha:0.3\n",
            "Epoch 1: Class_accuracy: 94.79%\n",
            "Epoch 2: Class_accuracy: 96.21%\n",
            "Epoch 3: Class_accuracy: 96.72%\n",
            "Epoch 4: Class_accuracy: 97.03%\n",
            "Epoch 5: Class_accuracy: 96.98%\n",
            "Epoch 6: Class_accuracy: 97.25%\n",
            "Epoch 7: Class_accuracy: 97.24%\n",
            "Epoch 8: Class_accuracy: 97.93%\n",
            "Epoch 9: Class_accuracy: 97.63%\n",
            "Epoch 10: Class_accuracy: 97.74%\n",
            "Epoch 11: Class_accuracy: 97.83%\n",
            "Epoch 12: Class_accuracy: 97.60%\n",
            "WARNING:tensorflow:Compiled the loaded model, but the compiled metrics have yet to be built. `model.compile_metrics` will be empty until you train or evaluate the model.\n"
          ]
        },
        {
          "output_type": "stream",
          "name": "stderr",
          "text": [
            "WARNING:tensorflow:Compiled the loaded model, but the compiled metrics have yet to be built. `model.compile_metrics` will be empty until you train or evaluate the model.\n"
          ]
        },
        {
          "output_type": "stream",
          "name": "stdout",
          "text": [
            "temperature:16 Alpha:0.5\n",
            "Epoch 1: Class_accuracy: 94.84%\n",
            "Epoch 2: Class_accuracy: 96.14%\n",
            "Epoch 3: Class_accuracy: 96.51%\n",
            "Epoch 4: Class_accuracy: 97.22%\n",
            "Epoch 5: Class_accuracy: 97.66%\n",
            "Epoch 6: Class_accuracy: 97.23%\n",
            "Epoch 7: Class_accuracy: 97.40%\n",
            "Epoch 8: Class_accuracy: 97.72%\n",
            "Epoch 9: Class_accuracy: 97.46%\n",
            "Epoch 10: Class_accuracy: 97.91%\n",
            "Epoch 11: Class_accuracy: 97.86%\n",
            "Epoch 12: Class_accuracy: 97.66%\n",
            "WARNING:tensorflow:Compiled the loaded model, but the compiled metrics have yet to be built. `model.compile_metrics` will be empty until you train or evaluate the model.\n"
          ]
        },
        {
          "output_type": "stream",
          "name": "stderr",
          "text": [
            "WARNING:tensorflow:Compiled the loaded model, but the compiled metrics have yet to be built. `model.compile_metrics` will be empty until you train or evaluate the model.\n"
          ]
        },
        {
          "output_type": "stream",
          "name": "stdout",
          "text": [
            "temperature:16 Alpha:0.7\n",
            "Epoch 1: Class_accuracy: 95.19%\n",
            "Epoch 2: Class_accuracy: 96.21%\n",
            "Epoch 3: Class_accuracy: 97.00%\n",
            "Epoch 4: Class_accuracy: 97.22%\n",
            "Epoch 5: Class_accuracy: 97.15%\n",
            "Epoch 6: Class_accuracy: 97.65%\n",
            "Epoch 7: Class_accuracy: 97.64%\n",
            "Epoch 8: Class_accuracy: 97.32%\n",
            "Epoch 9: Class_accuracy: 97.41%\n",
            "Epoch 10: Class_accuracy: 97.30%\n",
            "Epoch 11: Class_accuracy: 97.78%\n",
            "Epoch 12: Class_accuracy: 97.75%\n",
            "WARNING:tensorflow:Compiled the loaded model, but the compiled metrics have yet to be built. `model.compile_metrics` will be empty until you train or evaluate the model.\n"
          ]
        },
        {
          "output_type": "stream",
          "name": "stderr",
          "text": [
            "WARNING:tensorflow:Compiled the loaded model, but the compiled metrics have yet to be built. `model.compile_metrics` will be empty until you train or evaluate the model.\n"
          ]
        },
        {
          "output_type": "stream",
          "name": "stdout",
          "text": [
            "temperature:16 Alpha:0.9\n",
            "Epoch 1: Class_accuracy: 95.37%\n",
            "Epoch 2: Class_accuracy: 96.71%\n",
            "Epoch 3: Class_accuracy: 96.28%\n",
            "Epoch 4: Class_accuracy: 96.97%\n",
            "Epoch 5: Class_accuracy: 97.24%\n",
            "Epoch 6: Class_accuracy: 97.56%\n",
            "Epoch 7: Class_accuracy: 97.30%\n",
            "Epoch 8: Class_accuracy: 97.75%\n",
            "Epoch 9: Class_accuracy: 97.62%\n",
            "Epoch 10: Class_accuracy: 97.92%\n",
            "Epoch 11: Class_accuracy: 97.82%\n",
            "Epoch 12: Class_accuracy: 97.78%\n",
            "WARNING:tensorflow:Compiled the loaded model, but the compiled metrics have yet to be built. `model.compile_metrics` will be empty until you train or evaluate the model.\n"
          ]
        },
        {
          "output_type": "stream",
          "name": "stderr",
          "text": [
            "WARNING:tensorflow:Compiled the loaded model, but the compiled metrics have yet to be built. `model.compile_metrics` will be empty until you train or evaluate the model.\n"
          ]
        },
        {
          "output_type": "stream",
          "name": "stdout",
          "text": [
            "temperature:32 Alpha:0.1\n",
            "Epoch 1: Class_accuracy: 95.07%\n",
            "Epoch 2: Class_accuracy: 96.21%\n",
            "Epoch 3: Class_accuracy: 97.04%\n",
            "Epoch 4: Class_accuracy: 97.46%\n",
            "Epoch 5: Class_accuracy: 97.30%\n",
            "Epoch 6: Class_accuracy: 97.66%\n",
            "Epoch 7: Class_accuracy: 97.59%\n",
            "Epoch 8: Class_accuracy: 97.79%\n",
            "Epoch 9: Class_accuracy: 97.78%\n",
            "Epoch 10: Class_accuracy: 97.69%\n",
            "Epoch 11: Class_accuracy: 97.78%\n",
            "Epoch 12: Class_accuracy: 97.99%\n",
            "WARNING:tensorflow:Compiled the loaded model, but the compiled metrics have yet to be built. `model.compile_metrics` will be empty until you train or evaluate the model.\n"
          ]
        },
        {
          "output_type": "stream",
          "name": "stderr",
          "text": [
            "WARNING:tensorflow:Compiled the loaded model, but the compiled metrics have yet to be built. `model.compile_metrics` will be empty until you train or evaluate the model.\n"
          ]
        },
        {
          "output_type": "stream",
          "name": "stdout",
          "text": [
            "temperature:32 Alpha:0.3\n",
            "Epoch 1: Class_accuracy: 95.01%\n",
            "Epoch 2: Class_accuracy: 96.57%\n",
            "Epoch 3: Class_accuracy: 96.61%\n",
            "Epoch 4: Class_accuracy: 97.42%\n",
            "Epoch 5: Class_accuracy: 97.61%\n",
            "Epoch 6: Class_accuracy: 97.45%\n",
            "Epoch 7: Class_accuracy: 97.39%\n",
            "Epoch 8: Class_accuracy: 97.88%\n",
            "Epoch 9: Class_accuracy: 97.58%\n",
            "Epoch 10: Class_accuracy: 97.70%\n",
            "Epoch 11: Class_accuracy: 97.75%\n",
            "Epoch 12: Class_accuracy: 97.66%\n",
            "WARNING:tensorflow:Compiled the loaded model, but the compiled metrics have yet to be built. `model.compile_metrics` will be empty until you train or evaluate the model.\n"
          ]
        },
        {
          "output_type": "stream",
          "name": "stderr",
          "text": [
            "WARNING:tensorflow:Compiled the loaded model, but the compiled metrics have yet to be built. `model.compile_metrics` will be empty until you train or evaluate the model.\n"
          ]
        },
        {
          "output_type": "stream",
          "name": "stdout",
          "text": [
            "temperature:32 Alpha:0.5\n",
            "Epoch 1: Class_accuracy: 95.17%\n",
            "Epoch 2: Class_accuracy: 96.49%\n",
            "Epoch 3: Class_accuracy: 97.00%\n",
            "Epoch 4: Class_accuracy: 97.40%\n",
            "Epoch 5: Class_accuracy: 97.33%\n",
            "Epoch 6: Class_accuracy: 97.34%\n",
            "Epoch 7: Class_accuracy: 96.84%\n",
            "Epoch 8: Class_accuracy: 97.74%\n",
            "Epoch 9: Class_accuracy: 97.89%\n",
            "Epoch 10: Class_accuracy: 97.64%\n",
            "Epoch 11: Class_accuracy: 97.91%\n",
            "Epoch 12: Class_accuracy: 97.90%\n",
            "WARNING:tensorflow:Compiled the loaded model, but the compiled metrics have yet to be built. `model.compile_metrics` will be empty until you train or evaluate the model.\n"
          ]
        },
        {
          "output_type": "stream",
          "name": "stderr",
          "text": [
            "WARNING:tensorflow:Compiled the loaded model, but the compiled metrics have yet to be built. `model.compile_metrics` will be empty until you train or evaluate the model.\n"
          ]
        },
        {
          "output_type": "stream",
          "name": "stdout",
          "text": [
            "temperature:32 Alpha:0.7\n",
            "Epoch 1: Class_accuracy: 95.43%\n",
            "Epoch 2: Class_accuracy: 96.73%\n",
            "Epoch 3: Class_accuracy: 97.05%\n",
            "Epoch 4: Class_accuracy: 97.57%\n",
            "Epoch 5: Class_accuracy: 97.31%\n",
            "Epoch 6: Class_accuracy: 97.71%\n",
            "Epoch 7: Class_accuracy: 97.13%\n",
            "Epoch 8: Class_accuracy: 97.44%\n",
            "Epoch 9: Class_accuracy: 97.75%\n",
            "Epoch 10: Class_accuracy: 97.54%\n",
            "Epoch 11: Class_accuracy: 97.51%\n",
            "Epoch 12: Class_accuracy: 97.90%\n",
            "WARNING:tensorflow:Compiled the loaded model, but the compiled metrics have yet to be built. `model.compile_metrics` will be empty until you train or evaluate the model.\n"
          ]
        },
        {
          "output_type": "stream",
          "name": "stderr",
          "text": [
            "WARNING:tensorflow:Compiled the loaded model, but the compiled metrics have yet to be built. `model.compile_metrics` will be empty until you train or evaluate the model.\n"
          ]
        },
        {
          "output_type": "stream",
          "name": "stdout",
          "text": [
            "temperature:32 Alpha:0.9\n",
            "Epoch 1: Class_accuracy: 94.98%\n",
            "Epoch 2: Class_accuracy: 96.28%\n",
            "Epoch 3: Class_accuracy: 97.05%\n",
            "Epoch 4: Class_accuracy: 97.15%\n",
            "Epoch 5: Class_accuracy: 97.34%\n",
            "Epoch 6: Class_accuracy: 97.36%\n",
            "Epoch 7: Class_accuracy: 97.49%\n",
            "Epoch 8: Class_accuracy: 97.42%\n",
            "Epoch 9: Class_accuracy: 97.64%\n",
            "Epoch 10: Class_accuracy: 97.51%\n",
            "Epoch 11: Class_accuracy: 97.19%\n",
            "Epoch 12: Class_accuracy: 97.41%\n",
            "WARNING:tensorflow:Compiled the loaded model, but the compiled metrics have yet to be built. `model.compile_metrics` will be empty until you train or evaluate the model.\n"
          ]
        },
        {
          "output_type": "stream",
          "name": "stderr",
          "text": [
            "WARNING:tensorflow:Compiled the loaded model, but the compiled metrics have yet to be built. `model.compile_metrics` will be empty until you train or evaluate the model.\n"
          ]
        },
        {
          "output_type": "stream",
          "name": "stdout",
          "text": [
            "temperature:64 Alpha:0.1\n",
            "Epoch 1: Class_accuracy: 95.13%\n",
            "Epoch 2: Class_accuracy: 96.31%\n",
            "Epoch 3: Class_accuracy: 96.43%\n",
            "Epoch 4: Class_accuracy: 96.88%\n",
            "Epoch 5: Class_accuracy: 97.39%\n",
            "Epoch 6: Class_accuracy: 97.49%\n",
            "Epoch 7: Class_accuracy: 97.52%\n",
            "Epoch 8: Class_accuracy: 97.54%\n",
            "Epoch 9: Class_accuracy: 97.47%\n",
            "Epoch 10: Class_accuracy: 97.86%\n",
            "Epoch 11: Class_accuracy: 97.34%\n",
            "Epoch 12: Class_accuracy: 97.86%\n",
            "WARNING:tensorflow:Compiled the loaded model, but the compiled metrics have yet to be built. `model.compile_metrics` will be empty until you train or evaluate the model.\n"
          ]
        },
        {
          "output_type": "stream",
          "name": "stderr",
          "text": [
            "WARNING:tensorflow:Compiled the loaded model, but the compiled metrics have yet to be built. `model.compile_metrics` will be empty until you train or evaluate the model.\n"
          ]
        },
        {
          "output_type": "stream",
          "name": "stdout",
          "text": [
            "temperature:64 Alpha:0.3\n",
            "Epoch 1: Class_accuracy: 95.28%\n",
            "Epoch 2: Class_accuracy: 96.84%\n",
            "Epoch 3: Class_accuracy: 96.75%\n",
            "Epoch 4: Class_accuracy: 97.29%\n",
            "Epoch 5: Class_accuracy: 97.18%\n",
            "Epoch 6: Class_accuracy: 97.45%\n",
            "Epoch 7: Class_accuracy: 97.63%\n",
            "Epoch 8: Class_accuracy: 97.40%\n",
            "Epoch 9: Class_accuracy: 98.08%\n",
            "Epoch 10: Class_accuracy: 97.72%\n",
            "Epoch 11: Class_accuracy: 96.96%\n",
            "Epoch 12: Class_accuracy: 97.44%\n",
            "WARNING:tensorflow:Compiled the loaded model, but the compiled metrics have yet to be built. `model.compile_metrics` will be empty until you train or evaluate the model.\n"
          ]
        },
        {
          "output_type": "stream",
          "name": "stderr",
          "text": [
            "WARNING:tensorflow:Compiled the loaded model, but the compiled metrics have yet to be built. `model.compile_metrics` will be empty until you train or evaluate the model.\n"
          ]
        },
        {
          "output_type": "stream",
          "name": "stdout",
          "text": [
            "temperature:64 Alpha:0.5\n",
            "Epoch 1: Class_accuracy: 94.55%\n",
            "Epoch 2: Class_accuracy: 96.30%\n",
            "Epoch 3: Class_accuracy: 96.78%\n",
            "Epoch 4: Class_accuracy: 96.60%\n",
            "Epoch 5: Class_accuracy: 97.50%\n",
            "Epoch 6: Class_accuracy: 97.53%\n",
            "Epoch 7: Class_accuracy: 97.51%\n",
            "Epoch 8: Class_accuracy: 97.68%\n",
            "Epoch 9: Class_accuracy: 97.67%\n",
            "Epoch 10: Class_accuracy: 97.89%\n",
            "Epoch 11: Class_accuracy: 97.92%\n",
            "Epoch 12: Class_accuracy: 97.39%\n",
            "WARNING:tensorflow:Compiled the loaded model, but the compiled metrics have yet to be built. `model.compile_metrics` will be empty until you train or evaluate the model.\n"
          ]
        },
        {
          "output_type": "stream",
          "name": "stderr",
          "text": [
            "WARNING:tensorflow:Compiled the loaded model, but the compiled metrics have yet to be built. `model.compile_metrics` will be empty until you train or evaluate the model.\n"
          ]
        },
        {
          "output_type": "stream",
          "name": "stdout",
          "text": [
            "temperature:64 Alpha:0.7\n",
            "Epoch 1: Class_accuracy: 95.35%\n",
            "Epoch 2: Class_accuracy: 96.03%\n",
            "Epoch 3: Class_accuracy: 96.85%\n",
            "Epoch 4: Class_accuracy: 97.41%\n",
            "Epoch 5: Class_accuracy: 97.10%\n",
            "Epoch 6: Class_accuracy: 97.22%\n",
            "Epoch 7: Class_accuracy: 97.60%\n",
            "Epoch 8: Class_accuracy: 97.59%\n",
            "Epoch 9: Class_accuracy: 97.65%\n",
            "Epoch 10: Class_accuracy: 97.71%\n",
            "Epoch 11: Class_accuracy: 97.60%\n",
            "Epoch 12: Class_accuracy: 97.85%\n",
            "WARNING:tensorflow:Compiled the loaded model, but the compiled metrics have yet to be built. `model.compile_metrics` will be empty until you train or evaluate the model.\n"
          ]
        },
        {
          "output_type": "stream",
          "name": "stderr",
          "text": [
            "WARNING:tensorflow:Compiled the loaded model, but the compiled metrics have yet to be built. `model.compile_metrics` will be empty until you train or evaluate the model.\n"
          ]
        },
        {
          "output_type": "stream",
          "name": "stdout",
          "text": [
            "temperature:64 Alpha:0.9\n",
            "Epoch 1: Class_accuracy: 95.08%\n",
            "Epoch 2: Class_accuracy: 96.68%\n",
            "Epoch 3: Class_accuracy: 96.61%\n",
            "Epoch 4: Class_accuracy: 97.09%\n",
            "Epoch 5: Class_accuracy: 97.42%\n",
            "Epoch 6: Class_accuracy: 97.42%\n",
            "Epoch 7: Class_accuracy: 97.50%\n",
            "Epoch 8: Class_accuracy: 97.38%\n",
            "Epoch 9: Class_accuracy: 97.41%\n",
            "Epoch 10: Class_accuracy: 97.64%\n",
            "Epoch 11: Class_accuracy: 97.44%\n",
            "Epoch 12: Class_accuracy: 97.59%\n",
            "WARNING:tensorflow:Compiled the loaded model, but the compiled metrics have yet to be built. `model.compile_metrics` will be empty until you train or evaluate the model.\n"
          ]
        },
        {
          "output_type": "stream",
          "name": "stderr",
          "text": [
            "WARNING:tensorflow:Compiled the loaded model, but the compiled metrics have yet to be built. `model.compile_metrics` will be empty until you train or evaluate the model.\n"
          ]
        }
      ],
      "source": [
        "T=[1,2,4,16,32,64]\n",
        "A=[0.1,0.3,0.5,0.7,0.9]\n",
        "y=[]\n",
        "for i in T:\n",
        "  for j in A:\n",
        "    DISTILLATION_TEMPERATURE = i # Temperature hyperparameter\n",
        "    ALPHA=j\n",
        "    fc_model=build_fc()\n",
        "    print('temperature:'+str(i)+' Alpha:'+str(j))\n",
        "    acu=train_and_evaluate(fc_model,compute_student_loss)\n",
        "    fc_model.save('student_MNIST_t'+str(i)+'a'+str(j)+'.h5')\n",
        "    y.append(acu)\n",
        "# train_and_evaluate(fc_model,compute_student_loss)"
      ]
    },
    {
      "cell_type": "code",
      "source": [
        "# fc_model.save('student_MNIST_4.h5')\n",
        "for i in range(6):\n",
        "  for j in range(5):\n",
        "    print('Temperature:'+str(T[i])+' Alpha:'+str(A[j])+' Accuracy:'+str(y[i*5+j]))"
      ],
      "metadata": {
        "colab": {
          "base_uri": "https://localhost:8080/"
        },
        "id": "woDvj3rRRYSK",
        "outputId": "1db3ff2a-1f87-42fa-ec61-cad29769533a"
      },
      "execution_count": null,
      "outputs": [
        {
          "output_type": "stream",
          "name": "stdout",
          "text": [
            "Temperature:1 Alpha:0.1 Accuracy:tf.Tensor(97.35000000000001, shape=(), dtype=float64)\n",
            "Temperature:1 Alpha:0.3 Accuracy:tf.Tensor(97.92999999999999, shape=(), dtype=float64)\n",
            "Temperature:1 Alpha:0.5 Accuracy:tf.Tensor(97.71, shape=(), dtype=float64)\n",
            "Temperature:1 Alpha:0.7 Accuracy:tf.Tensor(97.3, shape=(), dtype=float64)\n",
            "Temperature:1 Alpha:0.9 Accuracy:tf.Tensor(97.65, shape=(), dtype=float64)\n",
            "Temperature:2 Alpha:0.1 Accuracy:tf.Tensor(97.76, shape=(), dtype=float64)\n",
            "Temperature:2 Alpha:0.3 Accuracy:tf.Tensor(97.84, shape=(), dtype=float64)\n",
            "Temperature:2 Alpha:0.5 Accuracy:tf.Tensor(97.61, shape=(), dtype=float64)\n",
            "Temperature:2 Alpha:0.7 Accuracy:tf.Tensor(97.86, shape=(), dtype=float64)\n",
            "Temperature:2 Alpha:0.9 Accuracy:tf.Tensor(97.76, shape=(), dtype=float64)\n",
            "Temperature:4 Alpha:0.1 Accuracy:tf.Tensor(97.61999999999999, shape=(), dtype=float64)\n",
            "Temperature:4 Alpha:0.3 Accuracy:tf.Tensor(97.94, shape=(), dtype=float64)\n",
            "Temperature:4 Alpha:0.5 Accuracy:tf.Tensor(97.39, shape=(), dtype=float64)\n",
            "Temperature:4 Alpha:0.7 Accuracy:tf.Tensor(97.42, shape=(), dtype=float64)\n",
            "Temperature:4 Alpha:0.9 Accuracy:tf.Tensor(97.67, shape=(), dtype=float64)\n",
            "Temperature:16 Alpha:0.1 Accuracy:tf.Tensor(97.52, shape=(), dtype=float64)\n",
            "Temperature:16 Alpha:0.3 Accuracy:tf.Tensor(97.6, shape=(), dtype=float64)\n",
            "Temperature:16 Alpha:0.5 Accuracy:tf.Tensor(97.66, shape=(), dtype=float64)\n",
            "Temperature:16 Alpha:0.7 Accuracy:tf.Tensor(97.75, shape=(), dtype=float64)\n",
            "Temperature:16 Alpha:0.9 Accuracy:tf.Tensor(97.78, shape=(), dtype=float64)\n",
            "Temperature:32 Alpha:0.1 Accuracy:tf.Tensor(97.99, shape=(), dtype=float64)\n",
            "Temperature:32 Alpha:0.3 Accuracy:tf.Tensor(97.66, shape=(), dtype=float64)\n",
            "Temperature:32 Alpha:0.5 Accuracy:tf.Tensor(97.89999999999999, shape=(), dtype=float64)\n",
            "Temperature:32 Alpha:0.7 Accuracy:tf.Tensor(97.89999999999999, shape=(), dtype=float64)\n",
            "Temperature:32 Alpha:0.9 Accuracy:tf.Tensor(97.41, shape=(), dtype=float64)\n",
            "Temperature:64 Alpha:0.1 Accuracy:tf.Tensor(97.86, shape=(), dtype=float64)\n",
            "Temperature:64 Alpha:0.3 Accuracy:tf.Tensor(97.44, shape=(), dtype=float64)\n",
            "Temperature:64 Alpha:0.5 Accuracy:tf.Tensor(97.39, shape=(), dtype=float64)\n",
            "Temperature:64 Alpha:0.7 Accuracy:tf.Tensor(97.85000000000001, shape=(), dtype=float64)\n",
            "Temperature:64 Alpha:0.9 Accuracy:tf.Tensor(97.59, shape=(), dtype=float64)\n"
          ]
        }
      ]
    },
    {
      "cell_type": "code",
      "source": [
        ""
      ],
      "metadata": {
        "id": "-juu0iW7QppY"
      },
      "execution_count": null,
      "outputs": []
    },
    {
      "cell_type": "markdown",
      "metadata": {
        "id": "sj1N38fnRTNB"
      },
      "source": [
        "# Test accuracy vs. tempreture curve"
      ]
    },
    {
      "cell_type": "code",
      "execution_count": null,
      "metadata": {
        "colab": {
          "base_uri": "https://localhost:8080/"
        },
        "id": "gX4dbazrRWIz",
        "outputId": "add4133a-4050-48c7-d64a-aa4f132b5728"
      },
      "outputs": [
        {
          "output_type": "stream",
          "name": "stdout",
          "text": [
            "temperature:1\n",
            "Epoch 1: Class_accuracy: 94.15%\n",
            "Epoch 2: Class_accuracy: 96.51%\n",
            "Epoch 3: Class_accuracy: 96.66%\n",
            "Epoch 4: Class_accuracy: 97.15%\n",
            "Epoch 5: Class_accuracy: 97.68%\n",
            "Epoch 6: Class_accuracy: 97.70%\n",
            "Epoch 7: Class_accuracy: 97.45%\n",
            "Epoch 8: Class_accuracy: 97.74%\n",
            "Epoch 9: Class_accuracy: 97.67%\n",
            "Epoch 10: Class_accuracy: 97.87%\n",
            "Epoch 11: Class_accuracy: 97.60%\n",
            "Epoch 12: Class_accuracy: 98.04%\n",
            "WARNING:tensorflow:Compiled the loaded model, but the compiled metrics have yet to be built. `model.compile_metrics` will be empty until you train or evaluate the model.\n"
          ]
        },
        {
          "output_type": "stream",
          "name": "stderr",
          "text": [
            "WARNING:tensorflow:Compiled the loaded model, but the compiled metrics have yet to be built. `model.compile_metrics` will be empty until you train or evaluate the model.\n"
          ]
        },
        {
          "output_type": "stream",
          "name": "stdout",
          "text": [
            "temperature:2\n",
            "Epoch 1: Class_accuracy: 95.35%\n",
            "Epoch 2: Class_accuracy: 96.51%\n",
            "Epoch 3: Class_accuracy: 96.84%\n",
            "Epoch 4: Class_accuracy: 96.90%\n",
            "Epoch 5: Class_accuracy: 97.55%\n",
            "Epoch 6: Class_accuracy: 97.66%\n",
            "Epoch 7: Class_accuracy: 97.62%\n",
            "Epoch 8: Class_accuracy: 97.22%\n",
            "Epoch 9: Class_accuracy: 97.50%\n",
            "Epoch 10: Class_accuracy: 97.73%\n",
            "Epoch 11: Class_accuracy: 97.62%\n",
            "Epoch 12: Class_accuracy: 97.70%\n",
            "WARNING:tensorflow:Compiled the loaded model, but the compiled metrics have yet to be built. `model.compile_metrics` will be empty until you train or evaluate the model.\n"
          ]
        },
        {
          "output_type": "stream",
          "name": "stderr",
          "text": [
            "WARNING:tensorflow:Compiled the loaded model, but the compiled metrics have yet to be built. `model.compile_metrics` will be empty until you train or evaluate the model.\n"
          ]
        },
        {
          "output_type": "stream",
          "name": "stdout",
          "text": [
            "temperature:4\n",
            "Epoch 1: Class_accuracy: 95.00%\n",
            "Epoch 2: Class_accuracy: 96.49%\n",
            "Epoch 3: Class_accuracy: 96.59%\n",
            "Epoch 4: Class_accuracy: 96.99%\n",
            "Epoch 5: Class_accuracy: 97.36%\n",
            "Epoch 6: Class_accuracy: 97.30%\n",
            "Epoch 7: Class_accuracy: 97.62%\n",
            "Epoch 8: Class_accuracy: 97.66%\n",
            "Epoch 9: Class_accuracy: 97.41%\n",
            "Epoch 10: Class_accuracy: 97.53%\n",
            "Epoch 11: Class_accuracy: 97.52%\n",
            "Epoch 12: Class_accuracy: 97.74%\n",
            "WARNING:tensorflow:Compiled the loaded model, but the compiled metrics have yet to be built. `model.compile_metrics` will be empty until you train or evaluate the model.\n"
          ]
        },
        {
          "output_type": "stream",
          "name": "stderr",
          "text": [
            "WARNING:tensorflow:Compiled the loaded model, but the compiled metrics have yet to be built. `model.compile_metrics` will be empty until you train or evaluate the model.\n"
          ]
        },
        {
          "output_type": "stream",
          "name": "stdout",
          "text": [
            "temperature:16\n",
            "Epoch 1: Class_accuracy: 95.35%\n",
            "Epoch 2: Class_accuracy: 96.63%\n",
            "Epoch 3: Class_accuracy: 96.66%\n",
            "Epoch 4: Class_accuracy: 97.42%\n",
            "Epoch 5: Class_accuracy: 97.65%\n",
            "Epoch 6: Class_accuracy: 97.73%\n",
            "Epoch 7: Class_accuracy: 97.82%\n",
            "Epoch 8: Class_accuracy: 97.83%\n",
            "Epoch 9: Class_accuracy: 97.72%\n",
            "Epoch 10: Class_accuracy: 97.76%\n",
            "Epoch 11: Class_accuracy: 97.51%\n",
            "Epoch 12: Class_accuracy: 97.60%\n",
            "WARNING:tensorflow:Compiled the loaded model, but the compiled metrics have yet to be built. `model.compile_metrics` will be empty until you train or evaluate the model.\n"
          ]
        },
        {
          "output_type": "stream",
          "name": "stderr",
          "text": [
            "WARNING:tensorflow:Compiled the loaded model, but the compiled metrics have yet to be built. `model.compile_metrics` will be empty until you train or evaluate the model.\n"
          ]
        },
        {
          "output_type": "stream",
          "name": "stdout",
          "text": [
            "temperature:32\n",
            "Epoch 1: Class_accuracy: 95.28%\n",
            "Epoch 2: Class_accuracy: 95.77%\n",
            "Epoch 3: Class_accuracy: 97.01%\n",
            "Epoch 4: Class_accuracy: 97.25%\n",
            "Epoch 5: Class_accuracy: 97.46%\n",
            "Epoch 6: Class_accuracy: 96.98%\n",
            "Epoch 7: Class_accuracy: 97.45%\n",
            "Epoch 8: Class_accuracy: 97.34%\n",
            "Epoch 9: Class_accuracy: 98.01%\n",
            "Epoch 10: Class_accuracy: 97.89%\n",
            "Epoch 11: Class_accuracy: 97.60%\n",
            "Epoch 12: Class_accuracy: 97.80%\n",
            "WARNING:tensorflow:Compiled the loaded model, but the compiled metrics have yet to be built. `model.compile_metrics` will be empty until you train or evaluate the model.\n"
          ]
        },
        {
          "output_type": "stream",
          "name": "stderr",
          "text": [
            "WARNING:tensorflow:Compiled the loaded model, but the compiled metrics have yet to be built. `model.compile_metrics` will be empty until you train or evaluate the model.\n"
          ]
        },
        {
          "output_type": "stream",
          "name": "stdout",
          "text": [
            "temperature:64\n",
            "Epoch 1: Class_accuracy: 95.09%\n",
            "Epoch 2: Class_accuracy: 96.50%\n",
            "Epoch 3: Class_accuracy: 97.13%\n",
            "Epoch 4: Class_accuracy: 96.78%\n",
            "Epoch 5: Class_accuracy: 97.24%\n",
            "Epoch 6: Class_accuracy: 97.61%\n",
            "Epoch 7: Class_accuracy: 97.55%\n",
            "Epoch 8: Class_accuracy: 97.22%\n",
            "Epoch 9: Class_accuracy: 97.33%\n",
            "Epoch 10: Class_accuracy: 97.45%\n",
            "Epoch 11: Class_accuracy: 97.81%\n",
            "Epoch 12: Class_accuracy: 97.73%\n",
            "WARNING:tensorflow:Compiled the loaded model, but the compiled metrics have yet to be built. `model.compile_metrics` will be empty until you train or evaluate the model.\n"
          ]
        },
        {
          "output_type": "stream",
          "name": "stderr",
          "text": [
            "WARNING:tensorflow:Compiled the loaded model, but the compiled metrics have yet to be built. `model.compile_metrics` will be empty until you train or evaluate the model.\n"
          ]
        }
      ],
      "source": [
        "ALPHA=0.5\n",
        "T=[1,2,4,16,32,64]\n",
        "y=[]\n",
        "for i in T:\n",
        "  DISTILLATION_TEMPERATURE = i # Temperature hyperparameter\n",
        "  fc_model=build_fc()\n",
        "  print('temperature:'+str(i))\n",
        "  acu=train_and_evaluate(fc_model,compute_student_loss)\n",
        "  fc_model.save('student_MNIST_'+str(i)+'.h5')\n",
        "  y.append(acu)"
      ]
    },
    {
      "cell_type": "code",
      "execution_count": null,
      "metadata": {
        "id": "SiqvLMVWn1Dw",
        "colab": {
          "base_uri": "https://localhost:8080/",
          "height": 313
        },
        "outputId": "efb73695-7bce-4560-9804-e939bf9cd3c1"
      },
      "outputs": [
        {
          "output_type": "stream",
          "name": "stderr",
          "text": [
            "WARNING:matplotlib.legend:No handles with labels found to put in legend.\n"
          ]
        },
        {
          "output_type": "display_data",
          "data": {
            "text/plain": [
              "<Figure size 432x288 with 1 Axes>"
            ],
            "image/png": "[encoded data removed]"
          },
          "metadata": {
            "needs_background": "light"
          }
        }
      ],
      "source": [
        "import matplotlib.pyplot as plt\n",
        "x=['1','2','4','16','32','64']\n",
        "l=plt.plot(x,y)\n",
        "plt.title('Test accuracy vs. tempreture curve')\n",
        "plt.xlabel('temperature')\n",
        "plt.ylabel('test_accuracy')\n",
        "plt.legend()\n",
        "plt.show()"
      ]
    },
    {
      "cell_type": "code",
      "source": [
        "import matplotlib.pyplot as plt\n",
        "x=['1','2','4','16','32','64']\n",
        "l=plt.plot(T,y)\n",
        "plt.title('Test accuracy vs. tempreture curve')\n",
        "plt.xlabel('temperature')\n",
        "plt.ylabel('test_accuracy')\n",
        "plt.legend()\n",
        "plt.show()"
      ],
      "metadata": {
        "id": "I--rxLfDHGcN",
        "colab": {
          "base_uri": "https://localhost:8080/",
          "height": 313
        },
        "outputId": "611eba6f-71a0-4052-f4ce-85fdd421ab9b"
      },
      "execution_count": null,
      "outputs": [
        {
          "output_type": "stream",
          "name": "stderr",
          "text": [
            "WARNING:matplotlib.legend:No handles with labels found to put in legend.\n"
          ]
        },
        {
          "output_type": "display_data",
          "data": {
            "text/plain": [
              "<Figure size 432x288 with 1 Axes>"
            ],
            "image/png": "[encoded data removed]"
          },
          "metadata": {
            "needs_background": "light"
          }
        }
      ]
    },
    {
      "cell_type": "markdown",
      "metadata": {
        "id": "WNrH_1emRbGA"
      },
      "source": [
        "# Train student from scratch"
      ]
    },
    {
      "cell_type": "code",
      "execution_count": null,
      "metadata": {
        "id": "HjospsxIRbQ6",
        "colab": {
          "base_uri": "https://localhost:8080/"
        },
        "outputId": "e1d7e8d9-722f-44f7-aabf-57896f8c04fd"
      },
      "outputs": [
        {
          "output_type": "stream",
          "name": "stdout",
          "text": [
            "Epoch 1: Class_accuracy: 94.74%\n",
            "Epoch 2: Class_accuracy: 96.23%\n",
            "Epoch 3: Class_accuracy: 96.85%\n",
            "Epoch 4: Class_accuracy: 97.13%\n",
            "Epoch 5: Class_accuracy: 97.35%\n",
            "Epoch 6: Class_accuracy: 97.65%\n",
            "Epoch 7: Class_accuracy: 97.28%\n",
            "Epoch 8: Class_accuracy: 97.59%\n",
            "Epoch 9: Class_accuracy: 97.89%\n",
            "Epoch 10: Class_accuracy: 97.89%\n",
            "Epoch 11: Class_accuracy: 97.63%\n",
            "Epoch 12: Class_accuracy: 97.71%\n"
          ]
        },
        {
          "output_type": "execute_result",
          "data": {
            "text/plain": [
              "<tf.Tensor: shape=(), dtype=float64, numpy=97.71>"
            ]
          },
          "metadata": {},
          "execution_count": 14
        }
      ],
      "source": [
        "# Build fully connected student.\n",
        "# fc_model_no_distillation = tf.keras.Sequential()\n",
        "fc_model_no_distillation = build_fc()\n",
        "\n",
        "def compute_plain_cross_entropy_loss(images, labels):\n",
        "  \"\"\"Compute plain loss for given images and labels.\n",
        "\n",
        "  For fair comparison and convenience, this function also performs a\n",
        "  LogSumExp over subclasses, but does not perform subclass distillation.\n",
        "\n",
        "  Args:\n",
        "    images: Tensor representing a batch of images.\n",
        "    labels: Tensor representing a batch of labels.\n",
        "\n",
        "  Returns:\n",
        "    Scalar loss Tensor.\n",
        "  \"\"\"\n",
        "  # your code start from here for step 7\n",
        "  student_subclass_logits = fc_model_no_distillation(images, training=True)\n",
        "  cross_entropy_loss = tf.nn.sparse_softmax_cross_entropy_with_logits(logits=student_subclass_logits, labels=tf.argmax(labels, 1))\n",
        "\n",
        "  \n",
        "  return cross_entropy_loss\n",
        "\n",
        "\n",
        "train_and_evaluate(fc_model_no_distillation, compute_plain_cross_entropy_loss)"
      ]
    },
    {
      "cell_type": "markdown",
      "metadata": {
        "id": "yq3JTpQ4RuhR"
      },
      "source": [
        "# Comparing the teacher and student model (number of of parameters and FLOPs) "
      ]
    },
    {
      "cell_type": "code",
      "source": [
        "!pip install keras_flops"
      ],
      "metadata": {
        "colab": {
          "base_uri": "https://localhost:8080/"
        },
        "id": "alQMp4O9rgaE",
        "outputId": "3dd3dccf-bdc0-4bb1-9fa0-c004a4cdf3eb"
      },
      "execution_count": null,
      "outputs": [
        {
          "output_type": "stream",
          "name": "stdout",
          "text": [
            "Collecting keras_flops\n",
            "  Downloading keras_flops-0.1.2-py3-none-any.whl (5.3 kB)\n",
            "Requirement already satisfied: tensorflow<3.0,>=2.2 in /usr/local/lib/python3.7/dist-packages (from keras_flops) (2.8.0)\n",
            "Requirement already satisfied: flatbuffers>=1.12 in /usr/local/lib/python3.7/dist-packages (from tensorflow<3.0,>=2.2->keras_flops) (2.0)\n",
            "Requirement already satisfied: google-pasta>=0.1.1 in /usr/local/lib/python3.7/dist-packages (from tensorflow<3.0,>=2.2->keras_flops) (0.2.0)\n",
            "Requirement already satisfied: six>=1.12.0 in /usr/local/lib/python3.7/dist-packages (from tensorflow<3.0,>=2.2->keras_flops) (1.15.0)\n",
            "Requirement already satisfied: setuptools in /usr/local/lib/python3.7/dist-packages (from tensorflow<3.0,>=2.2->keras_flops) (57.4.0)\n",
            "Requirement already satisfied: h5py>=2.9.0 in /usr/local/lib/python3.7/dist-packages (from tensorflow<3.0,>=2.2->keras_flops) (3.1.0)\n",
            "Requirement already satisfied: keras-preprocessing>=1.1.1 in /usr/local/lib/python3.7/dist-packages (from tensorflow<3.0,>=2.2->keras_flops) (1.1.2)\n",
            "Requirement already satisfied: typing-extensions>=3.6.6 in /usr/local/lib/python3.7/dist-packages (from tensorflow<3.0,>=2.2->keras_flops) (3.10.0.2)\n",
            "Requirement already satisfied: opt-einsum>=2.3.2 in /usr/local/lib/python3.7/dist-packages (from tensorflow<3.0,>=2.2->keras_flops) (3.3.0)\n",
            "Requirement already satisfied: grpcio<2.0,>=1.24.3 in /usr/local/lib/python3.7/dist-packages (from tensorflow<3.0,>=2.2->keras_flops) (1.44.0)\n",
            "Requirement already satisfied: libclang>=9.0.1 in /usr/local/lib/python3.7/dist-packages (from tensorflow<3.0,>=2.2->keras_flops) (13.0.0)\n",
            "Requirement already satisfied: gast>=0.2.1 in /usr/local/lib/python3.7/dist-packages (from tensorflow<3.0,>=2.2->keras_flops) (0.5.3)\n",
            "Requirement already satisfied: protobuf>=3.9.2 in /usr/local/lib/python3.7/dist-packages (from tensorflow<3.0,>=2.2->keras_flops) (3.17.3)\n",
            "Collecting tf-estimator-nightly==2.8.0.dev2021122109\n",
            "  Downloading tf_estimator_nightly-2.8.0.dev2021122109-py2.py3-none-any.whl (462 kB)\n",
            "\u001b[K     |████████████████████████████████| 462 kB 4.2 MB/s \n",
            "\u001b[?25hRequirement already satisfied: termcolor>=1.1.0 in /usr/local/lib/python3.7/dist-packages (from tensorflow<3.0,>=2.2->keras_flops) (1.1.0)\n",
            "Requirement already satisfied: keras<2.9,>=2.8.0rc0 in /usr/local/lib/python3.7/dist-packages (from tensorflow<3.0,>=2.2->keras_flops) (2.8.0)\n",
            "Requirement already satisfied: wrapt>=1.11.0 in /usr/local/lib/python3.7/dist-packages (from tensorflow<3.0,>=2.2->keras_flops) (1.14.0)\n",
            "Requirement already satisfied: tensorflow-io-gcs-filesystem>=0.23.1 in /usr/local/lib/python3.7/dist-packages (from tensorflow<3.0,>=2.2->keras_flops) (0.24.0)\n",
            "Requirement already satisfied: tensorboard<2.9,>=2.8 in /usr/local/lib/python3.7/dist-packages (from tensorflow<3.0,>=2.2->keras_flops) (2.8.0)\n",
            "Requirement already satisfied: astunparse>=1.6.0 in /usr/local/lib/python3.7/dist-packages (from tensorflow<3.0,>=2.2->keras_flops) (1.6.3)\n",
            "Requirement already satisfied: absl-py>=0.4.0 in /usr/local/lib/python3.7/dist-packages (from tensorflow<3.0,>=2.2->keras_flops) (1.0.0)\n",
            "Requirement already satisfied: numpy>=1.20 in /usr/local/lib/python3.7/dist-packages (from tensorflow<3.0,>=2.2->keras_flops) (1.21.5)\n",
            "Requirement already satisfied: wheel<1.0,>=0.23.0 in /usr/local/lib/python3.7/dist-packages (from astunparse>=1.6.0->tensorflow<3.0,>=2.2->keras_flops) (0.37.1)\n",
            "Requirement already satisfied: cached-property in /usr/local/lib/python3.7/dist-packages (from h5py>=2.9.0->tensorflow<3.0,>=2.2->keras_flops) (1.5.2)\n",
            "Requirement already satisfied: google-auth<3,>=1.6.3 in /usr/local/lib/python3.7/dist-packages (from tensorboard<2.9,>=2.8->tensorflow<3.0,>=2.2->keras_flops) (1.35.0)\n",
            "Requirement already satisfied: werkzeug>=0.11.15 in /usr/local/lib/python3.7/dist-packages (from tensorboard<2.9,>=2.8->tensorflow<3.0,>=2.2->keras_flops) (1.0.1)\n",
            "Requirement already satisfied: tensorboard-plugin-wit>=1.6.0 in /usr/local/lib/python3.7/dist-packages (from tensorboard<2.9,>=2.8->tensorflow<3.0,>=2.2->keras_flops) (1.8.1)\n",
            "Requirement already satisfied: tensorboard-data-server<0.7.0,>=0.6.0 in /usr/local/lib/python3.7/dist-packages (from tensorboard<2.9,>=2.8->tensorflow<3.0,>=2.2->keras_flops) (0.6.1)\n",
            "Requirement already satisfied: google-auth-oauthlib<0.5,>=0.4.1 in /usr/local/lib/python3.7/dist-packages (from tensorboard<2.9,>=2.8->tensorflow<3.0,>=2.2->keras_flops) (0.4.6)\n",
            "Requirement already satisfied: markdown>=2.6.8 in /usr/local/lib/python3.7/dist-packages (from tensorboard<2.9,>=2.8->tensorflow<3.0,>=2.2->keras_flops) (3.3.6)\n",
            "Requirement already satisfied: requests<3,>=2.21.0 in /usr/local/lib/python3.7/dist-packages (from tensorboard<2.9,>=2.8->tensorflow<3.0,>=2.2->keras_flops) (2.23.0)\n",
            "Requirement already satisfied: pyasn1-modules>=0.2.1 in /usr/local/lib/python3.7/dist-packages (from google-auth<3,>=1.6.3->tensorboard<2.9,>=2.8->tensorflow<3.0,>=2.2->keras_flops) (0.2.8)\n",
            "Requirement already satisfied: cachetools<5.0,>=2.0.0 in /usr/local/lib/python3.7/dist-packages (from google-auth<3,>=1.6.3->tensorboard<2.9,>=2.8->tensorflow<3.0,>=2.2->keras_flops) (4.2.4)\n",
            "Requirement already satisfied: rsa<5,>=3.1.4 in /usr/local/lib/python3.7/dist-packages (from google-auth<3,>=1.6.3->tensorboard<2.9,>=2.8->tensorflow<3.0,>=2.2->keras_flops) (4.8)\n",
            "Requirement already satisfied: requests-oauthlib>=0.7.0 in /usr/local/lib/python3.7/dist-packages (from google-auth-oauthlib<0.5,>=0.4.1->tensorboard<2.9,>=2.8->tensorflow<3.0,>=2.2->keras_flops) (1.3.1)\n",
            "Requirement already satisfied: importlib-metadata>=4.4 in /usr/local/lib/python3.7/dist-packages (from markdown>=2.6.8->tensorboard<2.9,>=2.8->tensorflow<3.0,>=2.2->keras_flops) (4.11.3)\n",
            "Requirement already satisfied: zipp>=0.5 in /usr/local/lib/python3.7/dist-packages (from importlib-metadata>=4.4->markdown>=2.6.8->tensorboard<2.9,>=2.8->tensorflow<3.0,>=2.2->keras_flops) (3.7.0)\n",
            "Requirement already satisfied: pyasn1<0.5.0,>=0.4.6 in /usr/local/lib/python3.7/dist-packages (from pyasn1-modules>=0.2.1->google-auth<3,>=1.6.3->tensorboard<2.9,>=2.8->tensorflow<3.0,>=2.2->keras_flops) (0.4.8)\n",
            "Requirement already satisfied: chardet<4,>=3.0.2 in /usr/local/lib/python3.7/dist-packages (from requests<3,>=2.21.0->tensorboard<2.9,>=2.8->tensorflow<3.0,>=2.2->keras_flops) (3.0.4)\n",
            "Requirement already satisfied: urllib3!=1.25.0,!=1.25.1,<1.26,>=1.21.1 in /usr/local/lib/python3.7/dist-packages (from requests<3,>=2.21.0->tensorboard<2.9,>=2.8->tensorflow<3.0,>=2.2->keras_flops) (1.24.3)\n",
            "Requirement already satisfied: idna<3,>=2.5 in /usr/local/lib/python3.7/dist-packages (from requests<3,>=2.21.0->tensorboard<2.9,>=2.8->tensorflow<3.0,>=2.2->keras_flops) (2.10)\n",
            "Requirement already satisfied: certifi>=2017.4.17 in /usr/local/lib/python3.7/dist-packages (from requests<3,>=2.21.0->tensorboard<2.9,>=2.8->tensorflow<3.0,>=2.2->keras_flops) (2021.10.8)\n",
            "Requirement already satisfied: oauthlib>=3.0.0 in /usr/local/lib/python3.7/dist-packages (from requests-oauthlib>=0.7.0->google-auth-oauthlib<0.5,>=0.4.1->tensorboard<2.9,>=2.8->tensorflow<3.0,>=2.2->keras_flops) (3.2.0)\n",
            "Installing collected packages: tf-estimator-nightly, keras-flops\n",
            "Successfully installed keras-flops-0.1.2 tf-estimator-nightly-2.8.0.dev2021122109\n"
          ]
        }
      ]
    },
    {
      "cell_type": "code",
      "execution_count": null,
      "metadata": {
        "id": "4V8GB2yRRuxF",
        "colab": {
          "base_uri": "https://localhost:8080/"
        },
        "outputId": "d9fb74de-d2bc-43d1-f71b-276867c75e28"
      },
      "outputs": [
        {
          "output_type": "stream",
          "name": "stdout",
          "text": [
            "teacher model:\n",
            "Parameter number:1011466\n",
            "WARNING:tensorflow:From /usr/local/lib/python3.7/dist-packages/tensorflow/python/ops/nn_ops.py:5214: tensor_shape_from_node_def_name (from tensorflow.python.framework.graph_util_impl) is deprecated and will be removed in a future version.\n",
            "Instructions for updating:\n",
            "Use `tf.compat.v1.graph_util.tensor_shape_from_node_def_name`\n"
          ]
        },
        {
          "output_type": "stream",
          "name": "stderr",
          "text": [
            "WARNING:tensorflow:From /usr/local/lib/python3.7/dist-packages/tensorflow/python/ops/nn_ops.py:5214: tensor_shape_from_node_def_name (from tensorflow.python.framework.graph_util_impl) is deprecated and will be removed in a future version.\n",
            "Instructions for updating:\n",
            "Use `tf.compat.v1.graph_util.tensor_shape_from_node_def_name`\n"
          ]
        },
        {
          "output_type": "stream",
          "name": "stdout",
          "text": [
            "FlOPs:5.642779648\n",
            "student model with KD:\n",
            "Parameter number:1238730\n",
            "FlOPs:0.633838592\n",
            "student model without KD:\n",
            "Parameter number:1238730\n",
            "FlOPs:0.633838592\n"
          ]
        }
      ],
      "source": [
        "from keras_flops import get_flops\n",
        "# flops = tf.profiler.profile(fc_model, options=tf.profiler.ProfileOptionBuilder.float_operation())\n",
        "print('teacher model:')\n",
        "print('Parameter number:'+str(np.sum([np.prod(vp.get_shape().as_list()) for vp in cnn_model.variables])))\n",
        "print('FlOPs:'+str(get_flops(cnn_model,batch_size=BATCH_SIZE)/1000000000.0))\n",
        "print('student model with KD:')\n",
        "print('Parameter number:'+str(np.sum([np.prod(vp.get_shape().as_list()) for vp in fc_model.variables])))\n",
        "print('FlOPs:'+str(get_flops(fc_model,batch_size=BATCH_SIZE)/1000000000.0))\n",
        "print('student model without KD:')\n",
        "print('Parameter number:'+str(np.sum([np.prod(vp.get_shape().as_list()) for vp in fc_model_no_distillation.variables])))\n",
        "print('FlOPs:'+str(get_flops(fc_model_no_distillation,batch_size=BATCH_SIZE)/1000000000.0))\n",
        "# flops = tf.profiler.experimental.Profile(cnn_model, options=tf.profiler.ProfileOptionBuilder.float_operation())\n",
        "# params = tf.profiler.profile(cnn_model, options=tf.profiler.ProfileOptionBuilder.trainable_variables_parameter())\n",
        "# print('student model:')\n",
        "# flops = tf.profiler.profile(fc_model, options=tf.profiler.ProfileOptionBuilder.float_operation())\n",
        "# params = tf.profiler.profile(fc_model, options=tf.profiler.ProfileOptionBuilder.trainable_variables_parameter())"
      ]
    },
    {
      "cell_type": "markdown",
      "metadata": {
        "id": "8b5yNhJfRu-7"
      },
      "source": [
        "# XAI method to explain models"
      ]
    },
    {
      "cell_type": "code",
      "execution_count": null,
      "metadata": {
        "id": "yFgp5kA5RvID"
      },
      "outputs": [],
      "source": [
        "# your code start from here for step 9\n",
        "import copy\n",
        "from PIL import Image, ImageDraw\n",
        "\n",
        "def create_random_mask(h=7,\n",
        "                       w=7,\n",
        "                       H=28,\n",
        "                       W=28,\n",
        "                       p_1=0.5,\n",
        "                       resample=Image.BILINEAR):\n",
        "    '''\n",
        "    Generates one random mask utilized in RISE\n",
        "    inputs:\n",
        "        h, w: initial size of binary mask\n",
        "        H, W: final size of the upsampled mask\n",
        "        p_1: probability of actiating pixels in the down-sampled masks.\n",
        "        interp: upsampling technique.\n",
        "    returns:\n",
        "        mask: a smooth mask with the values in range [0,1] with size of HxW.\n",
        "    '''\n",
        "    assert H > h, 'Masks should be resized to higher dimensions.'\n",
        "    assert W > w, 'Masks should be resized to higher dimensions.'\n",
        "    # create random binary hxw mask\n",
        "    mask = np.random.choice([0, 1], size=(h, w), p=[1 - p_1, p_1])\n",
        "\n",
        "    # upsample mask to (h+H,w+W)\n",
        "    mask = Image.fromarray(mask * 255.)\n",
        "    mask = mask.resize((H + h, W + w), resample=resample)\n",
        "    mask = np.array(mask)\n",
        "\n",
        "    # randomly crop mask to HxW\n",
        "    w_crop = np.random.randint(0, w + 1)\n",
        "    h_crop = np.random.randint(0, h + 1)\n",
        "    mask = mask[h_crop:H + h_crop, w_crop:W + w_crop]\n",
        "\n",
        "    # normalize between 0 and 1\n",
        "    mask /= np.max(mask)\n",
        "\n",
        "    return mask\n",
        "\n",
        "def RISE(img, model, class_index, N_MASKS=8000, H=28, W=28, C=1):\n",
        "    '''\n",
        "\timg: a 3-D input image\n",
        "\tmodel: a trained model\n",
        "\tclass_index; The class of interest\n",
        "\tN_MASKS: The number of random masks to be generated\n",
        "\tH,W,C: The desired dimensions of the random masks\n",
        "\t'''\n",
        "    X = np.zeros(shape=(N_MASKS, H, W, C), dtype=np.float32)\n",
        "    masks = np.zeros((N_MASKS, H, W), dtype=np.float32)\n",
        "    for i in range(N_MASKS):\n",
        "        m = create_random_mask(H=H, W=W)\n",
        "        masks[i] = m\n",
        "        # print(img)\n",
        "        # x = img.numpy()\n",
        "        x = img.copy()\n",
        "        if C==1:\n",
        "          x[:, :, 0] *= m\n",
        "        if C==3:\n",
        "          x[:, :, 0] *= m\n",
        "          x[:, :, 1] *= m\n",
        "          x[:, :, 2] *= m\n",
        "        X[i] = x\n",
        "    preds_masked = model.predict(X, verbose=0)\n",
        "    sum_mask = np.zeros(masks[0].shape, dtype=np.float32)\n",
        "\n",
        "    # np.einsum???\n",
        "    for i, mask in enumerate(masks):\n",
        "        # print(i)\n",
        "        # print(mask)\n",
        "        m = mask * preds_masked[i, class_index]\n",
        "        sum_mask += m\n",
        "\n",
        "    sum_mask -= np.min(sum_mask)\n",
        "    sum_mask /= np.max(sum_mask)\n",
        "    return sum_mask\n"
      ]
    },
    {
      "cell_type": "code",
      "source": [
        "dataf, label = iter(mnist_train).next()\n",
        "# index in range [0,255]\n",
        "index = 3"
      ],
      "metadata": {
        "id": "WMu8ekLAkjXI"
      },
      "execution_count": null,
      "outputs": []
    },
    {
      "cell_type": "code",
      "source": [
        "cnn_model.summary()\n",
        "fc_model.summary()\n",
        "fc_model_no_distillation.summary()"
      ],
      "metadata": {
        "id": "YvZSa8Bnl3fi",
        "colab": {
          "base_uri": "https://localhost:8080/"
        },
        "outputId": "3be1530a-84b1-45ec-b461-576b9b1b3971"
      },
      "execution_count": null,
      "outputs": [
        {
          "output_type": "stream",
          "name": "stdout",
          "text": [
            "Model: \"sequential\"\n",
            "_________________________________________________________________\n",
            " Layer (type)                Output Shape              Param #   \n",
            "=================================================================\n",
            " conv2d (Conv2D)             (None, 26, 26, 32)        320       \n",
            "                                                                 \n",
            " max_pooling2d (MaxPooling2D  (None, 25, 25, 32)       0         \n",
            " )                                                               \n",
            "                                                                 \n",
            " conv2d_1 (Conv2D)           (None, 23, 23, 64)        18496     \n",
            "                                                                 \n",
            " max_pooling2d_1 (MaxPooling  (None, 11, 11, 64)       0         \n",
            " 2D)                                                             \n",
            "                                                                 \n",
            " flatten (Flatten)           (None, 7744)              0         \n",
            "                                                                 \n",
            " dropout (Dropout)           (None, 7744)              0         \n",
            "                                                                 \n",
            " dense (Dense)               (None, 128)               991360    \n",
            "                                                                 \n",
            " dropout_1 (Dropout)         (None, 128)               0         \n",
            "                                                                 \n",
            " dense_1 (Dense)             (None, 10)                1290      \n",
            "                                                                 \n",
            "=================================================================\n",
            "Total params: 1,011,466\n",
            "Trainable params: 1,011,466\n",
            "Non-trainable params: 0\n",
            "_________________________________________________________________\n",
            "Model: \"sequential_37\"\n",
            "_________________________________________________________________\n",
            " Layer (type)                Output Shape              Param #   \n",
            "=================================================================\n",
            " flatten_37 (Flatten)        (None, 784)               0         \n",
            "                                                                 \n",
            " dense_110 (Dense)           (None, 784)               615440    \n",
            "                                                                 \n",
            " dense_111 (Dense)           (None, 784)               615440    \n",
            "                                                                 \n",
            " dense_112 (Dense)           (None, 10)                7850      \n",
            "                                                                 \n",
            "=================================================================\n",
            "Total params: 1,238,730\n",
            "Trainable params: 1,238,730\n",
            "Non-trainable params: 0\n",
            "_________________________________________________________________\n",
            "Model: \"sequential_38\"\n",
            "_________________________________________________________________\n",
            " Layer (type)                Output Shape              Param #   \n",
            "=================================================================\n",
            " flatten_38 (Flatten)        (None, 784)               0         \n",
            "                                                                 \n",
            " dense_113 (Dense)           (None, 784)               615440    \n",
            "                                                                 \n",
            " dense_114 (Dense)           (None, 784)               615440    \n",
            "                                                                 \n",
            " dense_115 (Dense)           (None, 10)                7850      \n",
            "                                                                 \n",
            "=================================================================\n",
            "Total params: 1,238,730\n",
            "Trainable params: 1,238,730\n",
            "Non-trainable params: 0\n",
            "_________________________________________________________________\n"
          ]
        }
      ]
    },
    {
      "cell_type": "code",
      "source": [
        "print(dataf[index].shape)\n",
        "_dataf = np.expand_dims(dataf[index], axis=0)\n",
        "print(_dataf.shape)\n",
        "print(np.expand_dims(label[index], axis=-1).shape)\n",
        "print(np.expand_dims(label[index], axis=-1))\n",
        "# print(_dataf.shape)\n",
        "# (None,28,28,1)"
      ],
      "metadata": {
        "colab": {
          "base_uri": "https://localhost:8080/"
        },
        "id": "MwcJ1ce4xN3Z",
        "outputId": "08e7ce04-b6e3-42b4-9835-d7d9b9ba134d"
      },
      "execution_count": null,
      "outputs": [
        {
          "output_type": "stream",
          "name": "stdout",
          "text": [
            "(28, 28, 1)\n",
            "(1, 28, 28, 1)\n",
            "(10, 1)\n",
            "[[0.]\n",
            " [0.]\n",
            " [0.]\n",
            " [0.]\n",
            " [1.]\n",
            " [0.]\n",
            " [0.]\n",
            " [0.]\n",
            " [0.]\n",
            " [0.]]\n"
          ]
        }
      ]
    },
    {
      "cell_type": "code",
      "source": [
        "# !pip install lime"
      ],
      "metadata": {
        "id": "kiehkG88tPuu"
      },
      "execution_count": null,
      "outputs": []
    },
    {
      "cell_type": "code",
      "source": [
        "# import lime\n",
        "# from lime import lime_image\n",
        "\n",
        "# explainer = lime_image.LimeImageExplainer()"
      ],
      "metadata": {
        "id": "ED93D2HgtM84"
      },
      "execution_count": null,
      "outputs": []
    },
    {
      "cell_type": "code",
      "source": [
        "# explaination_map_lime = explainer.explain_instance(dataf[index].astype('double'), top_labels = 10, hide_color = 0, number_samples=1000)"
      ],
      "metadata": {
        "id": "e0snMM69tt_K"
      },
      "execution_count": null,
      "outputs": []
    },
    {
      "cell_type": "code",
      "source": [
        "%%time\n",
        "# print(type(dataf[index]))\n",
        "# d = tf.convert_to_tensor(dataf[index])\n",
        "# print(type(d))\n",
        "\n",
        "# # f = tf.Tensor(dataf[index])\n",
        "\n",
        "# # print(type(f))\n",
        "\n",
        "# g = dataf[index].numpy()\n",
        "# print(type(g))\n",
        "\n",
        "# print(np.argmax(label[index]))\n",
        "# print(type(np.argmax(label[index])))\n",
        "\n",
        "explanation_map_RISE_teacher = RISE(dataf[index].numpy(), cnn_model, class_index=np.argmax(label[index]) ,N_MASKS=1000)\n",
        "explanation_map_RISE_teacher -= explanation_map_RISE_teacher.min()\n",
        "explanation_map_RISE_teacher /= explanation_map_RISE_teacher.max()+10e-30"
      ],
      "metadata": {
        "id": "SvI6Huo3h22P",
        "colab": {
          "base_uri": "https://localhost:8080/"
        },
        "outputId": "b902fec4-4c8f-49c4-965f-9fe9fd0484d2"
      },
      "execution_count": null,
      "outputs": [
        {
          "output_type": "stream",
          "name": "stdout",
          "text": [
            "CPU times: user 273 ms, sys: 7.23 ms, total: 280 ms\n",
            "Wall time: 284 ms\n"
          ]
        }
      ]
    },
    {
      "cell_type": "code",
      "source": [
        "explanation_map_RISE_teacher = RISE(dataf[index].numpy(), cnn_model, class_index=np.argmax(label[index]) ,N_MASKS=1000)\n",
        "explanation_map_RISE_teacher -= explanation_map_RISE_teacher.min()\n",
        "explanation_map_RISE_teacher /= explanation_map_RISE_teacher.max()+10e-30"
      ],
      "metadata": {
        "id": "rKs6somLs9b-"
      },
      "execution_count": null,
      "outputs": []
    },
    {
      "cell_type": "code",
      "source": [
        "explanation_map_RISE_student = RISE(dataf[index].numpy(), fc_model, class_index=np.argmax(label[index]) ,N_MASKS=1000)\n",
        "explanation_map_RISE_student -= explanation_map_RISE_student.min()\n",
        "explanation_map_RISE_student /= explanation_map_RISE_student.max()+10e-30"
      ],
      "metadata": {
        "id": "GXbl3CBXs990"
      },
      "execution_count": null,
      "outputs": []
    },
    {
      "cell_type": "code",
      "source": [
        "explanation_map_RISE_student_nokd = RISE(dataf[index].numpy(), fc_model_no_distillation, class_index=np.argmax(label[index]) ,N_MASKS=1000)\n",
        "explanation_map_RISE_student_nokd -= explanation_map_RISE_student_nokd.min()\n",
        "explanation_map_RISE_student_nokd /= explanation_map_RISE_student_nokd.max()+10e-30"
      ],
      "metadata": {
        "id": "Kg336vLTtHgi"
      },
      "execution_count": null,
      "outputs": []
    },
    {
      "cell_type": "code",
      "source": [
        "print(explanation_map_RISE_student_nokd.shape)\n",
        "input = dataf[index].numpy().reshape((28,28))\n",
        "print(input.shape)"
      ],
      "metadata": {
        "id": "g9NrbitNkup0",
        "colab": {
          "base_uri": "https://localhost:8080/"
        },
        "outputId": "c94cc3a5-ad0b-4a1f-bc8d-ceebfde85cb9"
      },
      "execution_count": null,
      "outputs": [
        {
          "output_type": "stream",
          "name": "stdout",
          "text": [
            "(28, 28)\n",
            "(28, 28)\n"
          ]
        }
      ]
    },
    {
      "cell_type": "code",
      "source": [
        "plt.figure(figsize=(20,5))\n",
        "print(index)\n",
        "\n",
        "plt.subplot(1,4,1)\n",
        "plt.imshow(input)\n",
        "plt.axis('off')\n",
        "plt.title('Original Image', fontsize=10)\n",
        "\n",
        "plt.subplot(1,4,2)\n",
        "plt.imshow(input)\n",
        "plt.imshow(explanation_map_RISE_teacher, cmap='jet', alpha=0.5)\n",
        "plt.axis('off')\n",
        "plt.title('Explanation map (Teacher Model)', fontsize=10)\n",
        "\n",
        "plt.subplot(1,4,3)\n",
        "plt.imshow(input)\n",
        "plt.imshow(explanation_map_RISE_student, cmap='jet', alpha=0.5)\n",
        "plt.axis('off')\n",
        "plt.title('Explanation map (Student Model with KD)', fontsize=10)\n",
        "\n",
        "plt.subplot(1,4,4)\n",
        "plt.imshow(input)\n",
        "plt.imshow(explanation_map_RISE_student_nokd, cmap='jet', alpha=0.5)\n",
        "plt.axis('off')\n",
        "plt.title('Explanation map (Student Model without KD)', fontsize=10)"
      ],
      "metadata": {
        "id": "qBoKWhV6mbfc",
        "colab": {
          "base_uri": "https://localhost:8080/",
          "height": 323
        },
        "outputId": "ebab6203-c9c9-4d7e-d73f-de13b53e0474"
      },
      "execution_count": null,
      "outputs": [
        {
          "output_type": "stream",
          "name": "stdout",
          "text": [
            "3\n"
          ]
        },
        {
          "output_type": "execute_result",
          "data": {
            "text/plain": [
              "Text(0.5, 1.0, 'Explanation map (Student Model without KD)')"
            ]
          },
          "metadata": {},
          "execution_count": 66
        },
        {
          "output_type": "display_data",
          "data": {
            "text/plain": [
              "<Figure size 1440x360 with 4 Axes>"
            ],
            "image/png": "[encoded data removed]"
          },
          "metadata": {
            "needs_background": "light"
          }
        }
      ]
    },
    {
      "cell_type": "markdown",
      "metadata": {
        "id": "KjwJ5oziRvRn"
      },
      "source": [
        "# Implementing the state-of-the-art KD algorithm"
      ]
    },
    {
      "cell_type": "code",
      "source": [
        "def train_and_evaluate_ESKD(model, compute_loss_fn,epoch_num=12):\n",
        "  \"\"\"Perform training and evaluation for a given model.\n",
        "\n",
        "  Args:\n",
        "    model: Instance of tf.keras.Model.\n",
        "    compute_loss_fn: A function that computes the training loss given the\n",
        "      images, and labels.\n",
        "  \"\"\"\n",
        "\n",
        "  # your code start from here for step 4\n",
        "  optimizer = tf.keras.optimizers.Adam(learning_rate=0.001)\n",
        "  res=0.0\n",
        "  for epoch in range(1, epoch_num + 1):\n",
        "    # Run training.\n",
        "    print('Epoch {}: '.format(epoch), end='')\n",
        "    loss_total=0\n",
        "    count_total=0\n",
        "    for images, labels in mnist_train:\n",
        "      with tf.GradientTape() as tape:\n",
        "        loss_value = compute_loss_fn(images,labels)\n",
        "      grads = tape.gradient(loss_value,model.variables)\n",
        "      optimizer.apply_gradients(zip(grads, model.variables))\n",
        "    # Run evaluation.\n",
        "    num_correct = 0\n",
        "    num_total = builder.info.splits['test'].num_examples\n",
        "    for images, labels in mnist_test:\n",
        "      num_correct += tf.cast(compute_num_correct(model,images,labels)[0],tf.int32)\n",
        "    print(\"Class_accuracy: \" + '{:.2f}%'.format(\n",
        "        num_correct / num_total * 100))\n",
        "    res=num_correct / num_total * 100\n",
        "  return res"
      ],
      "metadata": {
        "id": "cC3hCPooDkYf"
      },
      "execution_count": null,
      "outputs": []
    },
    {
      "cell_type": "code",
      "source": [
        "train_and_evaluate_ESKD(cnn_model,compute_teacher_loss)\n",
        "train_and_evaluate(fc_model,compute_student_loss)"
      ],
      "metadata": {
        "id": "CeEzhf4OFNNs",
        "colab": {
          "base_uri": "https://localhost:8080/"
        },
        "outputId": "17bfa2f6-9611-4b88-a3ee-1b29cde0bd8c"
      },
      "execution_count": null,
      "outputs": [
        {
          "output_type": "stream",
          "name": "stdout",
          "text": [
            "Epoch 1: Class_accuracy: 98.82%\n",
            "Epoch 2: Class_accuracy: 98.96%\n",
            "Epoch 3: Class_accuracy: 98.90%\n",
            "Epoch 4: Class_accuracy: 98.91%\n",
            "Epoch 5: Class_accuracy: 99.02%\n",
            "Epoch 6: Class_accuracy: 98.92%\n",
            "Epoch 7: Class_accuracy: 98.85%\n",
            "Epoch 8: Class_accuracy: 99.12%\n",
            "Epoch 9: Class_accuracy: 99.06%\n",
            "Epoch 10: Class_accuracy: 99.07%\n",
            "Epoch 11: Class_accuracy: 99.07%\n",
            "Epoch 12: Class_accuracy: 98.99%\n",
            "Epoch 1: Class_accuracy: 97.48%\n",
            "Epoch 2: Class_accuracy: 97.71%\n",
            "Epoch 3: Class_accuracy: 97.89%\n",
            "Epoch 4: Class_accuracy: 98.05%\n",
            "Epoch 5: Class_accuracy: 98.02%\n",
            "Epoch 6: Class_accuracy: 97.60%\n",
            "Epoch 7: Class_accuracy: 97.88%\n",
            "Epoch 8: Class_accuracy: 97.55%\n",
            "Epoch 9: Class_accuracy: 97.99%\n",
            "Epoch 10: Class_accuracy: 97.96%\n",
            "Epoch 11: Class_accuracy: 97.92%\n",
            "Epoch 12: Class_accuracy: 98.08%\n"
          ]
        },
        {
          "output_type": "execute_result",
          "data": {
            "text/plain": [
              "<tf.Tensor: shape=(), dtype=float64, numpy=98.08>"
            ]
          },
          "metadata": {},
          "execution_count": 56
        }
      ]
    },
    {
      "cell_type": "code",
      "source": [
        "T=[1,2,3,4,5,6,7,8,9,10,11,12]\n",
        "y=[]\n",
        "for i in T:\n",
        "  # NUM_EPOCHS = 3 #temperature hyperparameter\n",
        "  cnn_model=build_cnn()\n",
        "  fc_model=build_fc()\n",
        "  print('EpochNumber: '+str(i))\n",
        "  print('Training teacher')\n",
        "  @tf.function\n",
        "  def compute_teacher_loss(images, labels):\n",
        "    \"\"\"Compute subclass knowledge distillation teacher loss for given images\n",
        "      and labels.\n",
        "\n",
        "    Args:\n",
        "      images: Tensor representing a batch of images.\n",
        "      labels: Tensor representing a batch of labels.\n",
        "\n",
        "    Returns:\n",
        "      Scalar loss Tensor.\n",
        "    \"\"\"\n",
        "    subclass_logits = cnn_model(images, training=True)\n",
        "    # print(subclass_logits.shape)\n",
        "    # print(tf.argmax(labels, 1).shape)\n",
        "    # Compute cross-entropy loss for subclasses.\n",
        "\n",
        "    # your code start from here for step 3\n",
        "    cross_entropy_loss_value = tf.nn.sparse_softmax_cross_entropy_with_logits(logits=subclass_logits, labels=tf.argmax(labels, 1))\n",
        "    return cross_entropy_loss_value\n",
        "  train_and_evaluate_ESKD(cnn_model,compute_teacher_loss,i)\n",
        "  # NUM_EPOCHS = 12\n",
        "  print('Training student')\n",
        "  acu=train_and_evaluate(fc_model,compute_student_loss)\n",
        "  cnn_model.save('teacher_MNIST_ESKD_'+str(i)+'.h5')\n",
        "  fc_model.save('student_MNIST_ESKD_'+str(i)+'.h5')\n",
        "  y.append(acu)"
      ],
      "metadata": {
        "id": "Kdvl5B9R_9mJ"
      },
      "execution_count": null,
      "outputs": []
    },
    {
      "cell_type": "code",
      "source": [
        "import matplotlib.pyplot as plt\n",
        "x=T\n",
        "l=plt.plot(x,y)\n",
        "plt.title('Test accuracy vs. Teacher Epoch Number')\n",
        "plt.xlabel('Teacher_epoch_number')\n",
        "plt.ylabel('test_accuracy')\n",
        "plt.legend()\n",
        "plt.show()"
      ],
      "metadata": {
        "id": "OvIaSN_BDXV3"
      },
      "execution_count": null,
      "outputs": []
    },
    {
      "cell_type": "code",
      "source": [
        "def train_and_evaluate_ESKD(model, compute_loss_fn,epoch_num=12):\n",
        "  \"\"\"Perform training and evaluation for a given model.\n",
        "\n",
        "  Args:\n",
        "    model: Instance of tf.keras.Model.\n",
        "    compute_loss_fn: A function that computes the training loss given the\n",
        "      images, and labels.\n",
        "  \"\"\"\n",
        "\n",
        "  # your code start from here for step 4\n",
        "  optimizer = tf.keras.optimizers.Adam(learning_rate=0.001)\n",
        "  res=0.0\n",
        "  for epoch in range(1, epoch_num + 1):\n",
        "    # Run training.\n",
        "    print('Epoch {}: '.format(epoch), end='')\n",
        "    flag=False\n",
        "    loss_total=0\n",
        "    count_total=0\n",
        "    for images, labels in mnist_train:\n",
        "      with tf.GradientTape() as tape:\n",
        "        loss_value = compute_loss_fn(images,labels)\n",
        "      loss_total=loss_total+loss_value\n",
        "      count_total=count_total+1\n",
        "      grads = tape.gradient(loss_value,model.variables)\n",
        "      optimizer.apply_gradients(zip(grads, model.variables))\n",
        "    loss_total=loss_total/count_total\n",
        "    if(loss_total<1):\n",
        "      flag=True\n",
        "    # Run evaluation.\n",
        "    num_correct = 0\n",
        "    num_total = builder.info.splits['test'].num_examples\n",
        "    for images, labels in mnist_test:\n",
        "      num_correct += tf.cast(compute_num_correct(model,images,labels)[0],tf.int32)\n",
        "    print(\"Class_accuracy: \" + '{:.2f}%'.format(\n",
        "        num_correct / num_total * 100))\n",
        "    res=num_correct / num_total * 100\n",
        "    if(flag):\n",
        "      break\n",
        "  return res"
      ],
      "metadata": {
        "id": "2LDxr-T4Oc52"
      },
      "execution_count": null,
      "outputs": []
    }
  ],
  "metadata": {
    "colab": {
      "collapsed_sections": [],
      "name": "Task1-dev.ipynb",
      "provenance": []
    },
    "kernelspec": {
      "display_name": "Python 3",
      "name": "python3"
    },
    "language_info": {
      "name": "python"
    },
    "accelerator": "GPU",
    "widgets": {
      "application/vnd.jupyter.widget-state+json": {
        "4bb896096049421095f2550daccd555c": {
          "model_module": "@jupyter-widgets/controls",
          "model_name": "HBoxModel",
          "model_module_version": "1.5.0",
          "state": {
            "_dom_classes": [],
            "_model_module": "@jupyter-widgets/controls",
            "_model_module_version": "1.5.0",
            "_model_name": "HBoxModel",
            "_view_count": null,
            "_view_module": "@jupyter-widgets/controls",
            "_view_module_version": "1.5.0",
            "_view_name": "HBoxView",
            "box_style": "",
            "children": [
              "IPY_MODEL_79fc2278853c4317ab03329be69998fd",
              "IPY_MODEL_6a1367b0b52f477b9fb0e4c93170fa95",
              "IPY_MODEL_a016d24e4fe74b86b35de3fb392fd4e9"
            ],
            "layout": "IPY_MODEL_db124522abb941448071ddae5ae1d4fa"
          }
        },
        "79fc2278853c4317ab03329be69998fd": {
          "model_module": "@jupyter-widgets/controls",
          "model_name": "HTMLModel",
          "model_module_version": "1.5.0",
          "state": {
            "_dom_classes": [],
            "_model_module": "@jupyter-widgets/controls",
            "_model_module_version": "1.5.0",
            "_model_name": "HTMLModel",
            "_view_count": null,
            "_view_module": "@jupyter-widgets/controls",
            "_view_module_version": "1.5.0",
            "_view_name": "HTMLView",
            "description": "",
            "description_tooltip": null,
            "layout": "IPY_MODEL_8fc9e4ab25e94941a6d9ef1554c5bf15",
            "placeholder": "​",
            "style": "IPY_MODEL_a155724bc58c48388cea36196bf1e20c",
            "value": "Dl Completed...: 100%"
          }
        },
        "6a1367b0b52f477b9fb0e4c93170fa95": {
          "model_module": "@jupyter-widgets/controls",
          "model_name": "FloatProgressModel",
          "model_module_version": "1.5.0",
          "state": {
            "_dom_classes": [],
            "_model_module": "@jupyter-widgets/controls",
            "_model_module_version": "1.5.0",
            "_model_name": "FloatProgressModel",
            "_view_count": null,
            "_view_module": "@jupyter-widgets/controls",
            "_view_module_version": "1.5.0",
            "_view_name": "ProgressView",
            "bar_style": "success",
            "description": "",
            "description_tooltip": null,
            "layout": "IPY_MODEL_4f8a9de1ea0e4237bd29b699f484f42d",
            "max": 4,
            "min": 0,
            "orientation": "horizontal",
            "style": "IPY_MODEL_71fa0f7450a4415da7f4f1fab240ce69",
            "value": 4
          }
        },
        "a016d24e4fe74b86b35de3fb392fd4e9": {
          "model_module": "@jupyter-widgets/controls",
          "model_name": "HTMLModel",
          "model_module_version": "1.5.0",
          "state": {
            "_dom_classes": [],
            "_model_module": "@jupyter-widgets/controls",
            "_model_module_version": "1.5.0",
            "_model_name": "HTMLModel",
            "_view_count": null,
            "_view_module": "@jupyter-widgets/controls",
            "_view_module_version": "1.5.0",
            "_view_name": "HTMLView",
            "description": "",
            "description_tooltip": null,
            "layout": "IPY_MODEL_8b655d8e91794153a9ea8b7f0605aada",
            "placeholder": "​",
            "style": "IPY_MODEL_f00a239de43045ad9df7551d4ef471a1",
            "value": " 4/4 [00:00&lt;00:00,  5.25 file/s]"
          }
        },
        "db124522abb941448071ddae5ae1d4fa": {
          "model_module": "@jupyter-widgets/base",
          "model_name": "LayoutModel",
          "model_module_version": "1.2.0",
          "state": {
            "_model_module": "@jupyter-widgets/base",
            "_model_module_version": "1.2.0",
            "_model_name": "LayoutModel",
            "_view_count": null,
            "_view_module": "@jupyter-widgets/base",
            "_view_module_version": "1.2.0",
            "_view_name": "LayoutView",
            "align_content": null,
            "align_items": null,
            "align_self": null,
            "border": null,
            "bottom": null,
            "display": null,
            "flex": null,
            "flex_flow": null,
            "grid_area": null,
            "grid_auto_columns": null,
            "grid_auto_flow": null,
            "grid_auto_rows": null,
            "grid_column": null,
            "grid_gap": null,
            "grid_row": null,
            "grid_template_areas": null,
            "grid_template_columns": null,
            "grid_template_rows": null,
            "height": null,
            "justify_content": null,
            "justify_items": null,
            "left": null,
            "margin": null,
            "max_height": null,
            "max_width": null,
            "min_height": null,
            "min_width": null,
            "object_fit": null,
            "object_position": null,
            "order": null,
            "overflow": null,
            "overflow_x": null,
            "overflow_y": null,
            "padding": null,
            "right": null,
            "top": null,
            "visibility": null,
            "width": null
          }
        },
        "8fc9e4ab25e94941a6d9ef1554c5bf15": {
          "model_module": "@jupyter-widgets/base",
          "model_name": "LayoutModel",
          "model_module_version": "1.2.0",
          "state": {
            "_model_module": "@jupyter-widgets/base",
            "_model_module_version": "1.2.0",
            "_model_name": "LayoutModel",
            "_view_count": null,
            "_view_module": "@jupyter-widgets/base",
            "_view_module_version": "1.2.0",
            "_view_name": "LayoutView",
            "align_content": null,
            "align_items": null,
            "align_self": null,
            "border": null,
            "bottom": null,
            "display": null,
            "flex": null,
            "flex_flow": null,
            "grid_area": null,
            "grid_auto_columns": null,
            "grid_auto_flow": null,
            "grid_auto_rows": null,
            "grid_column": null,
            "grid_gap": null,
            "grid_row": null,
            "grid_template_areas": null,
            "grid_template_columns": null,
            "grid_template_rows": null,
            "height": null,
            "justify_content": null,
            "justify_items": null,
            "left": null,
            "margin": null,
            "max_height": null,
            "max_width": null,
            "min_height": null,
            "min_width": null,
            "object_fit": null,
            "object_position": null,
            "order": null,
            "overflow": null,
            "overflow_x": null,
            "overflow_y": null,
            "padding": null,
            "right": null,
            "top": null,
            "visibility": null,
            "width": null
          }
        },
        "a155724bc58c48388cea36196bf1e20c": {
          "model_module": "@jupyter-widgets/controls",
          "model_name": "DescriptionStyleModel",
          "model_module_version": "1.5.0",
          "state": {
            "_model_module": "@jupyter-widgets/controls",
            "_model_module_version": "1.5.0",
            "_model_name": "DescriptionStyleModel",
            "_view_count": null,
            "_view_module": "@jupyter-widgets/base",
            "_view_module_version": "1.2.0",
            "_view_name": "StyleView",
            "description_width": ""
          }
        },
        "4f8a9de1ea0e4237bd29b699f484f42d": {
          "model_module": "@jupyter-widgets/base",
          "model_name": "LayoutModel",
          "model_module_version": "1.2.0",
          "state": {
            "_model_module": "@jupyter-widgets/base",
            "_model_module_version": "1.2.0",
            "_model_name": "LayoutModel",
            "_view_count": null,
            "_view_module": "@jupyter-widgets/base",
            "_view_module_version": "1.2.0",
            "_view_name": "LayoutView",
            "align_content": null,
            "align_items": null,
            "align_self": null,
            "border": null,
            "bottom": null,
            "display": null,
            "flex": null,
            "flex_flow": null,
            "grid_area": null,
            "grid_auto_columns": null,
            "grid_auto_flow": null,
            "grid_auto_rows": null,
            "grid_column": null,
            "grid_gap": null,
            "grid_row": null,
            "grid_template_areas": null,
            "grid_template_columns": null,
            "grid_template_rows": null,
            "height": null,
            "justify_content": null,
            "justify_items": null,
            "left": null,
            "margin": null,
            "max_height": null,
            "max_width": null,
            "min_height": null,
            "min_width": null,
            "object_fit": null,
            "object_position": null,
            "order": null,
            "overflow": null,
            "overflow_x": null,
            "overflow_y": null,
            "padding": null,
            "right": null,
            "top": null,
            "visibility": null,
            "width": null
          }
        },
        "71fa0f7450a4415da7f4f1fab240ce69": {
          "model_module": "@jupyter-widgets/controls",
          "model_name": "ProgressStyleModel",
          "model_module_version": "1.5.0",
          "state": {
            "_model_module": "@jupyter-widgets/controls",
            "_model_module_version": "1.5.0",
            "_model_name": "ProgressStyleModel",
            "_view_count": null,
            "_view_module": "@jupyter-widgets/base",
            "_view_module_version": "1.2.0",
            "_view_name": "StyleView",
            "bar_color": null,
            "description_width": ""
          }
        },
        "8b655d8e91794153a9ea8b7f0605aada": {
          "model_module": "@jupyter-widgets/base",
          "model_name": "LayoutModel",
          "model_module_version": "1.2.0",
          "state": {
            "_model_module": "@jupyter-widgets/base",
            "_model_module_version": "1.2.0",
            "_model_name": "LayoutModel",
            "_view_count": null,
            "_view_module": "@jupyter-widgets/base",
            "_view_module_version": "1.2.0",
            "_view_name": "LayoutView",
            "align_content": null,
            "align_items": null,
            "align_self": null,
            "border": null,
            "bottom": null,
            "display": null,
            "flex": null,
            "flex_flow": null,
            "grid_area": null,
            "grid_auto_columns": null,
            "grid_auto_flow": null,
            "grid_auto_rows": null,
            "grid_column": null,
            "grid_gap": null,
            "grid_row": null,
            "grid_template_areas": null,
            "grid_template_columns": null,
            "grid_template_rows": null,
            "height": null,
            "justify_content": null,
            "justify_items": null,
            "left": null,
            "margin": null,
            "max_height": null,
            "max_width": null,
            "min_height": null,
            "min_width": null,
            "object_fit": null,
            "object_position": null,
            "order": null,
            "overflow": null,
            "overflow_x": null,
            "overflow_y": null,
            "padding": null,
            "right": null,
            "top": null,
            "visibility": null,
            "width": null
          }
        },
        "f00a239de43045ad9df7551d4ef471a1": {
          "model_module": "@jupyter-widgets/controls",
          "model_name": "DescriptionStyleModel",
          "model_module_version": "1.5.0",
          "state": {
            "_model_module": "@jupyter-widgets/controls",
            "_model_module_version": "1.5.0",
            "_model_name": "DescriptionStyleModel",
            "_view_count": null,
            "_view_module": "@jupyter-widgets/base",
            "_view_module_version": "1.2.0",
            "_view_name": "StyleView",
            "description_width": ""
          }
        }
      }
    }
  },
  "nbformat": 4,
  "nbformat_minor": 0
}