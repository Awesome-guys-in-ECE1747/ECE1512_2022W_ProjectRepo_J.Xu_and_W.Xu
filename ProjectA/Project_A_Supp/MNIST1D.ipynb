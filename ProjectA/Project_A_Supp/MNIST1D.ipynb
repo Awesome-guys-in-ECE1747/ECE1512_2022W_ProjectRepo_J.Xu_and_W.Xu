{
 "cells": [
  {
   "cell_type": "code",
   "execution_count": 2,
   "metadata": {
    "colab": {
     "base_uri": "https://localhost:8080/"
    },
    "id": "IycDm5rEVyX0",
    "outputId": "e1cb3ee8-d90f-40fd-c4f6-27ddcf0d8134"
   },
   "outputs": [],
   "source": [
    "# from google.colab import drive\n",
    "# drive.mount('/content/drive')"
   ]
  },
  {
   "cell_type": "code",
   "execution_count": 3,
   "metadata": {
    "id": "fiCcdB_QV0Fb"
   },
   "outputs": [],
   "source": [
    "# import os\n",
    "# os.chdir(r'/content/drive/My Drive/ECE1512_TA')  # Change the directory to torchRay-master folder"
   ]
  },
  {
   "cell_type": "markdown",
   "metadata": {
    "id": "FXgwO7nGfg0W"
   },
   "source": [
    "# Requirements"
   ]
  },
  {
   "cell_type": "code",
   "execution_count": 4,
   "metadata": {
    "id": "GfgOoaMBPzG6"
   },
   "outputs": [
    {
     "name": "stderr",
     "output_type": "stream",
     "text": [
      "C:\\Users\\13629\\AppData\\Local\\Temp\\ipykernel_4244\\748991669.py:7: DeprecationWarning: Please use `gaussian_filter` from the `scipy.ndimage` namespace, the `scipy.ndimage.filters` namespace is deprecated.\n",
      "  from scipy.ndimage.filters import gaussian_filter\n"
     ]
    }
   ],
   "source": [
    "import os\n",
    "import numpy as np\n",
    "import pandas as pd\n",
    "import requests\n",
    "import scipy\n",
    "import pickle\n",
    "from scipy.ndimage.filters import gaussian_filter\n",
    "from scipy.interpolate import interp1d\n",
    "import tensorflow\n",
    "import keras\n",
    "from keras.models import Sequential\n",
    "from keras.layers import Input, Conv1D, MaxPooling1D, Dense, Flatten\n",
    "from keras import regularizers\n",
    "import keras.backend as K\n",
    "from keras.models import load_model\n",
    "from tensorflow.core.util import event_pb2\n",
    "from tensorflow.python.lib.io import tf_record\n",
    "import sklearn.metrics as metrics\n",
    "import matplotlib.pyplot as plt\n",
    "import cv2"
   ]
  },
  {
   "cell_type": "code",
   "execution_count": 5,
   "metadata": {
    "id": "oXY7G98lr9vb"
   },
   "outputs": [],
   "source": [
    "#@title MNIST-1D utils\n",
    "\n",
    "# transformations of the templates which will make them harder to classify\n",
    "def pad(x, padding):\n",
    "    low, high = padding\n",
    "    p = low + int(np.random.rand()*(high-low+1))\n",
    "    return np.concatenate([x, np.zeros((p))])\n",
    "\n",
    "def shear(x, scale=10):\n",
    "    coeff = scale*(np.random.rand() - 0.5)\n",
    "    return x - coeff*np.linspace(-0.5,.5,len(x))\n",
    "\n",
    "def translate(x, max_translation):\n",
    "    k = np.random.choice(max_translation)\n",
    "    return np.concatenate([x[-k:], x[:-k]])\n",
    "\n",
    "def corr_noise_like(x, scale):\n",
    "    noise = scale * np.random.randn(*x.shape)\n",
    "    return gaussian_filter(noise, 2)\n",
    "\n",
    "def iid_noise_like(x, scale):\n",
    "    noise = scale * np.random.randn(*x.shape)\n",
    "    return noise\n",
    "\n",
    "def interpolate(x, N):\n",
    "    scale = np.linspace(0,1,len(x))\n",
    "    new_scale = np.linspace(0,1,N)\n",
    "    new_x = interp1d(scale, x, axis=0, kind='linear')(new_scale)\n",
    "    return new_x\n",
    "\n",
    "def transform(x, y, args, eps=1e-8):\n",
    "    new_x = pad(x+eps, args.padding) # pad\n",
    "    new_x = interpolate(new_x, args.template_len + args.padding[-1])  # dilate\n",
    "    new_y = interpolate(y, args.template_len + args.padding[-1])\n",
    "    new_x *= (1 + args.scale_coeff*(np.random.rand() - 0.5))  # scale\n",
    "    new_x = translate(new_x, args.max_translation)  #translate\n",
    "    \n",
    "    # add noise\n",
    "    mask = new_x != 0\n",
    "    new_x = mask*new_x + (1-mask)*corr_noise_like(new_x, args.corr_noise_scale)\n",
    "    new_x = new_x + iid_noise_like(new_x, args.iid_noise_scale)\n",
    "    \n",
    "    # shear and interpolate\n",
    "    new_x = shear(new_x, args.shear_scale)\n",
    "    new_x = interpolate(new_x, args.final_seq_length) # subsample\n",
    "    new_y = interpolate(new_y, args.final_seq_length)\n",
    "    return new_x, new_y\n",
    "\n",
    "def get_dataset_args(as_dict=False):\n",
    "    arg_dict = {'num_samples': 5000,\n",
    "            'train_split': 0.8,\n",
    "            'template_len': 12,\n",
    "            'padding': [36,60],\n",
    "            'scale_coeff': .4, \n",
    "            'max_translation': 48,\n",
    "            'corr_noise_scale': 0.25,\n",
    "            'iid_noise_scale': 2e-2,\n",
    "            'shear_scale': 0.75,\n",
    "            'shuffle_seq': False,\n",
    "            'final_seq_length': 40,\n",
    "            'seed': 42,\n",
    "            'url': 'https://github.com/greydanus/mnist1d/raw/master/mnist1d_data.pkl'}\n",
    "    return arg_dict if as_dict else ObjectView(arg_dict)\n",
    "\n",
    "\n",
    "def to_pickle(thing, path): # save something\n",
    "    with open(path, 'wb') as handle:\n",
    "        pickle.dump(thing, handle, protocol=4)\n",
    "\n",
    "\n",
    "def from_pickle(path): # load something\n",
    "    thing = None\n",
    "    with open(path, 'rb') as handle:\n",
    "        thing = pickle.load(handle)\n",
    "    return thing\n",
    "\n",
    "class ObjectView(object):\n",
    "    def __init__(self, d): self.__dict__ = d\n",
    "\n",
    "# basic 1D templates for the 10 digits\n",
    "def get_templates():\n",
    "    d0 = np.asarray([5,6,6.5,6.75,7,7,7,7,6.75,6.5,6,5])\n",
    "    d1 = np.asarray([5,3,3,3.4,3.8,4.2,4.6,5,5.4,5.8,5,5])\n",
    "    d2 = np.asarray([5,6,6.5,6.5,6,5.25,4.75,4,3.5,3.5,4,5])\n",
    "    d3 = np.asarray([5,6,6.5,6.5,6,5,5,6,6.5,6.5,6,5])\n",
    "    d4 = np.asarray([5,4.4,3.8,3.2,2.6,2.6,5,5,5,5,5,5])\n",
    "    d5 = np.asarray([5,3,3,3,3,5,6,6.5,6.5,6,4.5,5])\n",
    "    d6 = np.asarray([5,4,3.5,3.25,3,3,3,3,3.25,3.5,4,5])\n",
    "    d7 = np.asarray([5,7,7,6.6,6.2,5.8,5.4,5,4.6,4.2,5,5])\n",
    "    d8 = np.asarray([5,4,3.5,3.5,4,5,5,4,3.5,3.5,4,5])\n",
    "    d9 = np.asarray([5,4,3.5,3.5,4,5,5,5,5,4.7,4.3,5])\n",
    "    \n",
    "    x = np.stack([d0,d1,d2,d3,d4,d5,d6,d7,d8,d9])\n",
    "    x -= x.mean(1,keepdims=True) # whiten\n",
    "    x /= x.std(1,keepdims=True)\n",
    "    x -= x[:,:1]  # signal starts and ends at 0\n",
    "    \n",
    "    templates = {'x': x/6., 't': np.linspace(-5, 5, len(d0))/6.,\n",
    "                 'y': np.asarray([0,1,2,3,4,5,6,7,8,9])}\n",
    "    return templates\n",
    "\n",
    "def make_dataset(args=None, template=None, ):\n",
    "    templates = get_templates() if template is None else template\n",
    "    args = get_dataset_args() if args is None else args\n",
    "    np.random.seed(args.seed) # reproducibility\n",
    "    \n",
    "    xs, ys = [], []\n",
    "    samples_per_class = args.num_samples // len(templates['y'])\n",
    "    for label_ix in range(len(templates['y'])):\n",
    "        for example_ix in range(samples_per_class):\n",
    "            x = templates['x'][label_ix]\n",
    "            t = templates['t']\n",
    "            y = templates['y'][label_ix]\n",
    "            x, new_t = transform(x, t, args) # new_t transformation is same each time\n",
    "            xs.append(x) ; ys.append(y)\n",
    "    \n",
    "    batch_shuffle = np.random.permutation(len(ys)) # shuffle batch dimension\n",
    "    xs = np.stack(xs)[batch_shuffle]\n",
    "    ys = np.stack(ys)[batch_shuffle]\n",
    "    \n",
    "    if args.shuffle_seq: # maybe shuffle the spatial dimension\n",
    "        seq_shuffle = np.random.permutation(args.final_seq_length)\n",
    "        xs = xs[...,seq_shuffle]\n",
    "    \n",
    "    new_t = new_t/xs.std()\n",
    "    xs = (xs-xs.mean())/xs.std() # center the dataset & set standard deviation to 1\n",
    "\n",
    "    # train / test split\n",
    "    split_ix = int(len(ys)*args.train_split)\n",
    "    dataset = {'x': xs[:split_ix], 'x_test': xs[split_ix:],\n",
    "               'y': ys[:split_ix], 'y_test': ys[split_ix:],\n",
    "               't':new_t, 'templates': templates}\n",
    "    return dataset\n"
   ]
  },
  {
   "cell_type": "code",
   "execution_count": 6,
   "metadata": {
    "id": "b2yNuw5bZHK3"
   },
   "outputs": [],
   "source": [
    "from mnist1d_utils import *"
   ]
  },
  {
   "cell_type": "markdown",
   "metadata": {
    "id": "TgXE_0b0Gzj5"
   },
   "source": [
    "# Dataset"
   ]
  },
  {
   "cell_type": "code",
   "execution_count": 7,
   "metadata": {
    "id": "n0_uYlpWnRz4"
   },
   "outputs": [],
   "source": [
    "dataset = make_dataset()"
   ]
  },
  {
   "cell_type": "markdown",
   "metadata": {
    "id": "sjZIDVGahaNA"
   },
   "source": [
    "**Dataset:** A dictionary conaining 4000 train and 1000 test data.\n",
    "\n",
    "Keys of the dictionary:\n",
    "\n",
    "* 'x' : Training data.\n",
    "\n",
    "* 'y' : Training labels.\n",
    "\n",
    "* 'x_test' : Test data.\n",
    "\n",
    "* 'y_test : Test labels.\n",
    "\n",
    "* 't' : Mapping data points to spatial locations.\n",
    "\n",
    "* 'templates' : The templates for the digits 0-9."
   ]
  },
  {
   "cell_type": "code",
   "execution_count": 8,
   "metadata": {
    "cellView": "form",
    "colab": {
     "base_uri": "https://localhost:8080/",
     "height": 228
    },
    "id": "r9K7zrI1s6nA",
    "outputId": "d7ab8c1f-50d8-4721-ac71-01b39e685fc5"
   },
   "outputs": [
    {
     "data": {
      "text/plain": [
       "Text(0.5, 1.0, 'predicted class: 6')"
      ]
     },
     "execution_count": 8,
     "metadata": {},
     "output_type": "execute_result"
    },
    {
     "data": {
      "image/png": "[encoded data removed]",
      "text/plain": [
       "<Figure size 1440x216 with 5 Axes>"
      ]
     },
     "metadata": {
      "needs_background": "light"
     },
     "output_type": "display_data"
    }
   ],
   "source": [
    "#@title Show some examples from the MNIST 1-D dataset\n",
    "\n",
    "plt.figure(figsize=(20,3))\n",
    "\n",
    "plt.subplot(151)\n",
    "plt.plot(dataset['x'][0], 'r')\n",
    "plt.axis('off')\n",
    "plt.title('predicted class: '+str(dataset['y'][0]))\n",
    "\n",
    "plt.subplot(152)\n",
    "plt.plot(dataset['x'][1], 'r')\n",
    "plt.axis('off')\n",
    "plt.title('predicted class: '+str(dataset['y'][1]))\n",
    "\n",
    "plt.subplot(153)\n",
    "plt.plot(dataset['x'][2], 'r')\n",
    "plt.axis('off')\n",
    "plt.title('predicted class: '+str(dataset['y'][2]))\n",
    "\n",
    "plt.subplot(154)\n",
    "plt.plot(dataset['x'][3], 'r')\n",
    "plt.axis('off')\n",
    "plt.title('predicted class: '+str(dataset['y'][3]))\n",
    "\n",
    "plt.subplot(155)\n",
    "plt.plot(dataset['x'][4], 'r')\n",
    "plt.axis('off')\n",
    "plt.title('predicted class: '+str(dataset['y'][4]))"
   ]
  },
  {
   "cell_type": "code",
   "execution_count": 9,
   "metadata": {
    "cellView": "form",
    "colab": {
     "base_uri": "https://localhost:8080/",
     "height": 500
    },
    "id": "tE-5RvGbiffa",
    "outputId": "8fed8587-4c79-439d-d087-42eceed7bbae"
   },
   "outputs": [
    {
     "data": {
      "text/plain": [
       "Text(0.5, 1.0, 'predicted class: 9')"
      ]
     },
     "execution_count": 9,
     "metadata": {},
     "output_type": "execute_result"
    },
    {
     "data": {
      "image/png": "[encoded data removed]",
      "text/plain": [
       "<Figure size 1440x576 with 10 Axes>"
      ]
     },
     "metadata": {
      "needs_background": "light"
     },
     "output_type": "display_data"
    }
   ],
   "source": [
    "#@title Show the digit templates in the MNIST 1-D dataset \n",
    "\n",
    "plt.figure(figsize=(20,8))\n",
    "\n",
    "plt.subplot(251)\n",
    "plt.plot(dataset['templates']['x'][0], 'r')\n",
    "plt.axis('off')\n",
    "plt.title('predicted class: 0')\n",
    "\n",
    "plt.subplot(252)\n",
    "plt.plot(dataset['templates']['x'][1], 'r')\n",
    "plt.axis('off')\n",
    "plt.title('predicted class: 1')\n",
    "\n",
    "plt.subplot(253)\n",
    "plt.plot(dataset['templates']['x'][2], 'r')\n",
    "plt.axis('off')\n",
    "plt.title('predicted class: 2')\n",
    "\n",
    "plt.subplot(254)\n",
    "plt.plot(dataset['templates']['x'][3], 'r')\n",
    "plt.axis('off')\n",
    "plt.title('predicted class: 3')\n",
    "\n",
    "plt.subplot(255)\n",
    "plt.plot(dataset['templates']['x'][4], 'r')\n",
    "plt.axis('off')\n",
    "plt.title('predicted class: 4')\n",
    "\n",
    "plt.subplot(256)\n",
    "plt.plot(dataset['templates']['x'][5], 'r')\n",
    "plt.axis('off')\n",
    "plt.title('predicted class: 5')\n",
    "\n",
    "plt.subplot(257)\n",
    "plt.plot(dataset['templates']['x'][6], 'r')\n",
    "plt.axis('off')\n",
    "plt.title('predicted class: 6')\n",
    "\n",
    "plt.subplot(258)\n",
    "plt.plot(dataset['templates']['x'][7], 'r')\n",
    "plt.axis('off')\n",
    "plt.title('predicted class: 7')\n",
    "\n",
    "plt.subplot(259)\n",
    "plt.plot(dataset['templates']['x'][8], 'r')\n",
    "plt.axis('off')\n",
    "plt.title('predicted class: 8')\n",
    "\n",
    "plt.subplot(2,5,10)\n",
    "plt.plot(dataset['templates']['x'][9], 'r')\n",
    "plt.axis('off')\n",
    "plt.title('predicted class: 9')"
   ]
  },
  {
   "cell_type": "markdown",
   "metadata": {
    "id": "vzU4rjnStv0u"
   },
   "source": [
    "Saving the dataset"
   ]
  },
  {
   "cell_type": "code",
   "execution_count": 10,
   "metadata": {
    "id": "pB5RISwytxXE"
   },
   "outputs": [],
   "source": [
    "f = open(\"MNIST1D.pkl\",\"wb\")\n",
    "pickle.dump(dataset,f)\n",
    "f.close()"
   ]
  },
  {
   "cell_type": "markdown",
   "metadata": {
    "id": "XfxoIZegODCA"
   },
   "source": [
    "# Model Creation"
   ]
  },
  {
   "cell_type": "markdown",
   "metadata": {
    "id": "2d1aY0rinOha"
   },
   "source": [
    "**Creating model :**\n",
    "\n",
    "A 1-Dimensional CNN, containing 3 convolutional layers, followed by a fully-connected output layer."
   ]
  },
  {
   "cell_type": "code",
   "execution_count": 11,
   "metadata": {
    "id": "2dQ2IJfgtAOo"
   },
   "outputs": [
    {
     "name": "stdout",
     "output_type": "stream",
     "text": [
      "Model: \"sequential\"\n",
      "_________________________________________________________________\n",
      " Layer (type)                Output Shape              Param #   \n",
      "=================================================================\n",
      " conv1d (Conv1D)             (None, 40, 25)            150       \n",
      "                                                                 \n",
      " conv1d_1 (Conv1D)           (None, 40, 25)            1900      \n",
      "                                                                 \n",
      " conv1d_2 (Conv1D)           (None, 40, 25)            1900      \n",
      "                                                                 \n",
      " flatten (Flatten)           (None, 1000)              0         \n",
      "                                                                 \n",
      " dense (Dense)               (None, 10)                10010     \n",
      "                                                                 \n",
      "=================================================================\n",
      "Total params: 13,960\n",
      "Trainable params: 13,960\n",
      "Non-trainable params: 0\n",
      "_________________________________________________________________\n"
     ]
    }
   ],
   "source": [
    "##### Task1-Question1\n",
    "weight_decay = 5e-4\n",
    "model = Sequential()\n",
    "#Your code starts from here \n",
    "model.add(Input(shape=(40,1)))\n",
    "model.add(Conv1D(25, kernel_size=5, padding='same', activation='relu', kernel_regularizer=regularizers.l2(weight_decay)))\n",
    "model.add(Conv1D(25, kernel_size=3, padding='same', activation='relu', kernel_regularizer=regularizers.l2(weight_decay)))\n",
    "model.add(Conv1D(25, kernel_size=3, padding='same', activation='relu', kernel_regularizer=regularizers.l2(weight_decay)))\n",
    "\n",
    "model.add(Flatten())\n",
    "model.add(Dense(10, activation='softmax', kernel_initializer=keras.initializers.RandomNormal(mean=0.0, stddev=0.5),\n",
    "                bias_initializer=keras.initializers.Zeros(), kernel_regularizer=regularizers.l2(weight_decay)))\n",
    "\n",
    "model.summary()\n",
    "##"
   ]
  },
  {
   "cell_type": "markdown",
   "metadata": {
    "id": "S9PePu6BsZKS"
   },
   "source": [
    "# Training the model"
   ]
  },
  {
   "cell_type": "markdown",
   "metadata": {
    "id": "1mRgs2Ewnxlm"
   },
   "source": [
    "Compiling the model\n",
    "\n",
    "Loss function: Cross-entropy\n",
    "\n",
    "Optimizer: Stochastic Gradient Descent (SGD) (learning rate = 0.01)\n",
    "\n",
    "Tensorboard: For recording the training procedure"
   ]
  },
  {
   "cell_type": "code",
   "execution_count": 12,
   "metadata": {
    "id": "3XK3dbaWnzPF"
   },
   "outputs": [
    {
     "name": "stdout",
     "output_type": "stream",
     "text": [
      "Epoch 1/200\n",
      "125/125 [==============================] - 1s 2ms/step - loss: 3.5464 - accuracy: 0.1382\n",
      "Epoch 2/200\n",
      "125/125 [==============================] - 0s 2ms/step - loss: 3.4346 - accuracy: 0.1905\n",
      "Epoch 3/200\n",
      "125/125 [==============================] - 0s 2ms/step - loss: 3.3614 - accuracy: 0.2170\n",
      "Epoch 4/200\n",
      "125/125 [==============================] - 0s 2ms/step - loss: 3.2917 - accuracy: 0.2517\n",
      "Epoch 5/200\n",
      "125/125 [==============================] - 0s 2ms/step - loss: 3.2212 - accuracy: 0.2797\n",
      "Epoch 6/200\n",
      "125/125 [==============================] - 0s 2ms/step - loss: 3.1403 - accuracy: 0.3030\n",
      "Epoch 7/200\n",
      "125/125 [==============================] - 0s 2ms/step - loss: 3.0524 - accuracy: 0.3440\n",
      "Epoch 8/200\n",
      "125/125 [==============================] - 0s 2ms/step - loss: 2.9643 - accuracy: 0.3755\n",
      "Epoch 9/200\n",
      "125/125 [==============================] - 0s 2ms/step - loss: 2.8790 - accuracy: 0.4083\n",
      "Epoch 10/200\n",
      "125/125 [==============================] - 0s 2ms/step - loss: 2.7867 - accuracy: 0.4433\n",
      "Epoch 11/200\n",
      "125/125 [==============================] - 0s 2ms/step - loss: 2.7142 - accuracy: 0.4688\n",
      "Epoch 12/200\n",
      "125/125 [==============================] - 0s 2ms/step - loss: 2.6402 - accuracy: 0.4990\n",
      "Epoch 13/200\n",
      "125/125 [==============================] - 0s 2ms/step - loss: 2.5774 - accuracy: 0.5132\n",
      "Epoch 14/200\n",
      "125/125 [==============================] - 0s 2ms/step - loss: 2.5222 - accuracy: 0.5280\n",
      "Epoch 15/200\n",
      "125/125 [==============================] - 0s 2ms/step - loss: 2.4716 - accuracy: 0.5523\n",
      "Epoch 16/200\n",
      "125/125 [==============================] - 0s 2ms/step - loss: 2.4250 - accuracy: 0.5630\n",
      "Epoch 17/200\n",
      "125/125 [==============================] - 0s 2ms/step - loss: 2.3809 - accuracy: 0.5770\n",
      "Epoch 18/200\n",
      "125/125 [==============================] - 0s 2ms/step - loss: 2.3375 - accuracy: 0.5925\n",
      "Epoch 19/200\n",
      "125/125 [==============================] - 0s 2ms/step - loss: 2.2989 - accuracy: 0.6040\n",
      "Epoch 20/200\n",
      "125/125 [==============================] - 0s 2ms/step - loss: 2.2608 - accuracy: 0.6208\n",
      "Epoch 21/200\n",
      "125/125 [==============================] - 0s 2ms/step - loss: 2.2204 - accuracy: 0.6320\n",
      "Epoch 22/200\n",
      "125/125 [==============================] - 0s 2ms/step - loss: 2.1911 - accuracy: 0.6440\n",
      "Epoch 23/200\n",
      "125/125 [==============================] - 0s 2ms/step - loss: 2.1602 - accuracy: 0.6550\n",
      "Epoch 24/200\n",
      "125/125 [==============================] - 0s 2ms/step - loss: 2.1329 - accuracy: 0.6665\n",
      "Epoch 25/200\n",
      "125/125 [==============================] - 0s 2ms/step - loss: 2.1029 - accuracy: 0.6722\n",
      "Epoch 26/200\n",
      "125/125 [==============================] - 0s 2ms/step - loss: 2.0757 - accuracy: 0.6827\n",
      "Epoch 27/200\n",
      "125/125 [==============================] - 0s 2ms/step - loss: 2.0521 - accuracy: 0.6913\n",
      "Epoch 28/200\n",
      "125/125 [==============================] - 0s 2ms/step - loss: 2.0237 - accuracy: 0.7040\n",
      "Epoch 29/200\n",
      "125/125 [==============================] - 0s 2ms/step - loss: 2.0029 - accuracy: 0.7075\n",
      "Epoch 30/200\n",
      "125/125 [==============================] - 0s 2ms/step - loss: 1.9764 - accuracy: 0.7237\n",
      "Epoch 31/200\n",
      "125/125 [==============================] - 0s 2ms/step - loss: 1.9548 - accuracy: 0.7255\n",
      "Epoch 32/200\n",
      "125/125 [==============================] - 0s 2ms/step - loss: 1.9334 - accuracy: 0.7358\n",
      "Epoch 33/200\n",
      "125/125 [==============================] - 0s 2ms/step - loss: 1.9067 - accuracy: 0.7420\n",
      "Epoch 34/200\n",
      "125/125 [==============================] - 0s 2ms/step - loss: 1.8862 - accuracy: 0.7525\n",
      "Epoch 35/200\n",
      "125/125 [==============================] - 0s 2ms/step - loss: 1.8649 - accuracy: 0.7592\n",
      "Epoch 36/200\n",
      "125/125 [==============================] - 0s 2ms/step - loss: 1.8435 - accuracy: 0.7680\n",
      "Epoch 37/200\n",
      "125/125 [==============================] - 0s 2ms/step - loss: 1.8230 - accuracy: 0.7717\n",
      "Epoch 38/200\n",
      "125/125 [==============================] - 0s 2ms/step - loss: 1.8052 - accuracy: 0.7845\n",
      "Epoch 39/200\n",
      "125/125 [==============================] - 0s 2ms/step - loss: 1.7814 - accuracy: 0.7883\n",
      "Epoch 40/200\n",
      "125/125 [==============================] - 0s 2ms/step - loss: 1.7645 - accuracy: 0.7947\n",
      "Epoch 41/200\n",
      "125/125 [==============================] - 0s 2ms/step - loss: 1.7465 - accuracy: 0.7972\n",
      "Epoch 42/200\n",
      "125/125 [==============================] - 0s 2ms/step - loss: 1.7224 - accuracy: 0.8110\n",
      "Epoch 43/200\n",
      "125/125 [==============================] - 0s 2ms/step - loss: 1.7035 - accuracy: 0.8180\n",
      "Epoch 44/200\n",
      "125/125 [==============================] - 0s 2ms/step - loss: 1.6870 - accuracy: 0.8253\n",
      "Epoch 45/200\n",
      "125/125 [==============================] - 0s 2ms/step - loss: 1.6712 - accuracy: 0.8248\n",
      "Epoch 46/200\n",
      "125/125 [==============================] - 0s 2ms/step - loss: 1.6526 - accuracy: 0.8330\n",
      "Epoch 47/200\n",
      "125/125 [==============================] - 0s 2ms/step - loss: 1.6353 - accuracy: 0.8357\n",
      "Epoch 48/200\n",
      "125/125 [==============================] - 0s 2ms/step - loss: 1.6152 - accuracy: 0.8422\n",
      "Epoch 49/200\n",
      "125/125 [==============================] - 0s 2ms/step - loss: 1.5979 - accuracy: 0.8518\n",
      "Epoch 50/200\n",
      "125/125 [==============================] - 0s 2ms/step - loss: 1.5851 - accuracy: 0.8608\n",
      "Epoch 51/200\n",
      "125/125 [==============================] - 0s 2ms/step - loss: 1.5635 - accuracy: 0.8675\n",
      "Epoch 52/200\n",
      "125/125 [==============================] - 0s 2ms/step - loss: 1.5531 - accuracy: 0.8680\n",
      "Epoch 53/200\n",
      "125/125 [==============================] - 0s 2ms/step - loss: 1.5342 - accuracy: 0.8735\n",
      "Epoch 54/200\n",
      "125/125 [==============================] - 0s 2ms/step - loss: 1.5219 - accuracy: 0.8813\n",
      "Epoch 55/200\n",
      "125/125 [==============================] - 0s 2ms/step - loss: 1.5113 - accuracy: 0.8825\n",
      "Epoch 56/200\n",
      "125/125 [==============================] - 0s 2ms/step - loss: 1.4906 - accuracy: 0.8890\n",
      "Epoch 57/200\n",
      "125/125 [==============================] - 0s 2ms/step - loss: 1.4753 - accuracy: 0.8970\n",
      "Epoch 58/200\n",
      "125/125 [==============================] - 0s 2ms/step - loss: 1.4678 - accuracy: 0.8900\n",
      "Epoch 59/200\n",
      "125/125 [==============================] - 0s 2ms/step - loss: 1.4550 - accuracy: 0.8970\n",
      "Epoch 60/200\n",
      "125/125 [==============================] - 0s 2ms/step - loss: 1.4403 - accuracy: 0.9030\n",
      "Epoch 61/200\n",
      "125/125 [==============================] - 0s 2ms/step - loss: 1.4333 - accuracy: 0.9040\n",
      "Epoch 62/200\n",
      "125/125 [==============================] - 0s 2ms/step - loss: 1.4170 - accuracy: 0.9085\n",
      "Epoch 63/200\n",
      "125/125 [==============================] - 0s 2ms/step - loss: 1.4088 - accuracy: 0.9095\n",
      "Epoch 64/200\n",
      "125/125 [==============================] - 0s 2ms/step - loss: 1.3940 - accuracy: 0.9195\n",
      "Epoch 65/200\n",
      "125/125 [==============================] - 0s 2ms/step - loss: 1.3850 - accuracy: 0.9150\n",
      "Epoch 66/200\n",
      "125/125 [==============================] - 0s 2ms/step - loss: 1.3714 - accuracy: 0.9265\n",
      "Epoch 67/200\n",
      "125/125 [==============================] - 0s 2ms/step - loss: 1.3643 - accuracy: 0.9222\n",
      "Epoch 68/200\n",
      "125/125 [==============================] - 0s 2ms/step - loss: 1.3529 - accuracy: 0.9283\n",
      "Epoch 69/200\n",
      "125/125 [==============================] - 0s 2ms/step - loss: 1.3464 - accuracy: 0.9293\n",
      "Epoch 70/200\n",
      "125/125 [==============================] - 0s 2ms/step - loss: 1.3365 - accuracy: 0.9325\n",
      "Epoch 71/200\n",
      "125/125 [==============================] - 0s 2ms/step - loss: 1.3271 - accuracy: 0.9340\n",
      "Epoch 72/200\n",
      "125/125 [==============================] - 0s 2ms/step - loss: 1.3228 - accuracy: 0.9375\n",
      "Epoch 73/200\n",
      "125/125 [==============================] - 0s 2ms/step - loss: 1.3106 - accuracy: 0.9377\n",
      "Epoch 74/200\n",
      "125/125 [==============================] - 0s 2ms/step - loss: 1.3023 - accuracy: 0.9400\n",
      "Epoch 75/200\n",
      "125/125 [==============================] - 0s 2ms/step - loss: 1.2908 - accuracy: 0.9450\n",
      "Epoch 76/200\n",
      "125/125 [==============================] - 0s 2ms/step - loss: 1.2902 - accuracy: 0.9430\n",
      "Epoch 77/200\n",
      "125/125 [==============================] - 0s 2ms/step - loss: 1.2798 - accuracy: 0.9442\n",
      "Epoch 78/200\n",
      "125/125 [==============================] - 0s 2ms/step - loss: 1.2725 - accuracy: 0.9485\n",
      "Epoch 79/200\n",
      "125/125 [==============================] - 0s 2ms/step - loss: 1.2632 - accuracy: 0.9528\n",
      "Epoch 80/200\n",
      "125/125 [==============================] - 0s 2ms/step - loss: 1.2580 - accuracy: 0.9520\n",
      "Epoch 81/200\n",
      "125/125 [==============================] - 0s 2ms/step - loss: 1.2536 - accuracy: 0.9510\n",
      "Epoch 82/200\n",
      "125/125 [==============================] - 0s 2ms/step - loss: 1.2437 - accuracy: 0.9540\n",
      "Epoch 83/200\n",
      "125/125 [==============================] - 0s 2ms/step - loss: 1.2382 - accuracy: 0.9538\n",
      "Epoch 84/200\n",
      "125/125 [==============================] - 0s 2ms/step - loss: 1.2315 - accuracy: 0.9582\n",
      "Epoch 85/200\n",
      "125/125 [==============================] - 0s 2ms/step - loss: 1.2254 - accuracy: 0.9605\n",
      "Epoch 86/200\n",
      "125/125 [==============================] - 0s 2ms/step - loss: 1.2178 - accuracy: 0.9630\n",
      "Epoch 87/200\n",
      "125/125 [==============================] - 0s 2ms/step - loss: 1.2132 - accuracy: 0.9632\n",
      "Epoch 88/200\n",
      "125/125 [==============================] - 0s 2ms/step - loss: 1.2065 - accuracy: 0.9635\n",
      "Epoch 89/200\n",
      "125/125 [==============================] - 0s 2ms/step - loss: 1.2024 - accuracy: 0.9643\n",
      "Epoch 90/200\n",
      "125/125 [==============================] - 0s 2ms/step - loss: 1.1993 - accuracy: 0.9625\n",
      "Epoch 91/200\n",
      "125/125 [==============================] - 0s 2ms/step - loss: 1.1911 - accuracy: 0.9657\n",
      "Epoch 92/200\n",
      "125/125 [==============================] - 0s 2ms/step - loss: 1.1855 - accuracy: 0.9695\n",
      "Epoch 93/200\n",
      "125/125 [==============================] - 0s 2ms/step - loss: 1.1797 - accuracy: 0.9693\n",
      "Epoch 94/200\n",
      "125/125 [==============================] - 0s 2ms/step - loss: 1.1757 - accuracy: 0.9700\n",
      "Epoch 95/200\n",
      "125/125 [==============================] - 0s 2ms/step - loss: 1.1715 - accuracy: 0.9685\n",
      "Epoch 96/200\n",
      "125/125 [==============================] - 0s 2ms/step - loss: 1.1659 - accuracy: 0.9720\n",
      "Epoch 97/200\n",
      "125/125 [==============================] - 0s 2ms/step - loss: 1.1610 - accuracy: 0.9705\n",
      "Epoch 98/200\n",
      "125/125 [==============================] - 0s 2ms/step - loss: 1.1538 - accuracy: 0.9753\n",
      "Epoch 99/200\n",
      "125/125 [==============================] - 0s 2ms/step - loss: 1.1522 - accuracy: 0.9743\n",
      "Epoch 100/200\n",
      "125/125 [==============================] - 0s 2ms/step - loss: 1.1467 - accuracy: 0.9768\n",
      "Epoch 101/200\n",
      "125/125 [==============================] - 0s 2ms/step - loss: 1.1432 - accuracy: 0.9745\n",
      "Epoch 102/200\n",
      "125/125 [==============================] - 0s 2ms/step - loss: 1.1372 - accuracy: 0.9793\n",
      "Epoch 103/200\n",
      "125/125 [==============================] - 0s 2ms/step - loss: 1.1328 - accuracy: 0.9770\n",
      "Epoch 104/200\n",
      "125/125 [==============================] - 0s 2ms/step - loss: 1.1279 - accuracy: 0.9800\n",
      "Epoch 105/200\n",
      "125/125 [==============================] - 0s 2ms/step - loss: 1.1242 - accuracy: 0.9800\n",
      "Epoch 106/200\n",
      "125/125 [==============================] - 0s 2ms/step - loss: 1.1195 - accuracy: 0.9805\n",
      "Epoch 107/200\n",
      "125/125 [==============================] - 0s 2ms/step - loss: 1.1153 - accuracy: 0.9808\n",
      "Epoch 108/200\n",
      "125/125 [==============================] - 0s 2ms/step - loss: 1.1112 - accuracy: 0.9833\n",
      "Epoch 109/200\n",
      "125/125 [==============================] - 0s 2ms/step - loss: 1.1064 - accuracy: 0.9858\n",
      "Epoch 110/200\n",
      "125/125 [==============================] - 0s 2ms/step - loss: 1.1037 - accuracy: 0.9820\n",
      "Epoch 111/200\n",
      "125/125 [==============================] - 0s 2ms/step - loss: 1.0990 - accuracy: 0.9858\n",
      "Epoch 112/200\n",
      "125/125 [==============================] - 0s 2ms/step - loss: 1.0947 - accuracy: 0.9840\n",
      "Epoch 113/200\n",
      "125/125 [==============================] - 0s 2ms/step - loss: 1.0911 - accuracy: 0.9858\n",
      "Epoch 114/200\n",
      "125/125 [==============================] - 0s 2ms/step - loss: 1.0886 - accuracy: 0.9858\n",
      "Epoch 115/200\n",
      "125/125 [==============================] - 0s 2ms/step - loss: 1.0840 - accuracy: 0.9860\n",
      "Epoch 116/200\n",
      "125/125 [==============================] - 0s 2ms/step - loss: 1.0817 - accuracy: 0.9855\n",
      "Epoch 117/200\n",
      "125/125 [==============================] - 0s 2ms/step - loss: 1.0780 - accuracy: 0.9883\n",
      "Epoch 118/200\n",
      "125/125 [==============================] - 0s 2ms/step - loss: 1.0730 - accuracy: 0.9887\n",
      "Epoch 119/200\n",
      "125/125 [==============================] - 0s 2ms/step - loss: 1.0697 - accuracy: 0.9887\n",
      "Epoch 120/200\n",
      "125/125 [==============================] - 0s 2ms/step - loss: 1.0660 - accuracy: 0.9893\n",
      "Epoch 121/200\n",
      "125/125 [==============================] - 0s 2ms/step - loss: 1.0626 - accuracy: 0.9887\n",
      "Epoch 122/200\n",
      "125/125 [==============================] - 0s 2ms/step - loss: 1.0593 - accuracy: 0.9898\n",
      "Epoch 123/200\n",
      "125/125 [==============================] - 0s 2ms/step - loss: 1.0563 - accuracy: 0.9900\n",
      "Epoch 124/200\n",
      "125/125 [==============================] - 0s 2ms/step - loss: 1.0523 - accuracy: 0.9895\n",
      "Epoch 125/200\n",
      "125/125 [==============================] - 0s 2ms/step - loss: 1.0495 - accuracy: 0.9910\n",
      "Epoch 126/200\n",
      "125/125 [==============================] - 0s 2ms/step - loss: 1.0471 - accuracy: 0.9900\n",
      "Epoch 127/200\n",
      "125/125 [==============================] - 0s 2ms/step - loss: 1.0435 - accuracy: 0.9923\n",
      "Epoch 128/200\n",
      "125/125 [==============================] - 0s 2ms/step - loss: 1.0409 - accuracy: 0.9908\n",
      "Epoch 129/200\n",
      "125/125 [==============================] - 0s 2ms/step - loss: 1.0370 - accuracy: 0.9905\n",
      "Epoch 130/200\n",
      "125/125 [==============================] - 0s 2ms/step - loss: 1.0347 - accuracy: 0.9923\n",
      "Epoch 131/200\n",
      "125/125 [==============================] - 0s 2ms/step - loss: 1.0309 - accuracy: 0.9933\n",
      "Epoch 132/200\n",
      "125/125 [==============================] - 0s 2ms/step - loss: 1.0288 - accuracy: 0.9925\n",
      "Epoch 133/200\n",
      "125/125 [==============================] - 0s 2ms/step - loss: 1.0251 - accuracy: 0.9945\n",
      "Epoch 134/200\n",
      "125/125 [==============================] - 0s 2ms/step - loss: 1.0206 - accuracy: 0.9948\n",
      "Epoch 135/200\n",
      "125/125 [==============================] - 0s 2ms/step - loss: 1.0191 - accuracy: 0.9937\n",
      "Epoch 136/200\n",
      "125/125 [==============================] - 0s 2ms/step - loss: 1.0154 - accuracy: 0.9942\n",
      "Epoch 137/200\n",
      "125/125 [==============================] - 0s 2ms/step - loss: 1.0131 - accuracy: 0.9940\n",
      "Epoch 138/200\n",
      "125/125 [==============================] - 0s 2ms/step - loss: 1.0116 - accuracy: 0.9935\n",
      "Epoch 139/200\n",
      "125/125 [==============================] - 0s 2ms/step - loss: 1.0082 - accuracy: 0.9945\n",
      "Epoch 140/200\n",
      "125/125 [==============================] - 0s 2ms/step - loss: 1.0038 - accuracy: 0.9948\n",
      "Epoch 141/200\n",
      "125/125 [==============================] - 0s 2ms/step - loss: 1.0026 - accuracy: 0.9945\n",
      "Epoch 142/200\n",
      "125/125 [==============================] - 0s 2ms/step - loss: 0.9987 - accuracy: 0.9962\n",
      "Epoch 143/200\n",
      "125/125 [==============================] - 0s 2ms/step - loss: 0.9963 - accuracy: 0.9955\n",
      "Epoch 144/200\n",
      "125/125 [==============================] - 0s 2ms/step - loss: 0.9942 - accuracy: 0.9948\n",
      "Epoch 145/200\n",
      "125/125 [==============================] - 0s 2ms/step - loss: 0.9912 - accuracy: 0.9962\n",
      "Epoch 146/200\n",
      "125/125 [==============================] - 0s 2ms/step - loss: 0.9870 - accuracy: 0.9965\n",
      "Epoch 147/200\n",
      "125/125 [==============================] - 0s 2ms/step - loss: 0.9856 - accuracy: 0.9960\n",
      "Epoch 148/200\n",
      "125/125 [==============================] - 0s 2ms/step - loss: 0.9835 - accuracy: 0.9967\n",
      "Epoch 149/200\n",
      "125/125 [==============================] - 0s 2ms/step - loss: 0.9799 - accuracy: 0.9967\n",
      "Epoch 150/200\n",
      "125/125 [==============================] - 0s 2ms/step - loss: 0.9779 - accuracy: 0.9960\n",
      "Epoch 151/200\n",
      "125/125 [==============================] - 0s 2ms/step - loss: 0.9752 - accuracy: 0.9965\n",
      "Epoch 152/200\n",
      "125/125 [==============================] - 0s 2ms/step - loss: 0.9716 - accuracy: 0.9973\n",
      "Epoch 153/200\n",
      "125/125 [==============================] - 0s 2ms/step - loss: 0.9706 - accuracy: 0.9962\n",
      "Epoch 154/200\n",
      "125/125 [==============================] - 0s 2ms/step - loss: 0.9673 - accuracy: 0.9973\n",
      "Epoch 155/200\n",
      "125/125 [==============================] - 0s 2ms/step - loss: 0.9648 - accuracy: 0.9965\n",
      "Epoch 156/200\n",
      "125/125 [==============================] - 0s 2ms/step - loss: 0.9634 - accuracy: 0.9962\n",
      "Epoch 157/200\n",
      "125/125 [==============================] - 0s 2ms/step - loss: 0.9593 - accuracy: 0.9975\n",
      "Epoch 158/200\n",
      "125/125 [==============================] - 0s 2ms/step - loss: 0.9572 - accuracy: 0.9975\n",
      "Epoch 159/200\n",
      "125/125 [==============================] - 0s 2ms/step - loss: 0.9546 - accuracy: 0.9973\n",
      "Epoch 160/200\n",
      "125/125 [==============================] - 0s 2ms/step - loss: 0.9528 - accuracy: 0.9973\n",
      "Epoch 161/200\n",
      "125/125 [==============================] - 0s 2ms/step - loss: 0.9503 - accuracy: 0.9973\n",
      "Epoch 162/200\n",
      "125/125 [==============================] - 0s 2ms/step - loss: 0.9483 - accuracy: 0.9977\n",
      "Epoch 163/200\n",
      "125/125 [==============================] - 0s 2ms/step - loss: 0.9457 - accuracy: 0.9973\n",
      "Epoch 164/200\n",
      "125/125 [==============================] - 0s 2ms/step - loss: 0.9436 - accuracy: 0.9975\n",
      "Epoch 165/200\n",
      "125/125 [==============================] - 0s 2ms/step - loss: 0.9404 - accuracy: 0.9977\n",
      "Epoch 166/200\n",
      "125/125 [==============================] - 0s 2ms/step - loss: 0.9393 - accuracy: 0.9977\n",
      "Epoch 167/200\n",
      "125/125 [==============================] - 0s 2ms/step - loss: 0.9356 - accuracy: 0.9980\n",
      "Epoch 168/200\n",
      "125/125 [==============================] - 0s 2ms/step - loss: 0.9331 - accuracy: 0.9977\n",
      "Epoch 169/200\n",
      "125/125 [==============================] - 0s 2ms/step - loss: 0.9310 - accuracy: 0.9985\n",
      "Epoch 170/200\n",
      "125/125 [==============================] - 0s 2ms/step - loss: 0.9289 - accuracy: 0.9985\n",
      "Epoch 171/200\n",
      "125/125 [==============================] - 0s 2ms/step - loss: 0.9264 - accuracy: 0.9985\n",
      "Epoch 172/200\n",
      "125/125 [==============================] - 0s 2ms/step - loss: 0.9247 - accuracy: 0.9977\n",
      "Epoch 173/200\n",
      "125/125 [==============================] - 0s 2ms/step - loss: 0.9221 - accuracy: 0.9977\n",
      "Epoch 174/200\n",
      "125/125 [==============================] - 0s 2ms/step - loss: 0.9200 - accuracy: 0.9985\n",
      "Epoch 175/200\n",
      "125/125 [==============================] - 0s 2ms/step - loss: 0.9177 - accuracy: 0.9987\n",
      "Epoch 176/200\n",
      "125/125 [==============================] - 0s 2ms/step - loss: 0.9159 - accuracy: 0.9985\n",
      "Epoch 177/200\n",
      "125/125 [==============================] - 0s 2ms/step - loss: 0.9135 - accuracy: 0.9987\n",
      "Epoch 178/200\n",
      "125/125 [==============================] - 0s 2ms/step - loss: 0.9111 - accuracy: 0.9985\n",
      "Epoch 179/200\n",
      "125/125 [==============================] - 0s 2ms/step - loss: 0.9086 - accuracy: 0.9987\n",
      "Epoch 180/200\n",
      "125/125 [==============================] - 0s 2ms/step - loss: 0.9068 - accuracy: 0.9983\n",
      "Epoch 181/200\n",
      "125/125 [==============================] - 0s 2ms/step - loss: 0.9045 - accuracy: 0.9985\n",
      "Epoch 182/200\n",
      "125/125 [==============================] - 0s 2ms/step - loss: 0.9025 - accuracy: 0.9985\n",
      "Epoch 183/200\n",
      "125/125 [==============================] - 0s 2ms/step - loss: 0.9002 - accuracy: 0.9983\n",
      "Epoch 184/200\n",
      "125/125 [==============================] - 0s 2ms/step - loss: 0.8979 - accuracy: 0.9995\n",
      "Epoch 185/200\n",
      "125/125 [==============================] - 0s 2ms/step - loss: 0.8962 - accuracy: 0.9985\n",
      "Epoch 186/200\n",
      "125/125 [==============================] - 0s 2ms/step - loss: 0.8936 - accuracy: 0.9992\n",
      "Epoch 187/200\n",
      "125/125 [==============================] - 0s 2ms/step - loss: 0.8920 - accuracy: 0.9987\n",
      "Epoch 188/200\n",
      "125/125 [==============================] - 0s 2ms/step - loss: 0.8897 - accuracy: 0.9992\n",
      "Epoch 189/200\n",
      "125/125 [==============================] - 0s 2ms/step - loss: 0.8870 - accuracy: 0.9995\n",
      "Epoch 190/200\n",
      "125/125 [==============================] - 0s 2ms/step - loss: 0.8855 - accuracy: 0.9995\n",
      "Epoch 191/200\n",
      "125/125 [==============================] - 0s 2ms/step - loss: 0.8833 - accuracy: 0.9995\n",
      "Epoch 192/200\n",
      "125/125 [==============================] - 0s 2ms/step - loss: 0.8812 - accuracy: 0.9995\n",
      "Epoch 193/200\n",
      "125/125 [==============================] - 0s 2ms/step - loss: 0.8789 - accuracy: 0.9998\n",
      "Epoch 194/200\n",
      "125/125 [==============================] - 0s 2ms/step - loss: 0.8772 - accuracy: 0.9995\n",
      "Epoch 195/200\n",
      "125/125 [==============================] - 0s 2ms/step - loss: 0.8750 - accuracy: 0.9992\n",
      "Epoch 196/200\n",
      "125/125 [==============================] - 0s 2ms/step - loss: 0.8729 - accuracy: 0.9998\n",
      "Epoch 197/200\n",
      "125/125 [==============================] - 0s 2ms/step - loss: 0.8710 - accuracy: 0.9995\n",
      "Epoch 198/200\n",
      "125/125 [==============================] - 0s 2ms/step - loss: 0.8689 - accuracy: 0.9995\n",
      "Epoch 199/200\n",
      "125/125 [==============================] - 0s 2ms/step - loss: 0.8672 - accuracy: 0.9995\n",
      "Epoch 200/200\n",
      "125/125 [==============================] - 0s 2ms/step - loss: 0.8648 - accuracy: 0.9995\n"
     ]
    }
   ],
   "source": [
    "##Task1-Question2\n",
    "#Your code\n",
    "model.compile(loss=keras.losses.categorical_crossentropy,\n",
    "              optimizer=tensorflow.keras.optimizers.SGD(),\n",
    "              metrics=['accuracy'])\n",
    "\n",
    "def lr_scheduler(epoch):\n",
    "    base_ep = 15\n",
    "    return 1e-3 * (.5 ** (epoch // base_ep))\n",
    "lr_reduce_cb = keras.callbacks.LearningRateScheduler(lr_scheduler)\n",
    "tensorboard_cb = keras.callbacks.TensorBoard(log_dir='log2', write_graph=True)\n",
    "early_stopping_cb = keras.callbacks.EarlyStopping(patience=8, min_delta=0.)\n",
    "\n",
    "# X = tensorflow.expand_dims(dataset['x'],axis=2)\n",
    "train_x=dataset['x']\n",
    "train_y=dataset['y']\n",
    "train_x=train_x.reshape(4000,40,1)\n",
    "train_y=tensorflow.keras.utils.to_categorical(train_y, num_classes=10)\n",
    "\n",
    "# print(X.shape)\n",
    "history=model.fit(x=train_x,y=train_y,epochs=200,\n",
    "#                     steps_per_epoch=len(X) // 32,\n",
    "                    callbacks=[tensorboard_cb],                  \n",
    "                    shuffle = True,\n",
    "                    verbose=1)\n",
    "model.save('MNIST1D.h5')\n",
    "##"
   ]
  },
  {
   "cell_type": "markdown",
   "metadata": {
    "id": "i2ajdUlDzQdM"
   },
   "source": [
    "# Plotting the training progress"
   ]
  },
  {
   "cell_type": "code",
   "execution_count": 13,
   "metadata": {},
   "outputs": [
    {
     "name": "stdout",
     "output_type": "stream",
     "text": [
      "125/125 [==============================] - 0s 844us/step - loss: 0.8620 - accuracy: 0.9998\n"
     ]
    },
    {
     "data": {
      "text/plain": [
       "[0.8620351552963257, 0.999750018119812]"
      ]
     },
     "execution_count": 13,
     "metadata": {},
     "output_type": "execute_result"
    }
   ],
   "source": [
    "model.evaluate(train_x,train_y, verbose=1, batch_size=32)"
   ]
  },
  {
   "cell_type": "code",
   "execution_count": 14,
   "metadata": {
    "id": "GixoKeUrt_rE"
   },
   "outputs": [
    {
     "data": {
      "text/plain": [
       "[<matplotlib.lines.Line2D at 0x1be0a1c6c10>]"
      ]
     },
     "execution_count": 14,
     "metadata": {},
     "output_type": "execute_result"
    },
    {
     "data": {
      "image/png": "[encoded data removed]",
      "text/plain": [
       "<Figure size 432x288 with 1 Axes>"
      ]
     },
     "metadata": {
      "needs_background": "light"
     },
     "output_type": "display_data"
    },
    {
     "data": {
      "image/png": "[encoded data removed]",
      "text/plain": [
       "<Figure size 432x288 with 1 Axes>"
      ]
     },
     "metadata": {
      "needs_background": "light"
     },
     "output_type": "display_data"
    }
   ],
   "source": [
    "##Task1-Question3.a\n",
    "\n",
    "#Your code\n",
    "train_acc = history.history['accuracy']\n",
    "train_loss = history.history['loss']\n",
    "plt.plot(train_acc)\n",
    "plt.figure()\n",
    "plt.plot(train_loss)\n"
   ]
  },
  {
   "cell_type": "code",
   "execution_count": 15,
   "metadata": {},
   "outputs": [
    {
     "name": "stdout",
     "output_type": "stream",
     "text": [
      "              precision    recall  f1-score   support\n",
      "\n",
      "           0       0.98      1.00      0.99       102\n",
      "           1       0.91      0.89      0.90       104\n",
      "           2       0.86      0.89      0.87        89\n",
      "           3       0.99      0.96      0.98       106\n",
      "           4       0.92      0.92      0.92       106\n",
      "           5       0.84      0.88      0.86        98\n",
      "           6       0.98      0.98      0.98        99\n",
      "           7       0.91      0.90      0.90        96\n",
      "           8       0.93      0.97      0.95        98\n",
      "           9       0.84      0.78      0.81       102\n",
      "\n",
      "    accuracy                           0.92      1000\n",
      "   macro avg       0.92      0.92      0.92      1000\n",
      "weighted avg       0.92      0.92      0.92      1000\n",
      "\n"
     ]
    }
   ],
   "source": [
    "# Use Scikit-learn to calculate stats\n",
    "from sklearn.metrics import accuracy_score, precision_score, recall_score,f1_score\n",
    "from sklearn.metrics import classification_report\n",
    "\n",
    "x_test = dataset['x_test']\n",
    "y_test = dataset['y_test']\n",
    "x_test=x_test.reshape(1000,40,1)\n",
    "# predict_classes removed in tf 2.6.0\n",
    "y_pred = model.predict(x_test)\n",
    "y_predicted = np.argmax(y_pred,axis=1)\n",
    "# print(y_predicted[1])\n",
    "print(classification_report(y_true=y_test,y_pred=y_predicted))\n",
    "#(P-R)\n",
    "#ROC\n",
    "#AUC"
   ]
  },
  {
   "cell_type": "markdown",
   "metadata": {
    "id": "7ZWnNSegwqn3"
   },
   "source": [
    "# Explanation"
   ]
  },
  {
   "cell_type": "code",
   "execution_count": 16,
   "metadata": {
    "id": "fQQiOC7McDrI"
   },
   "outputs": [],
   "source": [
    "from xai_utils import *"
   ]
  },
  {
   "cell_type": "markdown",
   "metadata": {
    "id": "04WgCQtUumf3"
   },
   "source": [
    "Take a test sample"
   ]
  },
  {
   "cell_type": "markdown",
   "metadata": {
    "id": "78Rd1BLHupgY"
   },
   "source": [
    "Give the input to the model (Prediction)"
   ]
  },
  {
   "cell_type": "code",
   "execution_count": 27,
   "metadata": {
    "colab": {
     "base_uri": "https://localhost:8080/"
    },
    "id": "YGPB_uXFuxBu",
    "outputId": "f3dc79f7-52dd-49c7-b23a-cd0b79e7093b"
   },
   "outputs": [
    {
     "name": "stdout",
     "output_type": "stream",
     "text": [
      "(1, 40, 1)\n",
      "Correct digit: 3\n",
      "Predicted digit: 3\n",
      "Confidence score for the correct label: 0.9999999\n"
     ]
    }
   ],
   "source": [
    "index = int(np.floor(np.random.rand()*1000))\n",
    "input = np.expand_dims(x_test[index], axis=0)\n",
    "print(input.shape)\n",
    "label = y_test[index]\n",
    "print('Correct digit: '+str(label))\n",
    "print('Predicted digit: '+str(np.argmax(model(np.expand_dims(np.expand_dims(x_test[index], axis=0), axis=-1)).numpy())))\n",
    "print('Confidence score for the correct label: '+str(model(np.expand_dims(np.expand_dims(x_test[index], axis=0), axis=-1)).numpy()[0,label]))"
   ]
  },
  {
   "cell_type": "markdown",
   "metadata": {
    "id": "HWBlYJ_Gvzmt"
   },
   "source": [
    "## SISE (Semantic Input Sampling for Explanation)"
   ]
  },
  {
   "cell_type": "code",
   "execution_count": 34,
   "metadata": {
    "id": "s_3MO6jQvp1l"
   },
   "outputs": [
    {
     "name": "stdout",
     "output_type": "stream",
     "text": [
      "(1, 40, 1)\n"
     ]
    }
   ],
   "source": [
    "print(input.shape)\n",
    "explanation = SISE(input, model, label, [['conv1d_2']], grad_thr=0.)"
   ]
  },
  {
   "cell_type": "code",
   "execution_count": 29,
   "metadata": {
    "colab": {
     "base_uri": "https://localhost:8080/",
     "height": 353
    },
    "id": "raFCq-HXcQge",
    "outputId": "a1973287-43bf-4a6f-d74e-d65f39f658f0"
   },
   "outputs": [
    {
     "data": {
      "text/plain": [
       "Text(0.5, 1.0, 'Highlighted input region (by the SISE algorithm)')"
      ]
     },
     "execution_count": 29,
     "metadata": {},
     "output_type": "execute_result"
    },
    {
     "data": {
      "image/png": "[encoded data removed]",
      "text/plain": [
       "<Figure size 1800x360 with 4 Axes>"
      ]
     },
     "metadata": {
      "needs_background": "light"
     },
     "output_type": "display_data"
    }
   ],
   "source": [
    "threshold = np.sort(explanation[:,0])[-12]\n",
    "\n",
    "plt.figure(figsize=(25,5))\n",
    "\n",
    "plt.subplot(1,4,1)\n",
    "plt.plot(input[0])\n",
    "plt.title('Input array')\n",
    "\n",
    "plt.subplot(1,4,2)\n",
    "plt.plot(explanation, 'r')\n",
    "plt.title('Explanation map')\n",
    "\n",
    "plt.subplot(1,4,3)\n",
    "plt.plot(dataset['templates']['x'][label])\n",
    "plt.title('Label template')\n",
    "\n",
    "plt.subplot(1,4,4)\n",
    "plt.plot((input[0]*(explanation>threshold)), 'r')\n",
    "plt.title('Highlighted input region (by the SISE algorithm)')"
   ]
  },
  {
   "cell_type": "markdown",
   "metadata": {
    "id": "PNEApbAEQkc9"
   },
   "source": [
    "## Grad-CAM"
   ]
  },
  {
   "cell_type": "code",
   "execution_count": 35,
   "metadata": {
    "id": "OQPetu80Qlhw"
   },
   "outputs": [
    {
     "name": "stdout",
     "output_type": "stream",
     "text": [
      "(1, 40, 1)\n"
     ]
    }
   ],
   "source": [
    "print(input.shape)\n",
    "explanation = grad_cam(model, input, 'conv1d_2')"
   ]
  },
  {
   "cell_type": "code",
   "execution_count": 31,
   "metadata": {
    "colab": {
     "base_uri": "https://localhost:8080/",
     "height": 353
    },
    "id": "0rDRk4clQwl6",
    "outputId": "d1546a39-99fb-4c87-8111-919a8c016740"
   },
   "outputs": [
    {
     "data": {
      "text/plain": [
       "Text(0.5, 1.0, 'Highlighted input region (by the  algorithm)')"
      ]
     },
     "execution_count": 31,
     "metadata": {},
     "output_type": "execute_result"
    },
    {
     "data": {
      "image/png": "[encoded data removed]",
      "text/plain": [
       "<Figure size 1800x360 with 4 Axes>"
      ]
     },
     "metadata": {
      "needs_background": "light"
     },
     "output_type": "display_data"
    }
   ],
   "source": [
    "threshold = np.sort(explanation)[-12]\n",
    "\n",
    "plt.figure(figsize=(25,5))\n",
    "\n",
    "plt.subplot(1,4,1)\n",
    "plt.plot(input[0])\n",
    "plt.title('Input array')\n",
    "\n",
    "plt.subplot(1,4,2)\n",
    "plt.plot(explanation, 'r')\n",
    "plt.title('Explanation map')\n",
    "\n",
    "plt.subplot(1,4,3)\n",
    "plt.plot(dataset['templates']['x'][label])\n",
    "plt.title('Label template')\n",
    "\n",
    "plt.subplot(1,4,4)\n",
    "plt.plot((input[0,:,0]*(explanation>threshold)), 'r')\n",
    "plt.title('Highlighted input region (by the  algorithm)')"
   ]
  },
  {
   "cell_type": "markdown",
   "metadata": {},
   "source": [
    "## Ablation-CAM"
   ]
  },
  {
   "cell_type": "code",
   "execution_count": 38,
   "metadata": {},
   "outputs": [
    {
     "name": "stdout",
     "output_type": "stream",
     "text": [
      "(1, 40, 1)\n",
      "(40, 1)\n",
      "gradModel = \n",
      "<keras.engine.functional.Functional object at 0x000001BE17193BE0>\n",
      "#prediction#\n",
      "tf.Tensor(\n",
      "[[2.9562541e-08 2.5816198e-16 1.1805385e-13 9.9999988e-01 3.8436570e-22\n",
      "  1.0579373e-13 7.1301132e-18 1.7038178e-07 1.8213951e-09 8.3027925e-12]], shape=(1, 10), dtype=float32)\n",
      "OUTPUT\n",
      "tf.Tensor(\n",
      "[[3.44334632e-01 0.00000000e+00 1.07663977e+00 0.00000000e+00\n",
      "  1.09253812e+00 9.27555263e-01 0.00000000e+00 0.00000000e+00\n",
      "  1.51488453e-01 0.00000000e+00 0.00000000e+00 0.00000000e+00\n",
      "  1.48533726e+00 1.64787364e+00 1.21818280e+00 0.00000000e+00\n",
      "  1.30777466e+00 6.24792039e-01 0.00000000e+00 0.00000000e+00\n",
      "  0.00000000e+00 1.95916235e-01 0.00000000e+00 1.15449771e-01\n",
      "  1.06050873e+00]\n",
      " [1.89442730e+00 3.32642913e-01 1.94455171e+00 0.00000000e+00\n",
      "  2.90549779e+00 7.58940935e-01 0.00000000e+00 0.00000000e+00\n",
      "  0.00000000e+00 0.00000000e+00 0.00000000e+00 5.64437628e-01\n",
      "  1.59557676e+00 1.81955147e+00 2.53803730e-01 2.18202615e+00\n",
      "  1.48587024e+00 2.00834298e+00 0.00000000e+00 0.00000000e+00\n",
      "  3.40434134e-01 0.00000000e+00 0.00000000e+00 1.18497658e+00\n",
      "  1.03920734e+00]\n",
      " [1.40121710e+00 1.22152591e+00 2.32814455e+00 0.00000000e+00\n",
      "  3.09964943e+00 2.73803902e+00 0.00000000e+00 0.00000000e+00\n",
      "  1.31955892e-01 8.85296643e-01 3.08558643e-02 1.41003859e+00\n",
      "  2.17945409e+00 1.73577356e+00 0.00000000e+00 3.27107263e+00\n",
      "  1.89268851e+00 9.77541268e-01 0.00000000e+00 0.00000000e+00\n",
      "  0.00000000e+00 0.00000000e+00 0.00000000e+00 0.00000000e+00\n",
      "  1.60566831e+00]\n",
      " [1.96237516e+00 0.00000000e+00 1.96795392e+00 0.00000000e+00\n",
      "  4.17812061e+00 3.15925717e+00 0.00000000e+00 0.00000000e+00\n",
      "  0.00000000e+00 1.28554308e+00 8.48500133e-01 2.32298231e+00\n",
      "  1.60687661e+00 9.13919032e-01 1.71534270e-01 3.96646047e+00\n",
      "  2.14069986e+00 2.48584032e+00 3.09845328e-01 0.00000000e+00\n",
      "  0.00000000e+00 0.00000000e+00 0.00000000e+00 1.10716665e+00\n",
      "  9.28570867e-01]\n",
      " [2.89520931e+00 0.00000000e+00 2.62910867e+00 8.41388285e-01\n",
      "  3.79562020e+00 3.38678789e+00 5.03645837e-02 0.00000000e+00\n",
      "  5.91478825e-01 0.00000000e+00 0.00000000e+00 3.67973137e+00\n",
      "  3.26969624e+00 3.32136679e+00 9.10836458e-01 5.21897936e+00\n",
      "  2.45430493e+00 3.34954119e+00 0.00000000e+00 0.00000000e+00\n",
      "  1.96072721e+00 1.04265523e+00 1.65362155e+00 8.99799645e-01\n",
      "  4.16558862e-01]\n",
      " [4.76221800e+00 0.00000000e+00 3.16267610e+00 1.34568751e+00\n",
      "  3.31732726e+00 2.91967821e+00 0.00000000e+00 0.00000000e+00\n",
      "  0.00000000e+00 1.45621979e+00 0.00000000e+00 4.17645407e+00\n",
      "  2.33207273e+00 1.18020749e+00 7.30644822e-01 7.35736847e+00\n",
      "  1.61413980e+00 3.69540119e+00 0.00000000e+00 0.00000000e+00\n",
      "  1.19404387e+00 0.00000000e+00 2.78977633e+00 8.12129438e-01\n",
      "  2.20596075e+00]\n",
      " [4.00645876e+00 6.59804404e-01 3.60139346e+00 0.00000000e+00\n",
      "  1.87846518e+00 5.69272470e+00 6.68938756e-02 0.00000000e+00\n",
      "  8.65253806e-01 4.29556274e+00 0.00000000e+00 4.33578920e+00\n",
      "  6.20792866e+00 7.02515781e-01 0.00000000e+00 7.49712324e+00\n",
      "  2.79124904e+00 4.56247187e+00 0.00000000e+00 0.00000000e+00\n",
      "  8.60485435e-01 0.00000000e+00 0.00000000e+00 3.71728718e-01\n",
      "  6.75138295e-01]\n",
      " [3.86065054e+00 0.00000000e+00 3.09412313e+00 0.00000000e+00\n",
      "  2.79743910e+00 5.36030912e+00 1.26117122e+00 0.00000000e+00\n",
      "  1.13458920e+00 1.41897190e+00 0.00000000e+00 3.26146531e+00\n",
      "  5.84088993e+00 0.00000000e+00 0.00000000e+00 6.06693029e+00\n",
      "  2.79581928e+00 3.74240398e+00 1.33876276e+00 0.00000000e+00\n",
      "  1.42398655e+00 0.00000000e+00 1.46864176e-01 1.09034157e+00\n",
      "  2.21606255e+00]\n",
      " [3.05738711e+00 0.00000000e+00 4.41752625e+00 0.00000000e+00\n",
      "  2.49309397e+00 3.51886797e+00 0.00000000e+00 0.00000000e+00\n",
      "  7.26137996e-01 0.00000000e+00 0.00000000e+00 2.07763743e+00\n",
      "  4.86462069e+00 0.00000000e+00 0.00000000e+00 3.87584710e+00\n",
      "  2.00450754e+00 4.00797415e+00 0.00000000e+00 0.00000000e+00\n",
      "  2.64042807e+00 1.14693654e+00 1.88311398e-01 3.22187638e+00\n",
      "  4.43641841e-01]\n",
      " [2.90181923e+00 3.19356322e-01 1.50654078e+00 0.00000000e+00\n",
      "  1.18027794e+00 2.47700381e+00 0.00000000e+00 0.00000000e+00\n",
      "  0.00000000e+00 6.96436524e-01 5.41049242e-03 1.48358107e+00\n",
      "  2.87038779e+00 1.68550086e+00 8.05439949e-02 2.38250589e+00\n",
      "  9.50113773e-01 2.76738286e+00 0.00000000e+00 0.00000000e+00\n",
      "  6.54614925e-01 4.60182130e-02 0.00000000e+00 5.65209866e-01\n",
      "  7.08184719e-01]\n",
      " [2.77342176e+00 0.00000000e+00 1.99560404e+00 0.00000000e+00\n",
      "  7.83020318e-01 2.42920566e+00 5.74697733e-01 0.00000000e+00\n",
      "  4.22527492e-02 1.56407976e+00 0.00000000e+00 1.59324825e+00\n",
      "  2.86323953e+00 1.20512938e+00 0.00000000e+00 3.03950262e+00\n",
      "  2.21865034e+00 2.57491231e+00 1.29099309e+00 0.00000000e+00\n",
      "  2.58501545e-02 3.55223000e-01 0.00000000e+00 0.00000000e+00\n",
      "  3.74367714e-01]\n",
      " [1.51045895e+00 0.00000000e+00 1.82537556e-01 0.00000000e+00\n",
      "  8.04038405e-01 2.51064706e+00 3.87783915e-01 0.00000000e+00\n",
      "  0.00000000e+00 9.21250880e-03 0.00000000e+00 5.79177380e-01\n",
      "  1.63570714e+00 8.76460195e-01 0.00000000e+00 2.01684761e+00\n",
      "  1.17164016e+00 2.03294563e+00 2.19565794e-01 0.00000000e+00\n",
      "  6.55368745e-01 0.00000000e+00 0.00000000e+00 3.03354561e-01\n",
      "  1.66702795e+00]\n",
      " [1.07130325e+00 0.00000000e+00 7.48076320e-01 0.00000000e+00\n",
      "  7.73939788e-01 8.06559563e-01 0.00000000e+00 1.37976944e-01\n",
      "  0.00000000e+00 0.00000000e+00 0.00000000e+00 5.54047823e-01\n",
      "  6.19731307e-01 7.63636827e-01 3.64865214e-01 8.81096721e-02\n",
      "  4.20281649e-01 1.05034566e+00 0.00000000e+00 0.00000000e+00\n",
      "  1.19683540e+00 2.86544859e-03 2.66921282e-01 4.27533448e-01\n",
      "  1.10931706e+00]\n",
      " [2.61462301e-01 0.00000000e+00 4.26711977e-01 0.00000000e+00\n",
      "  5.18858612e-01 6.02183104e-01 0.00000000e+00 0.00000000e+00\n",
      "  0.00000000e+00 0.00000000e+00 0.00000000e+00 0.00000000e+00\n",
      "  0.00000000e+00 1.68316102e+00 6.55609846e-01 0.00000000e+00\n",
      "  3.80500257e-01 7.76844203e-01 0.00000000e+00 0.00000000e+00\n",
      "  1.07435457e-01 0.00000000e+00 0.00000000e+00 0.00000000e+00\n",
      "  9.10607934e-01]\n",
      " [0.00000000e+00 0.00000000e+00 1.76263124e-01 0.00000000e+00\n",
      "  3.31078827e-01 6.04149401e-01 0.00000000e+00 0.00000000e+00\n",
      "  0.00000000e+00 0.00000000e+00 0.00000000e+00 0.00000000e+00\n",
      "  0.00000000e+00 1.49182594e+00 8.52851152e-01 0.00000000e+00\n",
      "  2.27263913e-01 3.61672968e-01 2.06380248e-01 0.00000000e+00\n",
      "  0.00000000e+00 0.00000000e+00 0.00000000e+00 0.00000000e+00\n",
      "  1.12265682e+00]\n",
      " [0.00000000e+00 0.00000000e+00 0.00000000e+00 0.00000000e+00\n",
      "  5.01881123e-01 6.41065955e-01 0.00000000e+00 0.00000000e+00\n",
      "  0.00000000e+00 1.13284737e-02 0.00000000e+00 0.00000000e+00\n",
      "  0.00000000e+00 1.42748797e+00 8.29512060e-01 0.00000000e+00\n",
      "  2.67816931e-02 3.13050628e-01 2.14312226e-02 0.00000000e+00\n",
      "  0.00000000e+00 0.00000000e+00 0.00000000e+00 0.00000000e+00\n",
      "  1.11702085e+00]\n",
      " [0.00000000e+00 0.00000000e+00 0.00000000e+00 0.00000000e+00\n",
      "  5.49172461e-01 6.16367698e-01 0.00000000e+00 0.00000000e+00\n",
      "  0.00000000e+00 0.00000000e+00 2.26879418e-02 0.00000000e+00\n",
      "  0.00000000e+00 1.34305120e+00 8.13382268e-01 0.00000000e+00\n",
      "  0.00000000e+00 1.96397841e-01 0.00000000e+00 0.00000000e+00\n",
      "  0.00000000e+00 0.00000000e+00 0.00000000e+00 0.00000000e+00\n",
      "  1.01803911e+00]\n",
      " [0.00000000e+00 0.00000000e+00 0.00000000e+00 0.00000000e+00\n",
      "  6.24176323e-01 6.60346270e-01 0.00000000e+00 0.00000000e+00\n",
      "  0.00000000e+00 0.00000000e+00 1.92674652e-01 0.00000000e+00\n",
      "  0.00000000e+00 1.11151445e+00 7.47627437e-01 0.00000000e+00\n",
      "  0.00000000e+00 2.97448337e-02 0.00000000e+00 0.00000000e+00\n",
      "  0.00000000e+00 0.00000000e+00 0.00000000e+00 0.00000000e+00\n",
      "  9.88312066e-01]\n",
      " [0.00000000e+00 0.00000000e+00 0.00000000e+00 0.00000000e+00\n",
      "  6.09084189e-01 6.87317193e-01 0.00000000e+00 0.00000000e+00\n",
      "  0.00000000e+00 0.00000000e+00 2.24408045e-01 0.00000000e+00\n",
      "  0.00000000e+00 1.00765491e+00 7.52224386e-01 0.00000000e+00\n",
      "  0.00000000e+00 6.40117377e-02 0.00000000e+00 0.00000000e+00\n",
      "  0.00000000e+00 0.00000000e+00 0.00000000e+00 0.00000000e+00\n",
      "  1.25017035e+00]\n",
      " [0.00000000e+00 0.00000000e+00 0.00000000e+00 0.00000000e+00\n",
      "  5.34273207e-01 7.77565658e-01 0.00000000e+00 0.00000000e+00\n",
      "  0.00000000e+00 0.00000000e+00 3.57933700e-01 0.00000000e+00\n",
      "  0.00000000e+00 1.14335418e+00 7.05756605e-01 0.00000000e+00\n",
      "  1.26573294e-02 1.82045013e-01 0.00000000e+00 0.00000000e+00\n",
      "  0.00000000e+00 0.00000000e+00 0.00000000e+00 0.00000000e+00\n",
      "  1.07194400e+00]\n",
      " [0.00000000e+00 0.00000000e+00 0.00000000e+00 0.00000000e+00\n",
      "  4.86216843e-01 8.52139652e-01 0.00000000e+00 0.00000000e+00\n",
      "  0.00000000e+00 3.67260426e-02 3.24858934e-01 0.00000000e+00\n",
      "  0.00000000e+00 1.26604104e+00 7.69813359e-01 0.00000000e+00\n",
      "  0.00000000e+00 3.51954289e-02 0.00000000e+00 0.00000000e+00\n",
      "  0.00000000e+00 0.00000000e+00 0.00000000e+00 0.00000000e+00\n",
      "  1.06682539e+00]\n",
      " [0.00000000e+00 0.00000000e+00 0.00000000e+00 0.00000000e+00\n",
      "  5.94782829e-01 7.78288364e-01 0.00000000e+00 0.00000000e+00\n",
      "  0.00000000e+00 0.00000000e+00 1.70409501e-01 0.00000000e+00\n",
      "  0.00000000e+00 1.24981618e+00 9.40039039e-01 0.00000000e+00\n",
      "  0.00000000e+00 1.31335914e-01 0.00000000e+00 0.00000000e+00\n",
      "  0.00000000e+00 0.00000000e+00 0.00000000e+00 0.00000000e+00\n",
      "  1.11094701e+00]\n",
      " [0.00000000e+00 0.00000000e+00 0.00000000e+00 0.00000000e+00\n",
      "  6.80346429e-01 8.10052156e-01 0.00000000e+00 0.00000000e+00\n",
      "  0.00000000e+00 0.00000000e+00 1.51590139e-01 0.00000000e+00\n",
      "  0.00000000e+00 1.19706202e+00 8.64610910e-01 0.00000000e+00\n",
      "  1.41368106e-01 1.35022983e-01 0.00000000e+00 0.00000000e+00\n",
      "  0.00000000e+00 0.00000000e+00 0.00000000e+00 0.00000000e+00\n",
      "  1.17192233e+00]\n",
      " [0.00000000e+00 0.00000000e+00 0.00000000e+00 0.00000000e+00\n",
      "  5.85365713e-01 7.78475523e-01 0.00000000e+00 0.00000000e+00\n",
      "  0.00000000e+00 0.00000000e+00 2.18147844e-01 0.00000000e+00\n",
      "  0.00000000e+00 1.15377545e+00 8.11458170e-01 0.00000000e+00\n",
      "  9.23608989e-02 1.73952878e-01 0.00000000e+00 0.00000000e+00\n",
      "  0.00000000e+00 0.00000000e+00 0.00000000e+00 0.00000000e+00\n",
      "  1.17066073e+00]\n",
      " [0.00000000e+00 0.00000000e+00 0.00000000e+00 0.00000000e+00\n",
      "  6.43093467e-01 6.78100765e-01 0.00000000e+00 0.00000000e+00\n",
      "  0.00000000e+00 0.00000000e+00 1.61335796e-01 0.00000000e+00\n",
      "  0.00000000e+00 1.16641772e+00 7.47395396e-01 0.00000000e+00\n",
      "  1.36093810e-01 2.61518955e-01 0.00000000e+00 0.00000000e+00\n",
      "  0.00000000e+00 0.00000000e+00 0.00000000e+00 0.00000000e+00\n",
      "  1.05867541e+00]\n",
      " [0.00000000e+00 0.00000000e+00 0.00000000e+00 0.00000000e+00\n",
      "  4.97047871e-01 5.54654598e-01 0.00000000e+00 0.00000000e+00\n",
      "  0.00000000e+00 0.00000000e+00 1.20709047e-01 0.00000000e+00\n",
      "  0.00000000e+00 1.17203784e+00 7.67935812e-01 0.00000000e+00\n",
      "  0.00000000e+00 7.18656182e-02 2.01957077e-02 0.00000000e+00\n",
      "  0.00000000e+00 0.00000000e+00 0.00000000e+00 0.00000000e+00\n",
      "  1.16140914e+00]\n",
      " [0.00000000e+00 0.00000000e+00 0.00000000e+00 0.00000000e+00\n",
      "  5.22237420e-01 6.46611273e-01 0.00000000e+00 0.00000000e+00\n",
      "  0.00000000e+00 5.61957061e-03 1.62779719e-01 0.00000000e+00\n",
      "  0.00000000e+00 1.27363753e+00 8.49104524e-01 0.00000000e+00\n",
      "  0.00000000e+00 1.91633239e-01 0.00000000e+00 0.00000000e+00\n",
      "  0.00000000e+00 0.00000000e+00 0.00000000e+00 0.00000000e+00\n",
      "  1.03000951e+00]\n",
      " [0.00000000e+00 0.00000000e+00 0.00000000e+00 0.00000000e+00\n",
      "  5.55362344e-01 7.19964802e-01 0.00000000e+00 0.00000000e+00\n",
      "  0.00000000e+00 5.61377406e-02 1.62136897e-01 0.00000000e+00\n",
      "  0.00000000e+00 1.10334396e+00 6.74743116e-01 0.00000000e+00\n",
      "  0.00000000e+00 1.26307517e-01 0.00000000e+00 0.00000000e+00\n",
      "  3.18948403e-02 0.00000000e+00 0.00000000e+00 0.00000000e+00\n",
      "  8.70369613e-01]\n",
      " [0.00000000e+00 0.00000000e+00 0.00000000e+00 0.00000000e+00\n",
      "  5.09238660e-01 8.07528257e-01 0.00000000e+00 0.00000000e+00\n",
      "  0.00000000e+00 0.00000000e+00 2.57822126e-01 0.00000000e+00\n",
      "  0.00000000e+00 1.08830297e+00 7.74698913e-01 0.00000000e+00\n",
      "  6.94950372e-02 1.59080178e-01 0.00000000e+00 0.00000000e+00\n",
      "  0.00000000e+00 0.00000000e+00 0.00000000e+00 0.00000000e+00\n",
      "  1.18130183e+00]\n",
      " [0.00000000e+00 0.00000000e+00 0.00000000e+00 0.00000000e+00\n",
      "  6.07774377e-01 6.75440013e-01 0.00000000e+00 0.00000000e+00\n",
      "  0.00000000e+00 0.00000000e+00 3.36965710e-01 0.00000000e+00\n",
      "  0.00000000e+00 1.06211078e+00 6.03929043e-01 0.00000000e+00\n",
      "  2.27484554e-02 2.55867183e-01 0.00000000e+00 0.00000000e+00\n",
      "  0.00000000e+00 0.00000000e+00 0.00000000e+00 0.00000000e+00\n",
      "  1.05902231e+00]\n",
      " [0.00000000e+00 0.00000000e+00 0.00000000e+00 0.00000000e+00\n",
      "  5.48938870e-01 7.69860148e-01 0.00000000e+00 0.00000000e+00\n",
      "  0.00000000e+00 0.00000000e+00 1.88774601e-01 0.00000000e+00\n",
      "  0.00000000e+00 1.11285329e+00 8.44659686e-01 0.00000000e+00\n",
      "  0.00000000e+00 1.77884713e-01 2.49530580e-02 0.00000000e+00\n",
      "  0.00000000e+00 0.00000000e+00 0.00000000e+00 0.00000000e+00\n",
      "  1.11012900e+00]\n",
      " [0.00000000e+00 0.00000000e+00 0.00000000e+00 0.00000000e+00\n",
      "  6.11747146e-01 6.74089134e-01 0.00000000e+00 0.00000000e+00\n",
      "  0.00000000e+00 0.00000000e+00 1.87679708e-01 0.00000000e+00\n",
      "  0.00000000e+00 1.05928719e+00 8.41115892e-01 0.00000000e+00\n",
      "  0.00000000e+00 1.55208513e-01 0.00000000e+00 0.00000000e+00\n",
      "  0.00000000e+00 0.00000000e+00 0.00000000e+00 0.00000000e+00\n",
      "  1.07020962e+00]\n",
      " [0.00000000e+00 0.00000000e+00 0.00000000e+00 0.00000000e+00\n",
      "  6.15938962e-01 7.62675643e-01 0.00000000e+00 0.00000000e+00\n",
      "  0.00000000e+00 0.00000000e+00 2.86551774e-01 0.00000000e+00\n",
      "  0.00000000e+00 1.13132262e+00 7.69943714e-01 0.00000000e+00\n",
      "  0.00000000e+00 1.49362713e-01 0.00000000e+00 0.00000000e+00\n",
      "  0.00000000e+00 0.00000000e+00 0.00000000e+00 0.00000000e+00\n",
      "  1.16506779e+00]\n",
      " [0.00000000e+00 0.00000000e+00 0.00000000e+00 0.00000000e+00\n",
      "  5.70696592e-01 6.83346450e-01 0.00000000e+00 0.00000000e+00\n",
      "  0.00000000e+00 0.00000000e+00 2.69114852e-01 0.00000000e+00\n",
      "  0.00000000e+00 1.05969453e+00 7.56931305e-01 0.00000000e+00\n",
      "  0.00000000e+00 1.58373579e-01 0.00000000e+00 0.00000000e+00\n",
      "  0.00000000e+00 0.00000000e+00 0.00000000e+00 0.00000000e+00\n",
      "  1.13193214e+00]\n",
      " [0.00000000e+00 0.00000000e+00 0.00000000e+00 0.00000000e+00\n",
      "  6.14611387e-01 7.00755715e-01 0.00000000e+00 0.00000000e+00\n",
      "  0.00000000e+00 0.00000000e+00 2.03613698e-01 0.00000000e+00\n",
      "  0.00000000e+00 8.98627043e-01 7.04899490e-01 0.00000000e+00\n",
      "  0.00000000e+00 1.13043934e-01 0.00000000e+00 0.00000000e+00\n",
      "  0.00000000e+00 0.00000000e+00 0.00000000e+00 0.00000000e+00\n",
      "  1.09497511e+00]\n",
      " [0.00000000e+00 0.00000000e+00 0.00000000e+00 0.00000000e+00\n",
      "  5.88285804e-01 6.17346883e-01 0.00000000e+00 0.00000000e+00\n",
      "  0.00000000e+00 0.00000000e+00 1.56094402e-01 0.00000000e+00\n",
      "  0.00000000e+00 1.03371954e+00 7.58813083e-01 0.00000000e+00\n",
      "  0.00000000e+00 1.34354368e-01 0.00000000e+00 0.00000000e+00\n",
      "  0.00000000e+00 0.00000000e+00 0.00000000e+00 0.00000000e+00\n",
      "  1.21408808e+00]\n",
      " [0.00000000e+00 0.00000000e+00 0.00000000e+00 0.00000000e+00\n",
      "  5.29690146e-01 7.59099841e-01 0.00000000e+00 0.00000000e+00\n",
      "  0.00000000e+00 7.99131393e-02 3.59276801e-01 0.00000000e+00\n",
      "  0.00000000e+00 1.01404238e+00 7.65680790e-01 0.00000000e+00\n",
      "  0.00000000e+00 8.33383650e-02 0.00000000e+00 0.00000000e+00\n",
      "  0.00000000e+00 0.00000000e+00 0.00000000e+00 0.00000000e+00\n",
      "  1.02956700e+00]\n",
      " [0.00000000e+00 0.00000000e+00 0.00000000e+00 0.00000000e+00\n",
      "  5.03176630e-01 6.84395552e-01 0.00000000e+00 0.00000000e+00\n",
      "  0.00000000e+00 1.08454898e-01 2.12232396e-01 0.00000000e+00\n",
      "  0.00000000e+00 1.16636467e+00 6.99617863e-01 0.00000000e+00\n",
      "  0.00000000e+00 1.36410907e-01 0.00000000e+00 0.00000000e+00\n",
      "  0.00000000e+00 0.00000000e+00 0.00000000e+00 0.00000000e+00\n",
      "  9.90303397e-01]\n",
      " [0.00000000e+00 0.00000000e+00 0.00000000e+00 0.00000000e+00\n",
      "  5.51632762e-01 7.30336249e-01 0.00000000e+00 0.00000000e+00\n",
      "  0.00000000e+00 0.00000000e+00 2.10786521e-01 0.00000000e+00\n",
      "  0.00000000e+00 1.11435378e+00 8.20092618e-01 0.00000000e+00\n",
      "  0.00000000e+00 1.39923498e-01 0.00000000e+00 0.00000000e+00\n",
      "  0.00000000e+00 0.00000000e+00 0.00000000e+00 0.00000000e+00\n",
      "  1.10343361e+00]\n",
      " [0.00000000e+00 0.00000000e+00 0.00000000e+00 0.00000000e+00\n",
      "  6.67878568e-01 6.50755525e-01 0.00000000e+00 0.00000000e+00\n",
      "  0.00000000e+00 0.00000000e+00 1.07354641e-01 0.00000000e+00\n",
      "  0.00000000e+00 9.61687148e-01 7.04621792e-01 0.00000000e+00\n",
      "  0.00000000e+00 1.19999826e-01 9.61912423e-03 0.00000000e+00\n",
      "  0.00000000e+00 0.00000000e+00 0.00000000e+00 0.00000000e+00\n",
      "  9.91188288e-01]], shape=(40, 25), dtype=float32)\n"
     ]
    }
   ],
   "source": [
    "print(input.shape)\n",
    "input = input.reshape(40,1)\n",
    "print(input.shape)\n",
    "explanation = ablation_cam(input, model, 'conv1d_2')"
   ]
  },
  {
   "cell_type": "code",
   "execution_count": null,
   "metadata": {},
   "outputs": [],
   "source": [
    "threshold = np.sort(explanation)[-12]\n",
    "\n",
    "plt.figure(figsize=(25,5))\n",
    "\n",
    "plt.subplot(1,4,1)\n",
    "plt.plot(input[0])\n",
    "plt.title('Input array')\n",
    "\n",
    "plt.subplot(1,4,2)\n",
    "plt.plot(explanation, 'r')\n",
    "plt.title('Explanation map')\n",
    "\n",
    "plt.subplot(1,4,3)\n",
    "plt.plot(dataset['templates']['x'][label])\n",
    "plt.title('Label template')\n",
    "\n",
    "plt.subplot(1,4,4)\n",
    "plt.plot((input[0,:,0]*(explanation>threshold)), 'r')\n",
    "plt.title('Highlighted input region (by the  algorithm)')"
   ]
  },
  {
   "cell_type": "markdown",
   "metadata": {
    "id": "C2YVQARaeTKi"
   },
   "source": [
    "## Quantitative evaluation"
   ]
  },
  {
   "cell_type": "code",
   "execution_count": null,
   "metadata": {
    "id": "CTm4tTQMeOxs"
   },
   "outputs": [],
   "source": [
    "def calculate_drop_increase(images, model, exmap, class_index, frac=0.15):\n",
    "    '''\n",
    "    inputs:\n",
    "        images: a 4-D image of size (1 x H x W x 3)\n",
    "          containing an image in RGB format and of size (H x W)\n",
    "        model: The base model\n",
    "        exmap: a given explanation map whose completeness is to be evaluated.\n",
    "        class_index: The class to whom the explanation map is related to.\n",
    "        frac: The fraction of top pixels selected.\n",
    "    returns:v\n",
    "        a tuple with 4 calculates values:\n",
    "        (drop, increase, original_pred, eplanation_pred)\n",
    "        drop (float): drop rate (between 0 and 1)\n",
    "        increase (boolean): \"1\" if increase happened\n",
    "        original_pred: confidence score for original image\n",
    "        explanation_pred:  confidence score for the selected top pixels of the image.\n",
    "    '''\n",
    "    predictions = model.predict(images)\n",
    "    #print(images.shape)\n",
    "    # Pre-processing image \n",
    "    img=images[0,:,:]\n",
    "    #img=img_to_array(img)\n",
    "    img = np.expand_dims(img,axis=0)\n",
    "    # Getting the prediction for image\n",
    "    Y=predictions[0][class_index]\n",
    "    \n",
    "    grad_array=np.reshape(exmap, (-1,))\n",
    "    array_size=int(grad_array.shape[0]*frac)\n",
    "    thr=np.flip(sorted(grad_array))[array_size]\n",
    "    exmap1_msk=(exmap>thr)\n",
    "    exmap1_thr=np.zeros(shape=(1,40,1))\n",
    "    exmap1_thr=img*exmap1_msk\n",
    "    ex_predictions = model.predict(exmap1_thr)[0]\n",
    "    O1=ex_predictions[class_index]\n",
    "    etta=(Y-O1)/(Y+1e-100)\n",
    "    return (etta*(etta>0), 1*(etta<0), Y, O1)"
   ]
  },
  {
   "cell_type": "code",
   "execution_count": null,
   "metadata": {
    "id": "udarj3epeVRX"
   },
   "outputs": [],
   "source": [
    "drop_rate = 0.\n",
    "for index in range(1000):\n",
    "    prediction=model(np.expand_dims(np.expand_dims(x_test[index], axis=0), axis=-1)).numpy()\n",
    "    explanation_map = SISE(np.expand_dims(np.expand_dims(x_test[index], axis=0), axis=-1), model, layers=[['conv1d_2']], class_index=np.argmax(prediction[0]), grad_thr=0.)\n",
    "    drop_rate += calculate_drop_increase(np.expand_dims(np.expand_dims(x_test[index], axis=0), axis=-1), model, explanation_map, class_index=np.argmax(prediction[0]), frac=0.3)[0]\n",
    "drop_rate /= 1000"
   ]
  }
 ],
 "metadata": {
  "colab": {
   "collapsed_sections": [
    "i2ajdUlDzQdM"
   ],
   "name": "MNIST1D.ipynb",
   "provenance": []
  },
  "kernelspec": {
   "display_name": "Python 3 (ipykernel)",
   "language": "python",
   "name": "python3"
  },
  "language_info": {
   "codemirror_mode": {
    "name": "ipython",
    "version": 3
   },
   "file_extension": ".py",
   "mimetype": "text/x-python",
   "name": "python",
   "nbconvert_exporter": "python",
   "pygments_lexer": "ipython3",
   "version": "3.8.6"
  }
 },
 "nbformat": 4,
 "nbformat_minor": 1
}
