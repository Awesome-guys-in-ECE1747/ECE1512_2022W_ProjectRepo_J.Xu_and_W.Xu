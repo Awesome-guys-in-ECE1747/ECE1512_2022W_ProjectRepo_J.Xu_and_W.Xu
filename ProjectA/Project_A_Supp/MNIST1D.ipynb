{
 "cells": [
  {
   "cell_type": "code",
   "execution_count": 3,
   "metadata": {
    "colab": {
     "base_uri": "https://localhost:8080/"
    },
    "id": "IycDm5rEVyX0",
    "outputId": "e1cb3ee8-d90f-40fd-c4f6-27ddcf0d8134"
   },
   "outputs": [],
   "source": [
    "# from google.colab import drive\n",
    "# drive.mount('/content/drive')"
   ]
  },
  {
   "cell_type": "code",
   "execution_count": 4,
   "metadata": {
    "id": "fiCcdB_QV0Fb"
   },
   "outputs": [],
   "source": [
    "# import os\n",
    "# os.chdir(r'/content/drive/My Drive/ECE1512_TA')  # Change the directory to torchRay-master folder"
   ]
  },
  {
   "cell_type": "markdown",
   "metadata": {
    "id": "FXgwO7nGfg0W"
   },
   "source": [
    "# Requirements"
   ]
  },
  {
   "cell_type": "code",
   "execution_count": 5,
   "metadata": {
    "id": "GfgOoaMBPzG6"
   },
   "outputs": [
    {
     "name": "stderr",
     "output_type": "stream",
     "text": [
      "C:\\Users\\13629\\AppData\\Local\\Temp\\ipykernel_22136\\748991669.py:7: DeprecationWarning: Please use `gaussian_filter` from the `scipy.ndimage` namespace, the `scipy.ndimage.filters` namespace is deprecated.\n",
      "  from scipy.ndimage.filters import gaussian_filter\n"
     ]
    }
   ],
   "source": [
    "import os\n",
    "import numpy as np\n",
    "import pandas as pd\n",
    "import requests\n",
    "import scipy\n",
    "import pickle\n",
    "from scipy.ndimage.filters import gaussian_filter\n",
    "from scipy.interpolate import interp1d\n",
    "import tensorflow\n",
    "import keras\n",
    "from keras.models import Sequential\n",
    "from keras.layers import Input, Conv1D, MaxPooling1D, Dense, Flatten\n",
    "from keras import regularizers\n",
    "import keras.backend as K\n",
    "from keras.models import load_model\n",
    "from tensorflow.core.util import event_pb2\n",
    "from tensorflow.python.lib.io import tf_record\n",
    "import sklearn.metrics as metrics\n",
    "import matplotlib.pyplot as plt\n",
    "import cv2"
   ]
  },
  {
   "cell_type": "code",
   "execution_count": 6,
   "metadata": {
    "id": "oXY7G98lr9vb"
   },
   "outputs": [],
   "source": [
    "#@title MNIST-1D utils\n",
    "\n",
    "# transformations of the templates which will make them harder to classify\n",
    "def pad(x, padding):\n",
    "    low, high = padding\n",
    "    p = low + int(np.random.rand()*(high-low+1))\n",
    "    return np.concatenate([x, np.zeros((p))])\n",
    "\n",
    "def shear(x, scale=10):\n",
    "    coeff = scale*(np.random.rand() - 0.5)\n",
    "    return x - coeff*np.linspace(-0.5,.5,len(x))\n",
    "\n",
    "def translate(x, max_translation):\n",
    "    k = np.random.choice(max_translation)\n",
    "    return np.concatenate([x[-k:], x[:-k]])\n",
    "\n",
    "def corr_noise_like(x, scale):\n",
    "    noise = scale * np.random.randn(*x.shape)\n",
    "    return gaussian_filter(noise, 2)\n",
    "\n",
    "def iid_noise_like(x, scale):\n",
    "    noise = scale * np.random.randn(*x.shape)\n",
    "    return noise\n",
    "\n",
    "def interpolate(x, N):\n",
    "    scale = np.linspace(0,1,len(x))\n",
    "    new_scale = np.linspace(0,1,N)\n",
    "    new_x = interp1d(scale, x, axis=0, kind='linear')(new_scale)\n",
    "    return new_x\n",
    "\n",
    "def transform(x, y, args, eps=1e-8):\n",
    "    new_x = pad(x+eps, args.padding) # pad\n",
    "    new_x = interpolate(new_x, args.template_len + args.padding[-1])  # dilate\n",
    "    new_y = interpolate(y, args.template_len + args.padding[-1])\n",
    "    new_x *= (1 + args.scale_coeff*(np.random.rand() - 0.5))  # scale\n",
    "    new_x = translate(new_x, args.max_translation)  #translate\n",
    "    \n",
    "    # add noise\n",
    "    mask = new_x != 0\n",
    "    new_x = mask*new_x + (1-mask)*corr_noise_like(new_x, args.corr_noise_scale)\n",
    "    new_x = new_x + iid_noise_like(new_x, args.iid_noise_scale)\n",
    "    \n",
    "    # shear and interpolate\n",
    "    new_x = shear(new_x, args.shear_scale)\n",
    "    new_x = interpolate(new_x, args.final_seq_length) # subsample\n",
    "    new_y = interpolate(new_y, args.final_seq_length)\n",
    "    return new_x, new_y\n",
    "\n",
    "def get_dataset_args(as_dict=False):\n",
    "    arg_dict = {'num_samples': 5000,\n",
    "            'train_split': 0.8,\n",
    "            'template_len': 12,\n",
    "            'padding': [36,60],\n",
    "            'scale_coeff': .4, \n",
    "            'max_translation': 48,\n",
    "            'corr_noise_scale': 0.25,\n",
    "            'iid_noise_scale': 2e-2,\n",
    "            'shear_scale': 0.75,\n",
    "            'shuffle_seq': False,\n",
    "            'final_seq_length': 40,\n",
    "            'seed': 42,\n",
    "            'url': 'https://github.com/greydanus/mnist1d/raw/master/mnist1d_data.pkl'}\n",
    "    return arg_dict if as_dict else ObjectView(arg_dict)\n",
    "\n",
    "\n",
    "def to_pickle(thing, path): # save something\n",
    "    with open(path, 'wb') as handle:\n",
    "        pickle.dump(thing, handle, protocol=4)\n",
    "\n",
    "\n",
    "def from_pickle(path): # load something\n",
    "    thing = None\n",
    "    with open(path, 'rb') as handle:\n",
    "        thing = pickle.load(handle)\n",
    "    return thing\n",
    "\n",
    "class ObjectView(object):\n",
    "    def __init__(self, d): self.__dict__ = d\n",
    "\n",
    "# basic 1D templates for the 10 digits\n",
    "def get_templates():\n",
    "    d0 = np.asarray([5,6,6.5,6.75,7,7,7,7,6.75,6.5,6,5])\n",
    "    d1 = np.asarray([5,3,3,3.4,3.8,4.2,4.6,5,5.4,5.8,5,5])\n",
    "    d2 = np.asarray([5,6,6.5,6.5,6,5.25,4.75,4,3.5,3.5,4,5])\n",
    "    d3 = np.asarray([5,6,6.5,6.5,6,5,5,6,6.5,6.5,6,5])\n",
    "    d4 = np.asarray([5,4.4,3.8,3.2,2.6,2.6,5,5,5,5,5,5])\n",
    "    d5 = np.asarray([5,3,3,3,3,5,6,6.5,6.5,6,4.5,5])\n",
    "    d6 = np.asarray([5,4,3.5,3.25,3,3,3,3,3.25,3.5,4,5])\n",
    "    d7 = np.asarray([5,7,7,6.6,6.2,5.8,5.4,5,4.6,4.2,5,5])\n",
    "    d8 = np.asarray([5,4,3.5,3.5,4,5,5,4,3.5,3.5,4,5])\n",
    "    d9 = np.asarray([5,4,3.5,3.5,4,5,5,5,5,4.7,4.3,5])\n",
    "    \n",
    "    x = np.stack([d0,d1,d2,d3,d4,d5,d6,d7,d8,d9])\n",
    "    x -= x.mean(1,keepdims=True) # whiten\n",
    "    x /= x.std(1,keepdims=True)\n",
    "    x -= x[:,:1]  # signal starts and ends at 0\n",
    "    \n",
    "    templates = {'x': x/6., 't': np.linspace(-5, 5, len(d0))/6.,\n",
    "                 'y': np.asarray([0,1,2,3,4,5,6,7,8,9])}\n",
    "    return templates\n",
    "\n",
    "def make_dataset(args=None, template=None, ):\n",
    "    templates = get_templates() if template is None else template\n",
    "    args = get_dataset_args() if args is None else args\n",
    "    np.random.seed(args.seed) # reproducibility\n",
    "    \n",
    "    xs, ys = [], []\n",
    "    samples_per_class = args.num_samples // len(templates['y'])\n",
    "    for label_ix in range(len(templates['y'])):\n",
    "        for example_ix in range(samples_per_class):\n",
    "            x = templates['x'][label_ix]\n",
    "            t = templates['t']\n",
    "            y = templates['y'][label_ix]\n",
    "            x, new_t = transform(x, t, args) # new_t transformation is same each time\n",
    "            xs.append(x) ; ys.append(y)\n",
    "    \n",
    "    batch_shuffle = np.random.permutation(len(ys)) # shuffle batch dimension\n",
    "    xs = np.stack(xs)[batch_shuffle]\n",
    "    ys = np.stack(ys)[batch_shuffle]\n",
    "    \n",
    "    if args.shuffle_seq: # maybe shuffle the spatial dimension\n",
    "        seq_shuffle = np.random.permutation(args.final_seq_length)\n",
    "        xs = xs[...,seq_shuffle]\n",
    "    \n",
    "    new_t = new_t/xs.std()\n",
    "    xs = (xs-xs.mean())/xs.std() # center the dataset & set standard deviation to 1\n",
    "\n",
    "    # train / test split\n",
    "    split_ix = int(len(ys)*args.train_split)\n",
    "    dataset = {'x': xs[:split_ix], 'x_test': xs[split_ix:],\n",
    "               'y': ys[:split_ix], 'y_test': ys[split_ix:],\n",
    "               't':new_t, 'templates': templates}\n",
    "    return dataset\n"
   ]
  },
  {
   "cell_type": "code",
   "execution_count": 7,
   "metadata": {
    "id": "b2yNuw5bZHK3"
   },
   "outputs": [],
   "source": [
    "from mnist1d_utils import *"
   ]
  },
  {
   "cell_type": "markdown",
   "metadata": {
    "id": "TgXE_0b0Gzj5"
   },
   "source": [
    "# Dataset"
   ]
  },
  {
   "cell_type": "code",
   "execution_count": 8,
   "metadata": {
    "id": "n0_uYlpWnRz4"
   },
   "outputs": [],
   "source": [
    "dataset = make_dataset()"
   ]
  },
  {
   "cell_type": "markdown",
   "metadata": {
    "id": "sjZIDVGahaNA"
   },
   "source": [
    "**Dataset:** A dictionary conaining 4000 train and 1000 test data.\n",
    "\n",
    "Keys of the dictionary:\n",
    "\n",
    "* 'x' : Training data.\n",
    "\n",
    "* 'y' : Training labels.\n",
    "\n",
    "* 'x_test' : Test data.\n",
    "\n",
    "* 'y_test : Test labels.\n",
    "\n",
    "* 't' : Mapping data points to spatial locations.\n",
    "\n",
    "* 'templates' : The templates for the digits 0-9."
   ]
  },
  {
   "cell_type": "code",
   "execution_count": 9,
   "metadata": {
    "cellView": "form",
    "colab": {
     "base_uri": "https://localhost:8080/",
     "height": 228
    },
    "id": "r9K7zrI1s6nA",
    "outputId": "d7ab8c1f-50d8-4721-ac71-01b39e685fc5"
   },
   "outputs": [
    {
     "data": {
      "text/plain": [
       "Text(0.5, 1.0, 'predicted class: 6')"
      ]
     },
     "execution_count": 9,
     "metadata": {},
     "output_type": "execute_result"
    },
    {
     "data": {
      "image/png": "[encoded data removed]",
      "text/plain": [
       "<Figure size 1440x216 with 5 Axes>"
      ]
     },
     "metadata": {
      "needs_background": "light"
     },
     "output_type": "display_data"
    }
   ],
   "source": [
    "#@title Show some examples from the MNIST 1-D dataset\n",
    "\n",
    "plt.figure(figsize=(20,3))\n",
    "\n",
    "plt.subplot(151)\n",
    "plt.plot(dataset['x'][0], 'r')\n",
    "plt.axis('off')\n",
    "plt.title('predicted class: '+str(dataset['y'][0]))\n",
    "\n",
    "plt.subplot(152)\n",
    "plt.plot(dataset['x'][1], 'r')\n",
    "plt.axis('off')\n",
    "plt.title('predicted class: '+str(dataset['y'][1]))\n",
    "\n",
    "plt.subplot(153)\n",
    "plt.plot(dataset['x'][2], 'r')\n",
    "plt.axis('off')\n",
    "plt.title('predicted class: '+str(dataset['y'][2]))\n",
    "\n",
    "plt.subplot(154)\n",
    "plt.plot(dataset['x'][3], 'r')\n",
    "plt.axis('off')\n",
    "plt.title('predicted class: '+str(dataset['y'][3]))\n",
    "\n",
    "plt.subplot(155)\n",
    "plt.plot(dataset['x'][4], 'r')\n",
    "plt.axis('off')\n",
    "plt.title('predicted class: '+str(dataset['y'][4]))"
   ]
  },
  {
   "cell_type": "code",
   "execution_count": 10,
   "metadata": {
    "cellView": "form",
    "colab": {
     "base_uri": "https://localhost:8080/",
     "height": 500
    },
    "id": "tE-5RvGbiffa",
    "outputId": "8fed8587-4c79-439d-d087-42eceed7bbae"
   },
   "outputs": [
    {
     "data": {
      "text/plain": [
       "Text(0.5, 1.0, 'predicted class: 9')"
      ]
     },
     "execution_count": 10,
     "metadata": {},
     "output_type": "execute_result"
    },
    {
     "data": {
      "image/png": "[encoded data removed]",
      "text/plain": [
       "<Figure size 1440x576 with 10 Axes>"
      ]
     },
     "metadata": {
      "needs_background": "light"
     },
     "output_type": "display_data"
    }
   ],
   "source": [
    "#@title Show the digit templates in the MNIST 1-D dataset \n",
    "\n",
    "plt.figure(figsize=(20,8))\n",
    "\n",
    "plt.subplot(251)\n",
    "plt.plot(dataset['templates']['x'][0], 'r')\n",
    "plt.axis('off')\n",
    "plt.title('predicted class: 0')\n",
    "\n",
    "plt.subplot(252)\n",
    "plt.plot(dataset['templates']['x'][1], 'r')\n",
    "plt.axis('off')\n",
    "plt.title('predicted class: 1')\n",
    "\n",
    "plt.subplot(253)\n",
    "plt.plot(dataset['templates']['x'][2], 'r')\n",
    "plt.axis('off')\n",
    "plt.title('predicted class: 2')\n",
    "\n",
    "plt.subplot(254)\n",
    "plt.plot(dataset['templates']['x'][3], 'r')\n",
    "plt.axis('off')\n",
    "plt.title('predicted class: 3')\n",
    "\n",
    "plt.subplot(255)\n",
    "plt.plot(dataset['templates']['x'][4], 'r')\n",
    "plt.axis('off')\n",
    "plt.title('predicted class: 4')\n",
    "\n",
    "plt.subplot(256)\n",
    "plt.plot(dataset['templates']['x'][5], 'r')\n",
    "plt.axis('off')\n",
    "plt.title('predicted class: 5')\n",
    "\n",
    "plt.subplot(257)\n",
    "plt.plot(dataset['templates']['x'][6], 'r')\n",
    "plt.axis('off')\n",
    "plt.title('predicted class: 6')\n",
    "\n",
    "plt.subplot(258)\n",
    "plt.plot(dataset['templates']['x'][7], 'r')\n",
    "plt.axis('off')\n",
    "plt.title('predicted class: 7')\n",
    "\n",
    "plt.subplot(259)\n",
    "plt.plot(dataset['templates']['x'][8], 'r')\n",
    "plt.axis('off')\n",
    "plt.title('predicted class: 8')\n",
    "\n",
    "plt.subplot(2,5,10)\n",
    "plt.plot(dataset['templates']['x'][9], 'r')\n",
    "plt.axis('off')\n",
    "plt.title('predicted class: 9')"
   ]
  },
  {
   "cell_type": "markdown",
   "metadata": {
    "id": "vzU4rjnStv0u"
   },
   "source": [
    "Saving the dataset"
   ]
  },
  {
   "cell_type": "code",
   "execution_count": 11,
   "metadata": {
    "id": "pB5RISwytxXE"
   },
   "outputs": [],
   "source": [
    "f = open(\"MNIST1D.pkl\",\"wb\")\n",
    "pickle.dump(dataset,f)\n",
    "f.close()"
   ]
  },
  {
   "cell_type": "markdown",
   "metadata": {
    "id": "XfxoIZegODCA"
   },
   "source": [
    "# Model Creation"
   ]
  },
  {
   "cell_type": "markdown",
   "metadata": {
    "id": "2d1aY0rinOha"
   },
   "source": [
    "**Creating model :**\n",
    "\n",
    "A 1-Dimensional CNN, containing 3 convolutional layers, followed by a fully-connected output layer."
   ]
  },
  {
   "cell_type": "code",
   "execution_count": 12,
   "metadata": {
    "id": "2dQ2IJfgtAOo"
   },
   "outputs": [
    {
     "name": "stdout",
     "output_type": "stream",
     "text": [
      "Model: \"sequential\"\n",
      "_________________________________________________________________\n",
      " Layer (type)                Output Shape              Param #   \n",
      "=================================================================\n",
      " conv1d (Conv1D)             (None, 40, 25)            150       \n",
      "                                                                 \n",
      " conv1d_1 (Conv1D)           (None, 40, 25)            1900      \n",
      "                                                                 \n",
      " conv1d_2 (Conv1D)           (None, 40, 25)            1900      \n",
      "                                                                 \n",
      " flatten (Flatten)           (None, 1000)              0         \n",
      "                                                                 \n",
      " dense (Dense)               (None, 10)                10010     \n",
      "                                                                 \n",
      "=================================================================\n",
      "Total params: 13,960\n",
      "Trainable params: 13,960\n",
      "Non-trainable params: 0\n",
      "_________________________________________________________________\n"
     ]
    }
   ],
   "source": [
    "##### Task1-Question1\n",
    "weight_decay = 5e-4\n",
    "model = Sequential()\n",
    "#Your code starts from here \n",
    "model.add(Input(shape=(40,1)))\n",
    "model.add(Conv1D(25, kernel_size=5, padding='same', activation='relu', kernel_regularizer=regularizers.l2(weight_decay)))\n",
    "model.add(Conv1D(25, kernel_size=3, padding='same', activation='relu', kernel_regularizer=regularizers.l2(weight_decay)))\n",
    "model.add(Conv1D(25, kernel_size=3, padding='same', activation='relu', kernel_regularizer=regularizers.l2(weight_decay)))\n",
    "\n",
    "model.add(Flatten())\n",
    "model.add(Dense(10, activation='softmax', kernel_initializer=keras.initializers.RandomNormal(mean=0.0, stddev=0.5),\n",
    "                bias_initializer=keras.initializers.Zeros(), kernel_regularizer=regularizers.l2(weight_decay)))\n",
    "\n",
    "model.summary()\n",
    "##"
   ]
  },
  {
   "cell_type": "markdown",
   "metadata": {
    "id": "S9PePu6BsZKS"
   },
   "source": [
    "# Training the model"
   ]
  },
  {
   "cell_type": "markdown",
   "metadata": {
    "id": "1mRgs2Ewnxlm"
   },
   "source": [
    "Compiling the model\n",
    "\n",
    "Loss function: Cross-entropy\n",
    "\n",
    "Optimizer: Stochastic Gradient Descent (SGD) (learning rate = 0.01)\n",
    "\n",
    "Tensorboard: For recording the training procedure"
   ]
  },
  {
   "cell_type": "code",
   "execution_count": 13,
   "metadata": {
    "id": "3XK3dbaWnzPF"
   },
   "outputs": [
    {
     "name": "stdout",
     "output_type": "stream",
     "text": [
      "Epoch 1/200\n",
      "125/125 [==============================] - 1s 2ms/step - loss: 3.5414 - accuracy: 0.1388\n",
      "Epoch 2/200\n",
      "125/125 [==============================] - 0s 2ms/step - loss: 3.4316 - accuracy: 0.1965\n",
      "Epoch 3/200\n",
      "125/125 [==============================] - 0s 2ms/step - loss: 3.3491 - accuracy: 0.2373\n",
      "Epoch 4/200\n",
      "125/125 [==============================] - 0s 2ms/step - loss: 3.2623 - accuracy: 0.2735\n",
      "Epoch 5/200\n",
      "125/125 [==============================] - 0s 2ms/step - loss: 3.1717 - accuracy: 0.3103\n",
      "Epoch 6/200\n",
      "125/125 [==============================] - 0s 2ms/step - loss: 3.0769 - accuracy: 0.3455\n",
      "Epoch 7/200\n",
      "125/125 [==============================] - 0s 2ms/step - loss: 2.9870 - accuracy: 0.3785\n",
      "Epoch 8/200\n",
      "125/125 [==============================] - 0s 2ms/step - loss: 2.8871 - accuracy: 0.4128\n",
      "Epoch 9/200\n",
      "125/125 [==============================] - 0s 2ms/step - loss: 2.8031 - accuracy: 0.4435\n",
      "Epoch 10/200\n",
      "125/125 [==============================] - 0s 2ms/step - loss: 2.7317 - accuracy: 0.4742\n",
      "Epoch 11/200\n",
      "125/125 [==============================] - 0s 2ms/step - loss: 2.6670 - accuracy: 0.4843\n",
      "Epoch 12/200\n",
      "125/125 [==============================] - 0s 2ms/step - loss: 2.6034 - accuracy: 0.5082\n",
      "Epoch 13/200\n",
      "125/125 [==============================] - 0s 2ms/step - loss: 2.5424 - accuracy: 0.5238\n",
      "Epoch 14/200\n",
      "125/125 [==============================] - 0s 2ms/step - loss: 2.4881 - accuracy: 0.5445\n",
      "Epoch 15/200\n",
      "125/125 [==============================] - 0s 2ms/step - loss: 2.4334 - accuracy: 0.5627\n",
      "Epoch 16/200\n",
      "125/125 [==============================] - 0s 2ms/step - loss: 2.3912 - accuracy: 0.5765\n",
      "Epoch 17/200\n",
      "125/125 [==============================] - 0s 2ms/step - loss: 2.3442 - accuracy: 0.5907\n",
      "Epoch 18/200\n",
      "125/125 [==============================] - 0s 2ms/step - loss: 2.3025 - accuracy: 0.6110\n",
      "Epoch 19/200\n",
      "125/125 [==============================] - 0s 2ms/step - loss: 2.2587 - accuracy: 0.6252\n",
      "Epoch 20/200\n",
      "125/125 [==============================] - 0s 2ms/step - loss: 2.2207 - accuracy: 0.6417\n",
      "Epoch 21/200\n",
      "125/125 [==============================] - 0s 2ms/step - loss: 2.1848 - accuracy: 0.6520\n",
      "Epoch 22/200\n",
      "125/125 [==============================] - 0s 2ms/step - loss: 2.1507 - accuracy: 0.6655\n",
      "Epoch 23/200\n",
      "125/125 [==============================] - 0s 2ms/step - loss: 2.1182 - accuracy: 0.6795\n",
      "Epoch 24/200\n",
      "125/125 [==============================] - 0s 2ms/step - loss: 2.0863 - accuracy: 0.6880\n",
      "Epoch 25/200\n",
      "125/125 [==============================] - 0s 2ms/step - loss: 2.0524 - accuracy: 0.6980\n",
      "Epoch 26/200\n",
      "125/125 [==============================] - 0s 2ms/step - loss: 2.0229 - accuracy: 0.7117\n",
      "Epoch 27/200\n",
      "125/125 [==============================] - 0s 2ms/step - loss: 2.0004 - accuracy: 0.7120\n",
      "Epoch 28/200\n",
      "125/125 [==============================] - 0s 2ms/step - loss: 1.9659 - accuracy: 0.7275\n",
      "Epoch 29/200\n",
      "125/125 [==============================] - 0s 2ms/step - loss: 1.9402 - accuracy: 0.7372\n",
      "Epoch 30/200\n",
      "125/125 [==============================] - 0s 2ms/step - loss: 1.9159 - accuracy: 0.7420\n",
      "Epoch 31/200\n",
      "125/125 [==============================] - 0s 2ms/step - loss: 1.8913 - accuracy: 0.7498\n",
      "Epoch 32/200\n",
      "125/125 [==============================] - 0s 2ms/step - loss: 1.8683 - accuracy: 0.7630\n",
      "Epoch 33/200\n",
      "125/125 [==============================] - 0s 2ms/step - loss: 1.8439 - accuracy: 0.7623\n",
      "Epoch 34/200\n",
      "125/125 [==============================] - 0s 2ms/step - loss: 1.8226 - accuracy: 0.7790\n",
      "Epoch 35/200\n",
      "125/125 [==============================] - 0s 2ms/step - loss: 1.7986 - accuracy: 0.7840\n",
      "Epoch 36/200\n",
      "125/125 [==============================] - 0s 2ms/step - loss: 1.7799 - accuracy: 0.7925\n",
      "Epoch 37/200\n",
      "125/125 [==============================] - 0s 2ms/step - loss: 1.7627 - accuracy: 0.7965\n",
      "Epoch 38/200\n",
      "125/125 [==============================] - 0s 2ms/step - loss: 1.7366 - accuracy: 0.8067\n",
      "Epoch 39/200\n",
      "125/125 [==============================] - 0s 2ms/step - loss: 1.7250 - accuracy: 0.8083\n",
      "Epoch 40/200\n",
      "125/125 [==============================] - 0s 2ms/step - loss: 1.7043 - accuracy: 0.8170\n",
      "Epoch 41/200\n",
      "125/125 [==============================] - 0s 2ms/step - loss: 1.6824 - accuracy: 0.8248\n",
      "Epoch 42/200\n",
      "125/125 [==============================] - 0s 2ms/step - loss: 1.6687 - accuracy: 0.8288\n",
      "Epoch 43/200\n",
      "125/125 [==============================] - 0s 2ms/step - loss: 1.6486 - accuracy: 0.8345\n",
      "Epoch 44/200\n",
      "125/125 [==============================] - 0s 2ms/step - loss: 1.6306 - accuracy: 0.8422\n",
      "Epoch 45/200\n",
      "125/125 [==============================] - 0s 2ms/step - loss: 1.6131 - accuracy: 0.8497\n",
      "Epoch 46/200\n",
      "125/125 [==============================] - 0s 2ms/step - loss: 1.5999 - accuracy: 0.8528\n",
      "Epoch 47/200\n",
      "125/125 [==============================] - 0s 2ms/step - loss: 1.5848 - accuracy: 0.8570\n",
      "Epoch 48/200\n",
      "125/125 [==============================] - 0s 2ms/step - loss: 1.5673 - accuracy: 0.8637\n",
      "Epoch 49/200\n",
      "125/125 [==============================] - 0s 2ms/step - loss: 1.5513 - accuracy: 0.8630\n",
      "Epoch 50/200\n",
      "125/125 [==============================] - 0s 2ms/step - loss: 1.5405 - accuracy: 0.8705\n",
      "Epoch 51/200\n",
      "125/125 [==============================] - 0s 2ms/step - loss: 1.5272 - accuracy: 0.8745\n",
      "Epoch 52/200\n",
      "125/125 [==============================] - 0s 2ms/step - loss: 1.5151 - accuracy: 0.8752\n",
      "Epoch 53/200\n",
      "125/125 [==============================] - 0s 2ms/step - loss: 1.5027 - accuracy: 0.8815\n",
      "Epoch 54/200\n",
      "125/125 [==============================] - 0s 2ms/step - loss: 1.4852 - accuracy: 0.8835\n",
      "Epoch 55/200\n",
      "125/125 [==============================] - 0s 2ms/step - loss: 1.4746 - accuracy: 0.8867\n",
      "Epoch 56/200\n",
      "125/125 [==============================] - 0s 2ms/step - loss: 1.4615 - accuracy: 0.8935\n",
      "Epoch 57/200\n",
      "125/125 [==============================] - 0s 2ms/step - loss: 1.4509 - accuracy: 0.8990\n",
      "Epoch 58/200\n",
      "125/125 [==============================] - 0s 2ms/step - loss: 1.4400 - accuracy: 0.9018\n",
      "Epoch 59/200\n",
      "125/125 [==============================] - 0s 2ms/step - loss: 1.4277 - accuracy: 0.9032\n",
      "Epoch 60/200\n",
      "125/125 [==============================] - 0s 2ms/step - loss: 1.4178 - accuracy: 0.9047\n",
      "Epoch 61/200\n",
      "125/125 [==============================] - 0s 2ms/step - loss: 1.4082 - accuracy: 0.9053\n",
      "Epoch 62/200\n",
      "125/125 [==============================] - 0s 2ms/step - loss: 1.3982 - accuracy: 0.9147\n",
      "Epoch 63/200\n",
      "125/125 [==============================] - 0s 2ms/step - loss: 1.3863 - accuracy: 0.9153\n",
      "Epoch 64/200\n",
      "125/125 [==============================] - 0s 2ms/step - loss: 1.3771 - accuracy: 0.9195\n",
      "Epoch 65/200\n",
      "125/125 [==============================] - 0s 2ms/step - loss: 1.3667 - accuracy: 0.9227\n",
      "Epoch 66/200\n",
      "125/125 [==============================] - 0s 2ms/step - loss: 1.3604 - accuracy: 0.9243\n",
      "Epoch 67/200\n",
      "125/125 [==============================] - 0s 2ms/step - loss: 1.3472 - accuracy: 0.9302\n",
      "Epoch 68/200\n",
      "125/125 [==============================] - 0s 2ms/step - loss: 1.3426 - accuracy: 0.9320\n",
      "Epoch 69/200\n",
      "125/125 [==============================] - 0s 2ms/step - loss: 1.3333 - accuracy: 0.9300\n",
      "Epoch 70/200\n",
      "125/125 [==============================] - 0s 2ms/step - loss: 1.3242 - accuracy: 0.9333\n",
      "Epoch 71/200\n",
      "125/125 [==============================] - 0s 2ms/step - loss: 1.3166 - accuracy: 0.9350\n",
      "Epoch 72/200\n",
      "125/125 [==============================] - 0s 2ms/step - loss: 1.3098 - accuracy: 0.9355\n",
      "Epoch 73/200\n",
      "125/125 [==============================] - 0s 2ms/step - loss: 1.2996 - accuracy: 0.9420\n",
      "Epoch 74/200\n",
      "125/125 [==============================] - 0s 2ms/step - loss: 1.2946 - accuracy: 0.9423\n",
      "Epoch 75/200\n",
      "125/125 [==============================] - 0s 2ms/step - loss: 1.2878 - accuracy: 0.9452\n",
      "Epoch 76/200\n",
      "125/125 [==============================] - 0s 2ms/step - loss: 1.2791 - accuracy: 0.9485\n",
      "Epoch 77/200\n",
      "125/125 [==============================] - 0s 2ms/step - loss: 1.2733 - accuracy: 0.9477\n",
      "Epoch 78/200\n",
      "125/125 [==============================] - 0s 2ms/step - loss: 1.2643 - accuracy: 0.9498\n",
      "Epoch 79/200\n",
      "125/125 [==============================] - 0s 2ms/step - loss: 1.2624 - accuracy: 0.9523\n",
      "Epoch 80/200\n",
      "125/125 [==============================] - 0s 2ms/step - loss: 1.2543 - accuracy: 0.9523\n",
      "Epoch 81/200\n",
      "125/125 [==============================] - 0s 2ms/step - loss: 1.2463 - accuracy: 0.9548\n",
      "Epoch 82/200\n",
      "125/125 [==============================] - 0s 2ms/step - loss: 1.2396 - accuracy: 0.9570\n",
      "Epoch 83/200\n",
      "125/125 [==============================] - 0s 2ms/step - loss: 1.2321 - accuracy: 0.9603\n",
      "Epoch 84/200\n",
      "125/125 [==============================] - 0s 2ms/step - loss: 1.2278 - accuracy: 0.9553\n",
      "Epoch 85/200\n",
      "125/125 [==============================] - 0s 2ms/step - loss: 1.2220 - accuracy: 0.9617\n",
      "Epoch 86/200\n",
      "125/125 [==============================] - 0s 2ms/step - loss: 1.2165 - accuracy: 0.9590\n",
      "Epoch 87/200\n",
      "125/125 [==============================] - 0s 2ms/step - loss: 1.2106 - accuracy: 0.9622\n",
      "Epoch 88/200\n",
      "125/125 [==============================] - 0s 2ms/step - loss: 1.2046 - accuracy: 0.9663\n",
      "Epoch 89/200\n",
      "125/125 [==============================] - 0s 2ms/step - loss: 1.1999 - accuracy: 0.9607\n",
      "Epoch 90/200\n",
      "125/125 [==============================] - 0s 2ms/step - loss: 1.1947 - accuracy: 0.9655\n",
      "Epoch 91/200\n",
      "125/125 [==============================] - 0s 2ms/step - loss: 1.1897 - accuracy: 0.9650\n",
      "Epoch 92/200\n",
      "125/125 [==============================] - 0s 2ms/step - loss: 1.1851 - accuracy: 0.9665\n",
      "Epoch 93/200\n",
      "125/125 [==============================] - 0s 2ms/step - loss: 1.1788 - accuracy: 0.9685\n",
      "Epoch 94/200\n",
      "125/125 [==============================] - 0s 2ms/step - loss: 1.1718 - accuracy: 0.9705\n",
      "Epoch 95/200\n",
      "125/125 [==============================] - 0s 2ms/step - loss: 1.1676 - accuracy: 0.9697\n",
      "Epoch 96/200\n",
      "125/125 [==============================] - 0s 2ms/step - loss: 1.1646 - accuracy: 0.9712\n",
      "Epoch 97/200\n",
      "125/125 [==============================] - 0s 2ms/step - loss: 1.1593 - accuracy: 0.9737\n",
      "Epoch 98/200\n",
      "125/125 [==============================] - 0s 2ms/step - loss: 1.1545 - accuracy: 0.9755\n",
      "Epoch 99/200\n",
      "125/125 [==============================] - 0s 2ms/step - loss: 1.1488 - accuracy: 0.9735\n",
      "Epoch 100/200\n",
      "125/125 [==============================] - 0s 2ms/step - loss: 1.1445 - accuracy: 0.9772\n",
      "Epoch 101/200\n",
      "125/125 [==============================] - 0s 2ms/step - loss: 1.1419 - accuracy: 0.9745\n",
      "Epoch 102/200\n",
      "125/125 [==============================] - 0s 2ms/step - loss: 1.1365 - accuracy: 0.9787\n",
      "Epoch 103/200\n",
      "125/125 [==============================] - 0s 2ms/step - loss: 1.1328 - accuracy: 0.9790\n",
      "Epoch 104/200\n",
      "125/125 [==============================] - 0s 2ms/step - loss: 1.1279 - accuracy: 0.9803\n",
      "Epoch 105/200\n",
      "125/125 [==============================] - 0s 2ms/step - loss: 1.1236 - accuracy: 0.9818\n",
      "Epoch 106/200\n",
      "125/125 [==============================] - 0s 2ms/step - loss: 1.1195 - accuracy: 0.9797\n",
      "Epoch 107/200\n",
      "125/125 [==============================] - 0s 2ms/step - loss: 1.1152 - accuracy: 0.9803\n",
      "Epoch 108/200\n",
      "125/125 [==============================] - 0s 2ms/step - loss: 1.1129 - accuracy: 0.9790\n",
      "Epoch 109/200\n",
      "125/125 [==============================] - 0s 2ms/step - loss: 1.1079 - accuracy: 0.9818\n",
      "Epoch 110/200\n",
      "125/125 [==============================] - 0s 2ms/step - loss: 1.1043 - accuracy: 0.9818\n",
      "Epoch 111/200\n",
      "125/125 [==============================] - 0s 2ms/step - loss: 1.1010 - accuracy: 0.9820\n",
      "Epoch 112/200\n",
      "125/125 [==============================] - 0s 2ms/step - loss: 1.0942 - accuracy: 0.9843\n",
      "Epoch 113/200\n",
      "125/125 [==============================] - 0s 2ms/step - loss: 1.0924 - accuracy: 0.9858\n",
      "Epoch 114/200\n",
      "125/125 [==============================] - 0s 2ms/step - loss: 1.0887 - accuracy: 0.9865\n",
      "Epoch 115/200\n",
      "125/125 [==============================] - 0s 2ms/step - loss: 1.0844 - accuracy: 0.9868\n",
      "Epoch 116/200\n",
      "125/125 [==============================] - 0s 2ms/step - loss: 1.0820 - accuracy: 0.9860\n",
      "Epoch 117/200\n",
      "125/125 [==============================] - 0s 2ms/step - loss: 1.0770 - accuracy: 0.9883\n",
      "Epoch 118/200\n",
      "125/125 [==============================] - 0s 2ms/step - loss: 1.0746 - accuracy: 0.9865\n",
      "Epoch 119/200\n",
      "125/125 [==============================] - 0s 2ms/step - loss: 1.0704 - accuracy: 0.9883\n",
      "Epoch 120/200\n",
      "125/125 [==============================] - 0s 2ms/step - loss: 1.0676 - accuracy: 0.9877\n",
      "Epoch 121/200\n",
      "125/125 [==============================] - 0s 2ms/step - loss: 1.0636 - accuracy: 0.9898\n",
      "Epoch 122/200\n",
      "125/125 [==============================] - 0s 2ms/step - loss: 1.0595 - accuracy: 0.9895\n",
      "Epoch 123/200\n",
      "125/125 [==============================] - 0s 2ms/step - loss: 1.0568 - accuracy: 0.9890\n",
      "Epoch 124/200\n",
      "125/125 [==============================] - 0s 2ms/step - loss: 1.0548 - accuracy: 0.9910\n",
      "Epoch 125/200\n",
      "125/125 [==============================] - 0s 2ms/step - loss: 1.0503 - accuracy: 0.9910\n",
      "Epoch 126/200\n",
      "125/125 [==============================] - 0s 2ms/step - loss: 1.0487 - accuracy: 0.9893\n",
      "Epoch 127/200\n",
      "125/125 [==============================] - 0s 2ms/step - loss: 1.0443 - accuracy: 0.9908\n",
      "Epoch 128/200\n",
      "125/125 [==============================] - 0s 2ms/step - loss: 1.0422 - accuracy: 0.9918\n",
      "Epoch 129/200\n",
      "125/125 [==============================] - 0s 2ms/step - loss: 1.0373 - accuracy: 0.9915\n",
      "Epoch 130/200\n",
      "125/125 [==============================] - 0s 2ms/step - loss: 1.0354 - accuracy: 0.9912\n",
      "Epoch 131/200\n",
      "125/125 [==============================] - 0s 2ms/step - loss: 1.0312 - accuracy: 0.9927\n",
      "Epoch 132/200\n",
      "125/125 [==============================] - 0s 2ms/step - loss: 1.0275 - accuracy: 0.9940\n",
      "Epoch 133/200\n",
      "125/125 [==============================] - 0s 2ms/step - loss: 1.0250 - accuracy: 0.9930\n",
      "Epoch 134/200\n",
      "125/125 [==============================] - 0s 2ms/step - loss: 1.0226 - accuracy: 0.9923\n",
      "Epoch 135/200\n",
      "125/125 [==============================] - 0s 2ms/step - loss: 1.0199 - accuracy: 0.9918\n",
      "Epoch 136/200\n",
      "125/125 [==============================] - 0s 2ms/step - loss: 1.0160 - accuracy: 0.9945\n",
      "Epoch 137/200\n",
      "125/125 [==============================] - 0s 2ms/step - loss: 1.0137 - accuracy: 0.9937\n",
      "Epoch 138/200\n",
      "125/125 [==============================] - 0s 2ms/step - loss: 1.0110 - accuracy: 0.9950\n",
      "Epoch 139/200\n",
      "125/125 [==============================] - 0s 2ms/step - loss: 1.0085 - accuracy: 0.9942\n",
      "Epoch 140/200\n",
      "125/125 [==============================] - 0s 2ms/step - loss: 1.0051 - accuracy: 0.9950\n",
      "Epoch 141/200\n",
      "125/125 [==============================] - 0s 2ms/step - loss: 1.0027 - accuracy: 0.9952\n",
      "Epoch 142/200\n",
      "125/125 [==============================] - 0s 2ms/step - loss: 0.9998 - accuracy: 0.9945\n",
      "Epoch 143/200\n",
      "125/125 [==============================] - 0s 2ms/step - loss: 0.9966 - accuracy: 0.9945\n",
      "Epoch 144/200\n",
      "125/125 [==============================] - 0s 2ms/step - loss: 0.9935 - accuracy: 0.9967\n",
      "Epoch 145/200\n",
      "125/125 [==============================] - 0s 2ms/step - loss: 0.9911 - accuracy: 0.9948\n",
      "Epoch 146/200\n",
      "125/125 [==============================] - 0s 2ms/step - loss: 0.9886 - accuracy: 0.9973\n",
      "Epoch 147/200\n",
      "125/125 [==============================] - 0s 2ms/step - loss: 0.9858 - accuracy: 0.9962\n",
      "Epoch 148/200\n",
      "125/125 [==============================] - 0s 2ms/step - loss: 0.9824 - accuracy: 0.9970\n",
      "Epoch 149/200\n",
      "125/125 [==============================] - 0s 2ms/step - loss: 0.9801 - accuracy: 0.9960\n",
      "Epoch 150/200\n",
      "125/125 [==============================] - 0s 2ms/step - loss: 0.9777 - accuracy: 0.9965\n",
      "Epoch 151/200\n",
      "125/125 [==============================] - 0s 2ms/step - loss: 0.9761 - accuracy: 0.9965\n",
      "Epoch 152/200\n",
      "125/125 [==============================] - 0s 2ms/step - loss: 0.9718 - accuracy: 0.9983\n",
      "Epoch 153/200\n",
      "125/125 [==============================] - 0s 2ms/step - loss: 0.9700 - accuracy: 0.9973\n",
      "Epoch 154/200\n",
      "125/125 [==============================] - 0s 2ms/step - loss: 0.9673 - accuracy: 0.9973\n",
      "Epoch 155/200\n",
      "125/125 [==============================] - 0s 2ms/step - loss: 0.9650 - accuracy: 0.9967\n",
      "Epoch 156/200\n",
      "125/125 [==============================] - 0s 2ms/step - loss: 0.9622 - accuracy: 0.9980\n",
      "Epoch 157/200\n",
      "125/125 [==============================] - 0s 2ms/step - loss: 0.9594 - accuracy: 0.9977\n",
      "Epoch 158/200\n",
      "125/125 [==============================] - 0s 2ms/step - loss: 0.9576 - accuracy: 0.9983\n",
      "Epoch 159/200\n",
      "125/125 [==============================] - 0s 2ms/step - loss: 0.9542 - accuracy: 0.9987\n",
      "Epoch 160/200\n",
      "125/125 [==============================] - 0s 2ms/step - loss: 0.9519 - accuracy: 0.9987\n",
      "Epoch 161/200\n",
      "125/125 [==============================] - 0s 2ms/step - loss: 0.9505 - accuracy: 0.9983\n",
      "Epoch 162/200\n",
      "125/125 [==============================] - 0s 2ms/step - loss: 0.9478 - accuracy: 0.9992\n",
      "Epoch 163/200\n",
      "125/125 [==============================] - 0s 2ms/step - loss: 0.9453 - accuracy: 0.9990\n",
      "Epoch 164/200\n",
      "125/125 [==============================] - 0s 2ms/step - loss: 0.9423 - accuracy: 0.9990\n",
      "Epoch 165/200\n",
      "125/125 [==============================] - 0s 2ms/step - loss: 0.9406 - accuracy: 0.9983\n",
      "Epoch 166/200\n",
      "125/125 [==============================] - 0s 2ms/step - loss: 0.9386 - accuracy: 0.9990\n",
      "Epoch 167/200\n",
      "125/125 [==============================] - 0s 2ms/step - loss: 0.9351 - accuracy: 0.9990\n",
      "Epoch 168/200\n",
      "125/125 [==============================] - 0s 2ms/step - loss: 0.9338 - accuracy: 0.9977\n",
      "Epoch 169/200\n",
      "125/125 [==============================] - 0s 2ms/step - loss: 0.9314 - accuracy: 0.9987\n",
      "Epoch 170/200\n",
      "125/125 [==============================] - 0s 2ms/step - loss: 0.9288 - accuracy: 0.9995\n",
      "Epoch 171/200\n",
      "125/125 [==============================] - 0s 2ms/step - loss: 0.9266 - accuracy: 0.9990\n",
      "Epoch 172/200\n",
      "125/125 [==============================] - 0s 2ms/step - loss: 0.9248 - accuracy: 0.9992\n",
      "Epoch 173/200\n",
      "125/125 [==============================] - 0s 2ms/step - loss: 0.9222 - accuracy: 0.9992\n",
      "Epoch 174/200\n",
      "125/125 [==============================] - 0s 2ms/step - loss: 0.9201 - accuracy: 0.9985\n",
      "Epoch 175/200\n",
      "125/125 [==============================] - 0s 2ms/step - loss: 0.9172 - accuracy: 1.0000\n",
      "Epoch 176/200\n",
      "125/125 [==============================] - 0s 2ms/step - loss: 0.9156 - accuracy: 0.9995\n",
      "Epoch 177/200\n",
      "125/125 [==============================] - 0s 2ms/step - loss: 0.9134 - accuracy: 0.9998\n",
      "Epoch 178/200\n",
      "125/125 [==============================] - 0s 2ms/step - loss: 0.9113 - accuracy: 0.9992\n",
      "Epoch 179/200\n",
      "125/125 [==============================] - 0s 2ms/step - loss: 0.9086 - accuracy: 1.0000\n",
      "Epoch 180/200\n",
      "125/125 [==============================] - 0s 2ms/step - loss: 0.9064 - accuracy: 0.9992\n",
      "Epoch 181/200\n",
      "125/125 [==============================] - 0s 2ms/step - loss: 0.9043 - accuracy: 0.9998\n",
      "Epoch 182/200\n",
      "125/125 [==============================] - 0s 2ms/step - loss: 0.9026 - accuracy: 1.0000\n",
      "Epoch 183/200\n",
      "125/125 [==============================] - 0s 2ms/step - loss: 0.9002 - accuracy: 0.9998\n",
      "Epoch 184/200\n",
      "125/125 [==============================] - 0s 2ms/step - loss: 0.8980 - accuracy: 1.0000\n",
      "Epoch 185/200\n",
      "125/125 [==============================] - 0s 2ms/step - loss: 0.8961 - accuracy: 0.9995\n",
      "Epoch 186/200\n",
      "125/125 [==============================] - 0s 2ms/step - loss: 0.8938 - accuracy: 1.0000\n",
      "Epoch 187/200\n",
      "125/125 [==============================] - 0s 2ms/step - loss: 0.8917 - accuracy: 0.9995\n",
      "Epoch 188/200\n",
      "125/125 [==============================] - 0s 2ms/step - loss: 0.8894 - accuracy: 1.0000\n",
      "Epoch 189/200\n",
      "125/125 [==============================] - 0s 2ms/step - loss: 0.8875 - accuracy: 0.9998\n",
      "Epoch 190/200\n",
      "125/125 [==============================] - 0s 2ms/step - loss: 0.8854 - accuracy: 1.0000\n",
      "Epoch 191/200\n",
      "125/125 [==============================] - 0s 2ms/step - loss: 0.8832 - accuracy: 0.9998\n",
      "Epoch 192/200\n",
      "125/125 [==============================] - 0s 2ms/step - loss: 0.8812 - accuracy: 1.0000\n",
      "Epoch 193/200\n",
      "125/125 [==============================] - 0s 2ms/step - loss: 0.8789 - accuracy: 0.9998\n",
      "Epoch 194/200\n",
      "125/125 [==============================] - 0s 2ms/step - loss: 0.8770 - accuracy: 0.9998\n",
      "Epoch 195/200\n",
      "125/125 [==============================] - 0s 2ms/step - loss: 0.8750 - accuracy: 1.0000\n",
      "Epoch 196/200\n",
      "125/125 [==============================] - 0s 2ms/step - loss: 0.8728 - accuracy: 1.0000\n",
      "Epoch 197/200\n",
      "125/125 [==============================] - 0s 2ms/step - loss: 0.8708 - accuracy: 1.0000\n",
      "Epoch 198/200\n",
      "125/125 [==============================] - 0s 2ms/step - loss: 0.8690 - accuracy: 1.0000\n",
      "Epoch 199/200\n",
      "125/125 [==============================] - 0s 2ms/step - loss: 0.8670 - accuracy: 1.0000\n",
      "Epoch 200/200\n",
      "125/125 [==============================] - 0s 2ms/step - loss: 0.8650 - accuracy: 1.0000\n"
     ]
    }
   ],
   "source": [
    "##Task1-Question2\n",
    "#Your code\n",
    "model.compile(loss=keras.losses.categorical_crossentropy,\n",
    "              optimizer=tensorflow.keras.optimizers.SGD(),\n",
    "              metrics=['accuracy'])\n",
    "\n",
    "def lr_scheduler(epoch):\n",
    "    base_ep = 15\n",
    "    return 1e-3 * (.5 ** (epoch // base_ep))\n",
    "lr_reduce_cb = keras.callbacks.LearningRateScheduler(lr_scheduler)\n",
    "tensorboard_cb = keras.callbacks.TensorBoard(log_dir='log2', write_graph=True)\n",
    "early_stopping_cb = keras.callbacks.EarlyStopping(patience=8, min_delta=0.)\n",
    "\n",
    "# X = tensorflow.expand_dims(dataset['x'],axis=2)\n",
    "train_x=dataset['x']\n",
    "train_y=dataset['y']\n",
    "train_x=train_x.reshape(4000,40,1)\n",
    "train_y=tensorflow.keras.utils.to_categorical(train_y, num_classes=10)\n",
    "\n",
    "# print(X.shape)\n",
    "history=model.fit(x=train_x,y=train_y,epochs=200,\n",
    "#                     steps_per_epoch=len(X) // 32,\n",
    "                    callbacks=[tensorboard_cb],                  \n",
    "                    shuffle = True,\n",
    "                    verbose=1)\n",
    "model.save('MNIST1D.h5')\n",
    "##"
   ]
  },
  {
   "cell_type": "markdown",
   "metadata": {
    "id": "i2ajdUlDzQdM"
   },
   "source": [
    "# Plotting the training progress"
   ]
  },
  {
   "cell_type": "code",
   "execution_count": 14,
   "metadata": {},
   "outputs": [
    {
     "name": "stdout",
     "output_type": "stream",
     "text": [
      "125/125 [==============================] - 0s 992us/step - loss: 0.8622 - accuracy: 1.0000\n"
     ]
    },
    {
     "data": {
      "text/plain": [
       "[0.8621822595596313, 1.0]"
      ]
     },
     "execution_count": 14,
     "metadata": {},
     "output_type": "execute_result"
    }
   ],
   "source": [
    "model.evaluate(train_x,train_y, verbose=1, batch_size=32)"
   ]
  },
  {
   "cell_type": "code",
   "execution_count": 15,
   "metadata": {
    "id": "GixoKeUrt_rE"
   },
   "outputs": [
    {
     "data": {
      "text/plain": [
       "[<matplotlib.lines.Line2D at 0x2b389d22eb0>]"
      ]
     },
     "execution_count": 15,
     "metadata": {},
     "output_type": "execute_result"
    },
    {
     "data": {
      "image/png": "[encoded data removed]",
      "text/plain": [
       "<Figure size 432x288 with 1 Axes>"
      ]
     },
     "metadata": {
      "needs_background": "light"
     },
     "output_type": "display_data"
    },
    {
     "data": {
      "image/png": "[encoded data removed]",
      "text/plain": [
       "<Figure size 432x288 with 1 Axes>"
      ]
     },
     "metadata": {
      "needs_background": "light"
     },
     "output_type": "display_data"
    }
   ],
   "source": [
    "##Task1-Question3.a\n",
    "\n",
    "#Your code\n",
    "train_acc = history.history['accuracy']\n",
    "train_loss = history.history['loss']\n",
    "plt.plot(train_acc)\n",
    "plt.figure()\n",
    "plt.plot(train_loss)\n"
   ]
  },
  {
   "cell_type": "code",
   "execution_count": 16,
   "metadata": {},
   "outputs": [
    {
     "name": "stdout",
     "output_type": "stream",
     "text": [
      "              precision    recall  f1-score   support\n",
      "\n",
      "           0       0.98      0.98      0.98       102\n",
      "           1       0.87      0.88      0.88       104\n",
      "           2       0.82      0.90      0.86        89\n",
      "           3       0.98      0.97      0.98       106\n",
      "           4       0.90      0.90      0.90       106\n",
      "           5       0.84      0.84      0.84        98\n",
      "           6       0.97      0.93      0.95        99\n",
      "           7       0.95      0.90      0.92        96\n",
      "           8       0.94      0.92      0.93        98\n",
      "           9       0.78      0.80      0.79       102\n",
      "\n",
      "    accuracy                           0.90      1000\n",
      "   macro avg       0.90      0.90      0.90      1000\n",
      "weighted avg       0.90      0.90      0.90      1000\n",
      "\n"
     ]
    }
   ],
   "source": [
    "# Use Scikit-learn to calculate stats\n",
    "from sklearn.metrics import accuracy_score, precision_score, recall_score,f1_score\n",
    "from sklearn.metrics import classification_report\n",
    "\n",
    "x_test = dataset['x_test']\n",
    "y_test = dataset['y_test']\n",
    "x_test=x_test.reshape(1000,40,1)\n",
    "# predict_classes removed in tf 2.6.0\n",
    "y_pred = model.predict(x_test)\n",
    "y_predicted = np.argmax(y_pred,axis=1)\n",
    "# print(y_predicted[1])\n",
    "print(classification_report(y_true=y_test,y_pred=y_predicted))\n",
    "#(P-R)\n",
    "#ROC\n",
    "#AUC"
   ]
  },
  {
   "cell_type": "markdown",
   "metadata": {
    "id": "7ZWnNSegwqn3"
   },
   "source": [
    "# Explanation"
   ]
  },
  {
   "cell_type": "code",
   "execution_count": 18,
   "metadata": {
    "id": "fQQiOC7McDrI"
   },
   "outputs": [],
   "source": [
    "from xai_utils import *"
   ]
  },
  {
   "cell_type": "markdown",
   "metadata": {
    "id": "04WgCQtUumf3"
   },
   "source": [
    "Take a test sample"
   ]
  },
  {
   "cell_type": "markdown",
   "metadata": {
    "id": "78Rd1BLHupgY"
   },
   "source": [
    "Give the input to the model (Prediction)"
   ]
  },
  {
   "cell_type": "code",
   "execution_count": null,
   "metadata": {
    "colab": {
     "base_uri": "https://localhost:8080/"
    },
    "id": "YGPB_uXFuxBu",
    "outputId": "f3dc79f7-52dd-49c7-b23a-cd0b79e7093b"
   },
   "outputs": [
    {
     "name": "stdout",
     "output_type": "stream",
     "text": [
      "Correct digit: 3\n",
      "Predicted digit: 3\n",
      "Confidence score for the correct label: 1.0\n"
     ]
    }
   ],
   "source": [
    "index = int(np.floor(np.random.rand()*1000))\n",
    "input = np.expand_dims(np.expand_dims(x_test[index], axis=0), axis=-1)\n",
    "label = y_test[index]\n",
    "print('Correct digit: '+str(label))\n",
    "print('Predicted digit: '+str(np.argmax(model(np.expand_dims(np.expand_dims(x_test[index], axis=0), axis=-1)).numpy())))\n",
    "print('Confidence score for the correct label: '+str(model(np.expand_dims(np.expand_dims(x_test[index], axis=0), axis=-1)).numpy()[0,label]))"
   ]
  },
  {
   "cell_type": "markdown",
   "metadata": {
    "id": "HWBlYJ_Gvzmt"
   },
   "source": [
    "## SISE (Semantic Input Sampling for Explanation)"
   ]
  },
  {
   "cell_type": "code",
   "execution_count": null,
   "metadata": {
    "id": "s_3MO6jQvp1l"
   },
   "outputs": [],
   "source": [
    "explanation = SISE(input, model, label, [['conv1d_2']], grad_thr=0.)"
   ]
  },
  {
   "cell_type": "code",
   "execution_count": null,
   "metadata": {
    "colab": {
     "base_uri": "https://localhost:8080/",
     "height": 353
    },
    "id": "raFCq-HXcQge",
    "outputId": "a1973287-43bf-4a6f-d74e-d65f39f658f0"
   },
   "outputs": [
    {
     "data": {
      "text/plain": [
       "Text(0.5, 1.0, 'Highlighted input region (by the SISE algorithm)')"
      ]
     },
     "execution_count": 18,
     "metadata": {},
     "output_type": "execute_result"
    },
    {
     "data": {
      "image/png": "[encoded data removed]",
      "text/plain": [
       "<Figure size 1800x360 with 4 Axes>"
      ]
     },
     "metadata": {
      "needs_background": "light"
     },
     "output_type": "display_data"
    }
   ],
   "source": [
    "threshold = np.sort(explanation[:,0])[-12]\n",
    "\n",
    "plt.figure(figsize=(25,5))\n",
    "\n",
    "plt.subplot(1,4,1)\n",
    "plt.plot(input[0])\n",
    "plt.title('Input array')\n",
    "\n",
    "plt.subplot(1,4,2)\n",
    "plt.plot(explanation, 'r')\n",
    "plt.title('Explanation map')\n",
    "\n",
    "plt.subplot(1,4,3)\n",
    "plt.plot(dataset['templates']['x'][label])\n",
    "plt.title('Label template')\n",
    "\n",
    "plt.subplot(1,4,4)\n",
    "plt.plot((input[0]*(explanation>threshold)), 'r')\n",
    "plt.title('Highlighted input region (by the SISE algorithm)')"
   ]
  },
  {
   "cell_type": "markdown",
   "metadata": {
    "id": "PNEApbAEQkc9"
   },
   "source": [
    "## Grad-CAM"
   ]
  },
  {
   "cell_type": "code",
   "execution_count": null,
   "metadata": {
    "id": "OQPetu80Qlhw"
   },
   "outputs": [],
   "source": [
    "explanation = grad_cam(model, input, 'conv1d_2')"
   ]
  },
  {
   "cell_type": "code",
   "execution_count": null,
   "metadata": {
    "colab": {
     "base_uri": "https://localhost:8080/",
     "height": 353
    },
    "id": "0rDRk4clQwl6",
    "outputId": "d1546a39-99fb-4c87-8111-919a8c016740"
   },
   "outputs": [
    {
     "data": {
      "text/plain": [
       "Text(0.5, 1.0, 'Highlighted input region (by the  algorithm)')"
      ]
     },
     "execution_count": 20,
     "metadata": {},
     "output_type": "execute_result"
    },
    {
     "data": {
      "image/png": "[encoded data removed]",
      "text/plain": [
       "<Figure size 1800x360 with 4 Axes>"
      ]
     },
     "metadata": {
      "needs_background": "light"
     },
     "output_type": "display_data"
    }
   ],
   "source": [
    "threshold = np.sort(explanation)[-12]\n",
    "\n",
    "plt.figure(figsize=(25,5))\n",
    "\n",
    "plt.subplot(1,4,1)\n",
    "plt.plot(input[0])\n",
    "plt.title('Input array')\n",
    "\n",
    "plt.subplot(1,4,2)\n",
    "plt.plot(explanation, 'r')\n",
    "plt.title('Explanation map')\n",
    "\n",
    "plt.subplot(1,4,3)\n",
    "plt.plot(dataset['templates']['x'][label])\n",
    "plt.title('Label template')\n",
    "\n",
    "plt.subplot(1,4,4)\n",
    "plt.plot((input[0,:,0]*(explanation>threshold)), 'r')\n",
    "plt.title('Highlighted input region (by the  algorithm)')"
   ]
  },
  {
   "cell_type": "markdown",
   "metadata": {},
   "source": [
    "## Ablation-CAM"
   ]
  },
  {
   "cell_type": "code",
   "execution_count": null,
   "metadata": {},
   "outputs": [],
   "source": [
    "explanation = ablation_cam(input, model, 'conv1d_2')"
   ]
  },
  {
   "cell_type": "code",
   "execution_count": null,
   "metadata": {},
   "outputs": [],
   "source": [
    "threshold = np.sort(explanation)[-12]\n",
    "\n",
    "plt.figure(figsize=(25,5))\n",
    "\n",
    "plt.subplot(1,4,1)\n",
    "plt.plot(input[0])\n",
    "plt.title('Input array')\n",
    "\n",
    "plt.subplot(1,4,2)\n",
    "plt.plot(explanation, 'r')\n",
    "plt.title('Explanation map')\n",
    "\n",
    "plt.subplot(1,4,3)\n",
    "plt.plot(dataset['templates']['x'][label])\n",
    "plt.title('Label template')\n",
    "\n",
    "plt.subplot(1,4,4)\n",
    "plt.plot((input[0,:,0]*(explanation>threshold)), 'r')\n",
    "plt.title('Highlighted input region (by the  algorithm)')"
   ]
  },
  {
   "cell_type": "markdown",
   "metadata": {
    "id": "C2YVQARaeTKi"
   },
   "source": [
    "## Quantitative evaluation"
   ]
  },
  {
   "cell_type": "code",
   "execution_count": null,
   "metadata": {
    "id": "CTm4tTQMeOxs"
   },
   "outputs": [],
   "source": [
    "def calculate_drop_increase(images, model, exmap, class_index, frac=0.15):\n",
    "    '''\n",
    "    inputs:\n",
    "        images: a 4-D image of size (1 x H x W x 3)\n",
    "          containing an image in RGB format and of size (H x W)\n",
    "        model: The base model\n",
    "        exmap: a given explanation map whose completeness is to be evaluated.\n",
    "        class_index: The class to whom the explanation map is related to.\n",
    "        frac: The fraction of top pixels selected.\n",
    "    returns:v\n",
    "        a tuple with 4 calculates values:\n",
    "        (drop, increase, original_pred, eplanation_pred)\n",
    "        drop (float): drop rate (between 0 and 1)\n",
    "        increase (boolean): \"1\" if increase happened\n",
    "        original_pred: confidence score for original image\n",
    "        explanation_pred:  confidence score for the selected top pixels of the image.\n",
    "    '''\n",
    "    predictions = model.predict(images)\n",
    "    #print(images.shape)\n",
    "    # Pre-processing image \n",
    "    img=images[0,:,:]\n",
    "    #img=img_to_array(img)\n",
    "    img = np.expand_dims(img,axis=0)\n",
    "    # Getting the prediction for image\n",
    "    Y=predictions[0][class_index]\n",
    "    \n",
    "    grad_array=np.reshape(exmap, (-1,))\n",
    "    array_size=int(grad_array.shape[0]*frac)\n",
    "    thr=np.flip(sorted(grad_array))[array_size]\n",
    "    exmap1_msk=(exmap>thr)\n",
    "    exmap1_thr=np.zeros(shape=(1,40,1))\n",
    "    exmap1_thr=img*exmap1_msk\n",
    "    ex_predictions = model.predict(exmap1_thr)[0]\n",
    "    O1=ex_predictions[class_index]\n",
    "    etta=(Y-O1)/(Y+1e-100)\n",
    "    return (etta*(etta>0), 1*(etta<0), Y, O1)"
   ]
  },
  {
   "cell_type": "code",
   "execution_count": null,
   "metadata": {
    "id": "udarj3epeVRX"
   },
   "outputs": [],
   "source": [
    "drop_rate = 0.\n",
    "for index in range(1000):\n",
    "    prediction=model(np.expand_dims(np.expand_dims(x_test[index], axis=0), axis=-1)).numpy()\n",
    "    explanation_map = SISE(np.expand_dims(np.expand_dims(x_test[index], axis=0), axis=-1), model, layers=[['conv1d_2']], class_index=np.argmax(prediction[0]), grad_thr=0.)\n",
    "    drop_rate += calculate_drop_increase(np.expand_dims(np.expand_dims(x_test[index], axis=0), axis=-1), model, explanation_map, class_index=np.argmax(prediction[0]), frac=0.3)[0]\n",
    "drop_rate /= 1000"
   ]
  }
 ],
 "metadata": {
  "colab": {
   "collapsed_sections": [
    "i2ajdUlDzQdM"
   ],
   "name": "MNIST1D.ipynb",
   "provenance": []
  },
  "kernelspec": {
   "display_name": "Python 3 (ipykernel)",
   "language": "python",
   "name": "python3"
  },
  "language_info": {
   "codemirror_mode": {
    "name": "ipython",
    "version": 3
   },
   "file_extension": ".py",
   "mimetype": "text/x-python",
   "name": "python",
   "nbconvert_exporter": "python",
   "pygments_lexer": "ipython3",
   "version": "3.8.6"
  }
 },
 "nbformat": 4,
 "nbformat_minor": 1
}
