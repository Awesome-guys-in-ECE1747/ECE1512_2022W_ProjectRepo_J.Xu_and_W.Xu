{
 "cells": [
  {
   "cell_type": "code",
   "execution_count": 2,
   "metadata": {
    "colab": {
     "base_uri": "https://localhost:8080/"
    },
    "id": "IycDm5rEVyX0",
    "outputId": "e1cb3ee8-d90f-40fd-c4f6-27ddcf0d8134"
   },
   "outputs": [
    {
     "ename": "ModuleNotFoundError",
     "evalue": "No module named 'google.colab'",
     "output_type": "error",
     "traceback": [
      "\u001b[1;31m---------------------------------------------------------------------------\u001b[0m",
      "\u001b[1;31mModuleNotFoundError\u001b[0m                       Traceback (most recent call last)",
      "Input \u001b[1;32mIn [2]\u001b[0m, in \u001b[0;36m<module>\u001b[1;34m\u001b[0m\n\u001b[1;32m----> 1\u001b[0m \u001b[38;5;28;01mfrom\u001b[39;00m \u001b[38;5;21;01mgoogle\u001b[39;00m\u001b[38;5;21;01m.\u001b[39;00m\u001b[38;5;21;01mcolab\u001b[39;00m \u001b[38;5;28;01mimport\u001b[39;00m drive\n\u001b[0;32m      2\u001b[0m drive\u001b[38;5;241m.\u001b[39mmount(\u001b[38;5;124m'\u001b[39m\u001b[38;5;124m/content/drive\u001b[39m\u001b[38;5;124m'\u001b[39m)\n",
      "\u001b[1;31mModuleNotFoundError\u001b[0m: No module named 'google.colab'"
     ]
    }
   ],
   "source": [
    "from google.colab import drive\n",
    "drive.mount('/content/drive')"
   ]
  },
  {
   "cell_type": "code",
   "execution_count": null,
   "metadata": {
    "id": "fiCcdB_QV0Fb"
   },
   "outputs": [],
   "source": [
    "import os\n",
    "os.chdir(r'/content/drive/My Drive/ECE1512_TA')  # Change the directory to torchRay-master folder"
   ]
  },
  {
   "cell_type": "markdown",
   "metadata": {
    "id": "FXgwO7nGfg0W"
   },
   "source": [
    "# Requirements"
   ]
  },
  {
   "cell_type": "code",
   "execution_count": 3,
   "metadata": {
    "id": "GfgOoaMBPzG6"
   },
   "outputs": [],
   "source": [
    "import os\n",
    "import numpy as np\n",
    "import pandas as pd\n",
    "import requests\n",
    "import scipy\n",
    "import pickle\n",
    "from scipy.ndimage.filters import gaussian_filter\n",
    "from scipy.interpolate import interp1d\n",
    "import tensorflow\n",
    "import keras\n",
    "from keras.models import Sequential\n",
    "from keras.layers import Conv1D, MaxPooling1D, Dense, Flatten\n",
    "from keras import regularizers\n",
    "import keras.backend as K\n",
    "from keras.models import load_model\n",
    "from tensorflow.core.util import event_pb2\n",
    "from tensorflow.python.lib.io import tf_record\n",
    "import sklearn.metrics as metrics\n",
    "import matplotlib.pyplot as plt\n",
    "import cv2"
   ]
  },
  {
   "cell_type": "code",
   "execution_count": 4,
   "metadata": {
    "id": "oXY7G98lr9vb"
   },
   "outputs": [],
   "source": [
    "#@title MNIST-1D utils\n",
    "\n",
    "# transformations of the templates which will make them harder to classify\n",
    "def pad(x, padding):\n",
    "    low, high = padding\n",
    "    p = low + int(np.random.rand()*(high-low+1))\n",
    "    return np.concatenate([x, np.zeros((p))])\n",
    "\n",
    "def shear(x, scale=10):\n",
    "    coeff = scale*(np.random.rand() - 0.5)\n",
    "    return x - coeff*np.linspace(-0.5,.5,len(x))\n",
    "\n",
    "def translate(x, max_translation):\n",
    "    k = np.random.choice(max_translation)\n",
    "    return np.concatenate([x[-k:], x[:-k]])\n",
    "\n",
    "def corr_noise_like(x, scale):\n",
    "    noise = scale * np.random.randn(*x.shape)\n",
    "    return gaussian_filter(noise, 2)\n",
    "\n",
    "def iid_noise_like(x, scale):\n",
    "    noise = scale * np.random.randn(*x.shape)\n",
    "    return noise\n",
    "\n",
    "def interpolate(x, N):\n",
    "    scale = np.linspace(0,1,len(x))\n",
    "    new_scale = np.linspace(0,1,N)\n",
    "    new_x = interp1d(scale, x, axis=0, kind='linear')(new_scale)\n",
    "    return new_x\n",
    "\n",
    "def transform(x, y, args, eps=1e-8):\n",
    "    new_x = pad(x+eps, args.padding) # pad\n",
    "    new_x = interpolate(new_x, args.template_len + args.padding[-1])  # dilate\n",
    "    new_y = interpolate(y, args.template_len + args.padding[-1])\n",
    "    new_x *= (1 + args.scale_coeff*(np.random.rand() - 0.5))  # scale\n",
    "    new_x = translate(new_x, args.max_translation)  #translate\n",
    "    \n",
    "    # add noise\n",
    "    mask = new_x != 0\n",
    "    new_x = mask*new_x + (1-mask)*corr_noise_like(new_x, args.corr_noise_scale)\n",
    "    new_x = new_x + iid_noise_like(new_x, args.iid_noise_scale)\n",
    "    \n",
    "    # shear and interpolate\n",
    "    new_x = shear(new_x, args.shear_scale)\n",
    "    new_x = interpolate(new_x, args.final_seq_length) # subsample\n",
    "    new_y = interpolate(new_y, args.final_seq_length)\n",
    "    return new_x, new_y\n",
    "\n",
    "def get_dataset_args(as_dict=False):\n",
    "    arg_dict = {'num_samples': 5000,\n",
    "            'train_split': 0.8,\n",
    "            'template_len': 12,\n",
    "            'padding': [36,60],\n",
    "            'scale_coeff': .4, \n",
    "            'max_translation': 48,\n",
    "            'corr_noise_scale': 0.25,\n",
    "            'iid_noise_scale': 2e-2,\n",
    "            'shear_scale': 0.75,\n",
    "            'shuffle_seq': False,\n",
    "            'final_seq_length': 40,\n",
    "            'seed': 42,\n",
    "            'url': 'https://github.com/greydanus/mnist1d/raw/master/mnist1d_data.pkl'}\n",
    "    return arg_dict if as_dict else ObjectView(arg_dict)\n",
    "\n",
    "\n",
    "def to_pickle(thing, path): # save something\n",
    "    with open(path, 'wb') as handle:\n",
    "        pickle.dump(thing, handle, protocol=4)\n",
    "\n",
    "\n",
    "def from_pickle(path): # load something\n",
    "    thing = None\n",
    "    with open(path, 'rb') as handle:\n",
    "        thing = pickle.load(handle)\n",
    "    return thing\n",
    "\n",
    "class ObjectView(object):\n",
    "    def __init__(self, d): self.__dict__ = d\n",
    "\n",
    "# basic 1D templates for the 10 digits\n",
    "def get_templates():\n",
    "    d0 = np.asarray([5,6,6.5,6.75,7,7,7,7,6.75,6.5,6,5])\n",
    "    d1 = np.asarray([5,3,3,3.4,3.8,4.2,4.6,5,5.4,5.8,5,5])\n",
    "    d2 = np.asarray([5,6,6.5,6.5,6,5.25,4.75,4,3.5,3.5,4,5])\n",
    "    d3 = np.asarray([5,6,6.5,6.5,6,5,5,6,6.5,6.5,6,5])\n",
    "    d4 = np.asarray([5,4.4,3.8,3.2,2.6,2.6,5,5,5,5,5,5])\n",
    "    d5 = np.asarray([5,3,3,3,3,5,6,6.5,6.5,6,4.5,5])\n",
    "    d6 = np.asarray([5,4,3.5,3.25,3,3,3,3,3.25,3.5,4,5])\n",
    "    d7 = np.asarray([5,7,7,6.6,6.2,5.8,5.4,5,4.6,4.2,5,5])\n",
    "    d8 = np.asarray([5,4,3.5,3.5,4,5,5,4,3.5,3.5,4,5])\n",
    "    d9 = np.asarray([5,4,3.5,3.5,4,5,5,5,5,4.7,4.3,5])\n",
    "    \n",
    "    x = np.stack([d0,d1,d2,d3,d4,d5,d6,d7,d8,d9])\n",
    "    x -= x.mean(1,keepdims=True) # whiten\n",
    "    x /= x.std(1,keepdims=True)\n",
    "    x -= x[:,:1]  # signal starts and ends at 0\n",
    "    \n",
    "    templates = {'x': x/6., 't': np.linspace(-5, 5, len(d0))/6.,\n",
    "                 'y': np.asarray([0,1,2,3,4,5,6,7,8,9])}\n",
    "    return templates\n",
    "\n",
    "def make_dataset(args=None, template=None, ):\n",
    "    templates = get_templates() if template is None else template\n",
    "    args = get_dataset_args() if args is None else args\n",
    "    np.random.seed(args.seed) # reproducibility\n",
    "    \n",
    "    xs, ys = [], []\n",
    "    samples_per_class = args.num_samples // len(templates['y'])\n",
    "    for label_ix in range(len(templates['y'])):\n",
    "        for example_ix in range(samples_per_class):\n",
    "            x = templates['x'][label_ix]\n",
    "            t = templates['t']\n",
    "            y = templates['y'][label_ix]\n",
    "            x, new_t = transform(x, t, args) # new_t transformation is same each time\n",
    "            xs.append(x) ; ys.append(y)\n",
    "    \n",
    "    batch_shuffle = np.random.permutation(len(ys)) # shuffle batch dimension\n",
    "    xs = np.stack(xs)[batch_shuffle]\n",
    "    ys = np.stack(ys)[batch_shuffle]\n",
    "    \n",
    "    if args.shuffle_seq: # maybe shuffle the spatial dimension\n",
    "        seq_shuffle = np.random.permutation(args.final_seq_length)\n",
    "        xs = xs[...,seq_shuffle]\n",
    "    \n",
    "    new_t = new_t/xs.std()\n",
    "    xs = (xs-xs.mean())/xs.std() # center the dataset & set standard deviation to 1\n",
    "\n",
    "    # train / test split\n",
    "    split_ix = int(len(ys)*args.train_split)\n",
    "    dataset = {'x': xs[:split_ix], 'x_test': xs[split_ix:],\n",
    "               'y': ys[:split_ix], 'y_test': ys[split_ix:],\n",
    "               't':new_t, 'templates': templates}\n",
    "    return dataset\n"
   ]
  },
  {
   "cell_type": "code",
   "execution_count": 5,
   "metadata": {
    "id": "b2yNuw5bZHK3"
   },
   "outputs": [],
   "source": [
    "from mnist1d_utils import *"
   ]
  },
  {
   "cell_type": "markdown",
   "metadata": {
    "id": "TgXE_0b0Gzj5"
   },
   "source": [
    "# Dataset"
   ]
  },
  {
   "cell_type": "code",
   "execution_count": 6,
   "metadata": {
    "id": "n0_uYlpWnRz4"
   },
   "outputs": [],
   "source": [
    "dataset = make_dataset()"
   ]
  },
  {
   "cell_type": "markdown",
   "metadata": {
    "id": "sjZIDVGahaNA"
   },
   "source": [
    "**Dataset:** A dictionary conaining 4000 train and 1000 test data.\n",
    "\n",
    "Keys of the dictionary:\n",
    "\n",
    "* 'x' : Training data.\n",
    "\n",
    "* 'y' : Training labels.\n",
    "\n",
    "* 'x_test' : Test data.\n",
    "\n",
    "* 'y_test : Test labels.\n",
    "\n",
    "* 't' : Mapping data points to spatial locations.\n",
    "\n",
    "* 'templates' : The templates for the digits 0-9."
   ]
  },
  {
   "cell_type": "code",
   "execution_count": 7,
   "metadata": {
    "cellView": "form",
    "colab": {
     "base_uri": "https://localhost:8080/",
     "height": 228
    },
    "id": "r9K7zrI1s6nA",
    "outputId": "d7ab8c1f-50d8-4721-ac71-01b39e685fc5"
   },
   "outputs": [
    {
     "data": {
      "text/plain": [
       "Text(0.5, 1.0, 'predicted class: 6')"
      ]
     },
     "execution_count": 7,
     "metadata": {},
     "output_type": "execute_result"
    },
    {
     "data": {
      "image/png": "[encoded data removed]",
      "text/plain": [
       "<Figure size 1440x216 with 5 Axes>"
      ]
     },
     "metadata": {
      "needs_background": "light"
     },
     "output_type": "display_data"
    }
   ],
   "source": [
    "#@title Show some examples from the MNIST 1-D dataset\n",
    "\n",
    "plt.figure(figsize=(20,3))\n",
    "\n",
    "plt.subplot(151)\n",
    "plt.plot(dataset['x'][0], 'r')\n",
    "plt.axis('off')\n",
    "plt.title('predicted class: '+str(dataset['y'][0]))\n",
    "\n",
    "plt.subplot(152)\n",
    "plt.plot(dataset['x'][1], 'r')\n",
    "plt.axis('off')\n",
    "plt.title('predicted class: '+str(dataset['y'][1]))\n",
    "\n",
    "plt.subplot(153)\n",
    "plt.plot(dataset['x'][2], 'r')\n",
    "plt.axis('off')\n",
    "plt.title('predicted class: '+str(dataset['y'][2]))\n",
    "\n",
    "plt.subplot(154)\n",
    "plt.plot(dataset['x'][3], 'r')\n",
    "plt.axis('off')\n",
    "plt.title('predicted class: '+str(dataset['y'][3]))\n",
    "\n",
    "plt.subplot(155)\n",
    "plt.plot(dataset['x'][4], 'r')\n",
    "plt.axis('off')\n",
    "plt.title('predicted class: '+str(dataset['y'][4]))"
   ]
  },
  {
   "cell_type": "code",
   "execution_count": 8,
   "metadata": {
    "cellView": "form",
    "colab": {
     "base_uri": "https://localhost:8080/",
     "height": 500
    },
    "id": "tE-5RvGbiffa",
    "outputId": "8fed8587-4c79-439d-d087-42eceed7bbae"
   },
   "outputs": [
    {
     "data": {
      "text/plain": [
       "Text(0.5, 1.0, 'predicted class: 9')"
      ]
     },
     "execution_count": 8,
     "metadata": {},
     "output_type": "execute_result"
    },
    {
     "data": {
      "image/png": "[encoded data removed]",
      "text/plain": [
       "<Figure size 1440x576 with 10 Axes>"
      ]
     },
     "metadata": {
      "needs_background": "light"
     },
     "output_type": "display_data"
    }
   ],
   "source": [
    "#@title Show the digit templates in the MNIST 1-D dataset \n",
    "\n",
    "plt.figure(figsize=(20,8))\n",
    "\n",
    "plt.subplot(251)\n",
    "plt.plot(dataset['templates']['x'][0], 'r')\n",
    "plt.axis('off')\n",
    "plt.title('predicted class: 0')\n",
    "\n",
    "plt.subplot(252)\n",
    "plt.plot(dataset['templates']['x'][1], 'r')\n",
    "plt.axis('off')\n",
    "plt.title('predicted class: 1')\n",
    "\n",
    "plt.subplot(253)\n",
    "plt.plot(dataset['templates']['x'][2], 'r')\n",
    "plt.axis('off')\n",
    "plt.title('predicted class: 2')\n",
    "\n",
    "plt.subplot(254)\n",
    "plt.plot(dataset['templates']['x'][3], 'r')\n",
    "plt.axis('off')\n",
    "plt.title('predicted class: 3')\n",
    "\n",
    "plt.subplot(255)\n",
    "plt.plot(dataset['templates']['x'][4], 'r')\n",
    "plt.axis('off')\n",
    "plt.title('predicted class: 4')\n",
    "\n",
    "plt.subplot(256)\n",
    "plt.plot(dataset['templates']['x'][5], 'r')\n",
    "plt.axis('off')\n",
    "plt.title('predicted class: 5')\n",
    "\n",
    "plt.subplot(257)\n",
    "plt.plot(dataset['templates']['x'][6], 'r')\n",
    "plt.axis('off')\n",
    "plt.title('predicted class: 6')\n",
    "\n",
    "plt.subplot(258)\n",
    "plt.plot(dataset['templates']['x'][7], 'r')\n",
    "plt.axis('off')\n",
    "plt.title('predicted class: 7')\n",
    "\n",
    "plt.subplot(259)\n",
    "plt.plot(dataset['templates']['x'][8], 'r')\n",
    "plt.axis('off')\n",
    "plt.title('predicted class: 8')\n",
    "\n",
    "plt.subplot(2,5,10)\n",
    "plt.plot(dataset['templates']['x'][9], 'r')\n",
    "plt.axis('off')\n",
    "plt.title('predicted class: 9')"
   ]
  },
  {
   "cell_type": "markdown",
   "metadata": {
    "id": "vzU4rjnStv0u"
   },
   "source": [
    "Saving the dataset"
   ]
  },
  {
   "cell_type": "code",
   "execution_count": 15,
   "metadata": {
    "id": "pB5RISwytxXE"
   },
   "outputs": [],
   "source": [
    "f = open(\"MNIST1D.pkl\",\"wb\")\n",
    "pickle.dump(dataset,f)\n",
    "f.close()"
   ]
  },
  {
   "cell_type": "markdown",
   "metadata": {
    "id": "XfxoIZegODCA"
   },
   "source": [
    "# Model Creation"
   ]
  },
  {
   "cell_type": "markdown",
   "metadata": {
    "id": "2d1aY0rinOha"
   },
   "source": [
    "**Creating model :**\n",
    "\n",
    "A 1-Dimensional CNN, containing 3 convolutional layers, followed by a fully-connected output layer."
   ]
  },
  {
   "cell_type": "code",
   "execution_count": 23,
   "metadata": {
    "id": "2dQ2IJfgtAOo"
   },
   "outputs": [
    {
     "name": "stdout",
     "output_type": "stream",
     "text": [
      "Model: \"sequential_6\"\n",
      "_________________________________________________________________\n",
      " Layer (type)                Output Shape              Param #   \n",
      "=================================================================\n",
      " conv1d_16 (Conv1D)          (None, 32, 40, 25)        150       \n",
      "                                                                 \n",
      " conv1d_17 (Conv1D)          (None, 32, 40, 25)        1900      \n",
      "                                                                 \n",
      " conv1d_18 (Conv1D)          (None, 32, 40, 25)        1900      \n",
      "                                                                 \n",
      " flatten_5 (Flatten)         (None, 32000)             0         \n",
      "                                                                 \n",
      " dense_5 (Dense)             (None, 10)                320010    \n",
      "                                                                 \n",
      "=================================================================\n",
      "Total params: 323,960\n",
      "Trainable params: 323,960\n",
      "Non-trainable params: 0\n",
      "_________________________________________________________________\n"
     ]
    }
   ],
   "source": [
    "##### Task1-Question1\n",
    "weight_decay = 5e-4\n",
    "model = Sequential()\n",
    "#Your code starts from here \n",
    "model.add(Conv1D(25, kernel_size=5, padding='same', activation='relu', input_shape=(32, 40), kernel_regularizer=regularizers.l2(weight_decay)))\n",
    "model.add(Conv1D(25, kernel_size=3, padding='same', activation='relu', kernel_regularizer=regularizers.l2(weight_decay)))\n",
    "model.add(Conv1D(25, kernel_size=3, padding='same', activation='relu', kernel_regularizer=regularizers.l2(weight_decay)))\n",
    "\n",
    "model.add(Flatten())\n",
    "model.add(Dense(10, activation='softmax', kernel_initializer=keras.initializers.RandomNormal(mean=0.0, stddev=0.5),\n",
    "                bias_initializer=keras.initializers.Zeros(), kernel_regularizer=regularizers.l2(weight_decay)))\n",
    "\n",
    "model.summary()\n",
    "##"
   ]
  },
  {
   "cell_type": "markdown",
   "metadata": {
    "id": "S9PePu6BsZKS"
   },
   "source": [
    "# Training the model"
   ]
  },
  {
   "cell_type": "markdown",
   "metadata": {
    "id": "1mRgs2Ewnxlm"
   },
   "source": [
    "Compiling the model\n",
    "\n",
    "Loss function: Cross-entropy\n",
    "\n",
    "Optimizer: Stochastic Gradient Descent (SGD) (learning rate = 0.01)\n",
    "\n",
    "Tensorboard: For recording the training procedure"
   ]
  },
  {
   "cell_type": "code",
   "execution_count": 24,
   "metadata": {
    "id": "3XK3dbaWnzPF"
   },
   "outputs": [
    {
     "name": "stdout",
     "output_type": "stream",
     "text": [
      "Epoch 1/200\n"
     ]
    },
    {
     "name": "stderr",
     "output_type": "stream",
     "text": [
      "C:\\Users\\Jiaming\\AppData\\Local\\Temp\\ipykernel_4332\\2509115433.py:13: UserWarning: `Model.fit_generator` is deprecated and will be removed in a future version. Please use `Model.fit`, which supports generators.\n",
      "  model.fit_generator(generator=dataset['x'],\n"
     ]
    },
    {
     "ename": "ValueError",
     "evalue": "in user code:\n\n    File \"c:\\users\\jiaming\\appdata\\local\\programs\\python\\python39\\lib\\site-packages\\keras\\engine\\training.py\", line 878, in train_function  *\n        return step_function(self, iterator)\n    File \"c:\\users\\jiaming\\appdata\\local\\programs\\python\\python39\\lib\\site-packages\\keras\\engine\\training.py\", line 867, in step_function  **\n        outputs = model.distribute_strategy.run(run_step, args=(data,))\n    File \"c:\\users\\jiaming\\appdata\\local\\programs\\python\\python39\\lib\\site-packages\\keras\\engine\\training.py\", line 860, in run_step  **\n        outputs = model.train_step(data)\n    File \"c:\\users\\jiaming\\appdata\\local\\programs\\python\\python39\\lib\\site-packages\\keras\\engine\\training.py\", line 808, in train_step\n        y_pred = self(x, training=True)\n    File \"c:\\users\\jiaming\\appdata\\local\\programs\\python\\python39\\lib\\site-packages\\keras\\utils\\traceback_utils.py\", line 67, in error_handler\n        raise e.with_traceback(filtered_tb) from None\n    File \"c:\\users\\jiaming\\appdata\\local\\programs\\python\\python39\\lib\\site-packages\\keras\\engine\\input_spec.py\", line 263, in assert_input_compatibility\n        raise ValueError(f'Input {input_index} of layer \"{layer_name}\" is '\n\n    ValueError: Input 0 of layer \"sequential_6\" is incompatible with the layer: expected shape=(None, 32, 40, 1), found shape=(32, 40)\n",
     "output_type": "error",
     "traceback": [
      "\u001b[1;31m---------------------------------------------------------------------------\u001b[0m",
      "\u001b[1;31mValueError\u001b[0m                                Traceback (most recent call last)",
      "Input \u001b[1;32mIn [24]\u001b[0m, in \u001b[0;36m<module>\u001b[1;34m\u001b[0m\n\u001b[0;32m     11\u001b[0m tensorboard_cb \u001b[38;5;241m=\u001b[39m keras\u001b[38;5;241m.\u001b[39mcallbacks\u001b[38;5;241m.\u001b[39mTensorBoard(log_dir\u001b[38;5;241m=\u001b[39m\u001b[38;5;124m'\u001b[39m\u001b[38;5;124mlog2\u001b[39m\u001b[38;5;124m'\u001b[39m, write_graph\u001b[38;5;241m=\u001b[39m\u001b[38;5;28;01mTrue\u001b[39;00m)\n\u001b[0;32m     12\u001b[0m early_stopping_cb \u001b[38;5;241m=\u001b[39m keras\u001b[38;5;241m.\u001b[39mcallbacks\u001b[38;5;241m.\u001b[39mEarlyStopping(patience\u001b[38;5;241m=\u001b[39m\u001b[38;5;241m8\u001b[39m, min_delta\u001b[38;5;241m=\u001b[39m\u001b[38;5;241m0.\u001b[39m)\n\u001b[1;32m---> 13\u001b[0m \u001b[43mmodel\u001b[49m\u001b[38;5;241;43m.\u001b[39;49m\u001b[43mfit_generator\u001b[49m\u001b[43m(\u001b[49m\u001b[43mgenerator\u001b[49m\u001b[38;5;241;43m=\u001b[39;49m\u001b[43mdataset\u001b[49m\u001b[43m[\u001b[49m\u001b[38;5;124;43m'\u001b[39;49m\u001b[38;5;124;43mx\u001b[39;49m\u001b[38;5;124;43m'\u001b[39;49m\u001b[43m]\u001b[49m\u001b[43m,\u001b[49m\n\u001b[0;32m     14\u001b[0m \u001b[43m                    \u001b[49m\u001b[43msteps_per_epoch\u001b[49m\u001b[38;5;241;43m=\u001b[39;49m\u001b[38;5;28;43mlen\u001b[39;49m\u001b[43m(\u001b[49m\u001b[43mdataset\u001b[49m\u001b[43m[\u001b[49m\u001b[38;5;124;43m'\u001b[39;49m\u001b[38;5;124;43mx\u001b[39;49m\u001b[38;5;124;43m'\u001b[39;49m\u001b[43m]\u001b[49m\u001b[43m)\u001b[49m\u001b[43m \u001b[49m\u001b[38;5;241;43m/\u001b[39;49m\u001b[38;5;241;43m/\u001b[39;49m\u001b[43m \u001b[49m\u001b[38;5;241;43m32\u001b[39;49m\u001b[43m,\u001b[49m\n\u001b[0;32m     15\u001b[0m \u001b[43m                    \u001b[49m\u001b[43mepochs\u001b[49m\u001b[38;5;241;43m=\u001b[39;49m\u001b[38;5;241;43m200\u001b[39;49m\u001b[43m,\u001b[49m\n\u001b[0;32m     16\u001b[0m \u001b[43m                    \u001b[49m\u001b[43mcallbacks\u001b[49m\u001b[38;5;241;43m=\u001b[39;49m\u001b[43m[\u001b[49m\u001b[43mtensorboard_cb\u001b[49m\u001b[43m]\u001b[49m\u001b[43m,\u001b[49m\u001b[43m                  \u001b[49m\n\u001b[0;32m     17\u001b[0m \u001b[43m                    \u001b[49m\u001b[43mshuffle\u001b[49m\u001b[43m \u001b[49m\u001b[38;5;241;43m=\u001b[39;49m\u001b[43m \u001b[49m\u001b[38;5;28;43;01mTrue\u001b[39;49;00m\u001b[43m,\u001b[49m\n\u001b[0;32m     18\u001b[0m \u001b[43m                    \u001b[49m\u001b[43mverbose\u001b[49m\u001b[38;5;241;43m=\u001b[39;49m\u001b[38;5;241;43m1\u001b[39;49m\u001b[43m)\u001b[49m\n\u001b[0;32m     19\u001b[0m model\u001b[38;5;241m.\u001b[39msave(\u001b[38;5;124m'\u001b[39m\u001b[38;5;124mMNIST1D.h5\u001b[39m\u001b[38;5;124m'\u001b[39m)\n",
      "File \u001b[1;32mc:\\users\\jiaming\\appdata\\local\\programs\\python\\python39\\lib\\site-packages\\keras\\engine\\training.py:2016\u001b[0m, in \u001b[0;36mModel.fit_generator\u001b[1;34m(self, generator, steps_per_epoch, epochs, verbose, callbacks, validation_data, validation_steps, validation_freq, class_weight, max_queue_size, workers, use_multiprocessing, shuffle, initial_epoch)\u001b[0m\n\u001b[0;32m   2005\u001b[0m \u001b[38;5;124;03m\"\"\"Fits the model on data yielded batch-by-batch by a Python generator.\u001b[39;00m\n\u001b[0;32m   2006\u001b[0m \n\u001b[0;32m   2007\u001b[0m \u001b[38;5;124;03mDEPRECATED:\u001b[39;00m\n\u001b[0;32m   2008\u001b[0m \u001b[38;5;124;03m  `Model.fit` now supports generators, so there is no longer any need to use\u001b[39;00m\n\u001b[0;32m   2009\u001b[0m \u001b[38;5;124;03m  this endpoint.\u001b[39;00m\n\u001b[0;32m   2010\u001b[0m \u001b[38;5;124;03m\"\"\"\u001b[39;00m\n\u001b[0;32m   2011\u001b[0m warnings\u001b[38;5;241m.\u001b[39mwarn(\n\u001b[0;32m   2012\u001b[0m     \u001b[38;5;124m'\u001b[39m\u001b[38;5;124m`Model.fit_generator` is deprecated and \u001b[39m\u001b[38;5;124m'\u001b[39m\n\u001b[0;32m   2013\u001b[0m     \u001b[38;5;124m'\u001b[39m\u001b[38;5;124mwill be removed in a future version. \u001b[39m\u001b[38;5;124m'\u001b[39m\n\u001b[0;32m   2014\u001b[0m     \u001b[38;5;124m'\u001b[39m\u001b[38;5;124mPlease use `Model.fit`, which supports generators.\u001b[39m\u001b[38;5;124m'\u001b[39m,\n\u001b[0;32m   2015\u001b[0m     stacklevel\u001b[38;5;241m=\u001b[39m\u001b[38;5;241m2\u001b[39m)\n\u001b[1;32m-> 2016\u001b[0m \u001b[38;5;28;01mreturn\u001b[39;00m \u001b[38;5;28;43mself\u001b[39;49m\u001b[38;5;241;43m.\u001b[39;49m\u001b[43mfit\u001b[49m\u001b[43m(\u001b[49m\n\u001b[0;32m   2017\u001b[0m \u001b[43m    \u001b[49m\u001b[43mgenerator\u001b[49m\u001b[43m,\u001b[49m\n\u001b[0;32m   2018\u001b[0m \u001b[43m    \u001b[49m\u001b[43msteps_per_epoch\u001b[49m\u001b[38;5;241;43m=\u001b[39;49m\u001b[43msteps_per_epoch\u001b[49m\u001b[43m,\u001b[49m\n\u001b[0;32m   2019\u001b[0m \u001b[43m    \u001b[49m\u001b[43mepochs\u001b[49m\u001b[38;5;241;43m=\u001b[39;49m\u001b[43mepochs\u001b[49m\u001b[43m,\u001b[49m\n\u001b[0;32m   2020\u001b[0m \u001b[43m    \u001b[49m\u001b[43mverbose\u001b[49m\u001b[38;5;241;43m=\u001b[39;49m\u001b[43mverbose\u001b[49m\u001b[43m,\u001b[49m\n\u001b[0;32m   2021\u001b[0m \u001b[43m    \u001b[49m\u001b[43mcallbacks\u001b[49m\u001b[38;5;241;43m=\u001b[39;49m\u001b[43mcallbacks\u001b[49m\u001b[43m,\u001b[49m\n\u001b[0;32m   2022\u001b[0m \u001b[43m    \u001b[49m\u001b[43mvalidation_data\u001b[49m\u001b[38;5;241;43m=\u001b[39;49m\u001b[43mvalidation_data\u001b[49m\u001b[43m,\u001b[49m\n\u001b[0;32m   2023\u001b[0m \u001b[43m    \u001b[49m\u001b[43mvalidation_steps\u001b[49m\u001b[38;5;241;43m=\u001b[39;49m\u001b[43mvalidation_steps\u001b[49m\u001b[43m,\u001b[49m\n\u001b[0;32m   2024\u001b[0m \u001b[43m    \u001b[49m\u001b[43mvalidation_freq\u001b[49m\u001b[38;5;241;43m=\u001b[39;49m\u001b[43mvalidation_freq\u001b[49m\u001b[43m,\u001b[49m\n\u001b[0;32m   2025\u001b[0m \u001b[43m    \u001b[49m\u001b[43mclass_weight\u001b[49m\u001b[38;5;241;43m=\u001b[39;49m\u001b[43mclass_weight\u001b[49m\u001b[43m,\u001b[49m\n\u001b[0;32m   2026\u001b[0m \u001b[43m    \u001b[49m\u001b[43mmax_queue_size\u001b[49m\u001b[38;5;241;43m=\u001b[39;49m\u001b[43mmax_queue_size\u001b[49m\u001b[43m,\u001b[49m\n\u001b[0;32m   2027\u001b[0m \u001b[43m    \u001b[49m\u001b[43mworkers\u001b[49m\u001b[38;5;241;43m=\u001b[39;49m\u001b[43mworkers\u001b[49m\u001b[43m,\u001b[49m\n\u001b[0;32m   2028\u001b[0m \u001b[43m    \u001b[49m\u001b[43muse_multiprocessing\u001b[49m\u001b[38;5;241;43m=\u001b[39;49m\u001b[43muse_multiprocessing\u001b[49m\u001b[43m,\u001b[49m\n\u001b[0;32m   2029\u001b[0m \u001b[43m    \u001b[49m\u001b[43mshuffle\u001b[49m\u001b[38;5;241;43m=\u001b[39;49m\u001b[43mshuffle\u001b[49m\u001b[43m,\u001b[49m\n\u001b[0;32m   2030\u001b[0m \u001b[43m    \u001b[49m\u001b[43minitial_epoch\u001b[49m\u001b[38;5;241;43m=\u001b[39;49m\u001b[43minitial_epoch\u001b[49m\u001b[43m)\u001b[49m\n",
      "File \u001b[1;32mc:\\users\\jiaming\\appdata\\local\\programs\\python\\python39\\lib\\site-packages\\keras\\utils\\traceback_utils.py:67\u001b[0m, in \u001b[0;36mfilter_traceback.<locals>.error_handler\u001b[1;34m(*args, **kwargs)\u001b[0m\n\u001b[0;32m     65\u001b[0m \u001b[38;5;28;01mexcept\u001b[39;00m \u001b[38;5;167;01mException\u001b[39;00m \u001b[38;5;28;01mas\u001b[39;00m e:  \u001b[38;5;66;03m# pylint: disable=broad-except\u001b[39;00m\n\u001b[0;32m     66\u001b[0m   filtered_tb \u001b[38;5;241m=\u001b[39m _process_traceback_frames(e\u001b[38;5;241m.\u001b[39m__traceback__)\n\u001b[1;32m---> 67\u001b[0m   \u001b[38;5;28;01mraise\u001b[39;00m e\u001b[38;5;241m.\u001b[39mwith_traceback(filtered_tb) \u001b[38;5;28;01mfrom\u001b[39;00m \u001b[38;5;28mNone\u001b[39m\n\u001b[0;32m     68\u001b[0m \u001b[38;5;28;01mfinally\u001b[39;00m:\n\u001b[0;32m     69\u001b[0m   \u001b[38;5;28;01mdel\u001b[39;00m filtered_tb\n",
      "File \u001b[1;32mc:\\users\\jiaming\\appdata\\local\\programs\\python\\python39\\lib\\site-packages\\tensorflow\\python\\framework\\func_graph.py:1129\u001b[0m, in \u001b[0;36mfunc_graph_from_py_func.<locals>.autograph_handler\u001b[1;34m(*args, **kwargs)\u001b[0m\n\u001b[0;32m   1127\u001b[0m \u001b[38;5;28;01mexcept\u001b[39;00m \u001b[38;5;167;01mException\u001b[39;00m \u001b[38;5;28;01mas\u001b[39;00m e:  \u001b[38;5;66;03m# pylint:disable=broad-except\u001b[39;00m\n\u001b[0;32m   1128\u001b[0m   \u001b[38;5;28;01mif\u001b[39;00m \u001b[38;5;28mhasattr\u001b[39m(e, \u001b[38;5;124m\"\u001b[39m\u001b[38;5;124mag_error_metadata\u001b[39m\u001b[38;5;124m\"\u001b[39m):\n\u001b[1;32m-> 1129\u001b[0m     \u001b[38;5;28;01mraise\u001b[39;00m e\u001b[38;5;241m.\u001b[39mag_error_metadata\u001b[38;5;241m.\u001b[39mto_exception(e)\n\u001b[0;32m   1130\u001b[0m   \u001b[38;5;28;01melse\u001b[39;00m:\n\u001b[0;32m   1131\u001b[0m     \u001b[38;5;28;01mraise\u001b[39;00m\n",
      "\u001b[1;31mValueError\u001b[0m: in user code:\n\n    File \"c:\\users\\jiaming\\appdata\\local\\programs\\python\\python39\\lib\\site-packages\\keras\\engine\\training.py\", line 878, in train_function  *\n        return step_function(self, iterator)\n    File \"c:\\users\\jiaming\\appdata\\local\\programs\\python\\python39\\lib\\site-packages\\keras\\engine\\training.py\", line 867, in step_function  **\n        outputs = model.distribute_strategy.run(run_step, args=(data,))\n    File \"c:\\users\\jiaming\\appdata\\local\\programs\\python\\python39\\lib\\site-packages\\keras\\engine\\training.py\", line 860, in run_step  **\n        outputs = model.train_step(data)\n    File \"c:\\users\\jiaming\\appdata\\local\\programs\\python\\python39\\lib\\site-packages\\keras\\engine\\training.py\", line 808, in train_step\n        y_pred = self(x, training=True)\n    File \"c:\\users\\jiaming\\appdata\\local\\programs\\python\\python39\\lib\\site-packages\\keras\\utils\\traceback_utils.py\", line 67, in error_handler\n        raise e.with_traceback(filtered_tb) from None\n    File \"c:\\users\\jiaming\\appdata\\local\\programs\\python\\python39\\lib\\site-packages\\keras\\engine\\input_spec.py\", line 263, in assert_input_compatibility\n        raise ValueError(f'Input {input_index} of layer \"{layer_name}\" is '\n\n    ValueError: Input 0 of layer \"sequential_6\" is incompatible with the layer: expected shape=(None, 32, 40, 1), found shape=(32, 40)\n"
     ]
    }
   ],
   "source": [
    "##Task1-Question2\n",
    "\n",
    "#Your code \n",
    "model.compile(loss=keras.losses.categorical_crossentropy,\n",
    "              optimizer=tensorflow.keras.optimizers.SGD(),\n",
    "              metrics=['accuracy'])\n",
    "def lr_scheduler(epoch):\n",
    "    base_ep = 15\n",
    "    return 1e-3 * (.5 ** (epoch // base_ep))\n",
    "lr_reduce_cb = keras.callbacks.LearningRateScheduler(lr_scheduler)\n",
    "tensorboard_cb = keras.callbacks.TensorBoard(log_dir='log2', write_graph=True)\n",
    "early_stopping_cb = keras.callbacks.EarlyStopping(patience=8, min_delta=0.)\n",
    "model.fit_generator(generator=dataset['x'],\n",
    "                    steps_per_epoch=len(dataset['x']) // 32,\n",
    "                    epochs=200,\n",
    "                    callbacks=[tensorboard_cb],                  \n",
    "                    shuffle = True,\n",
    "                    verbose=1)\n",
    "model.save('MNIST1D.h5')\n",
    "##"
   ]
  },
  {
   "cell_type": "markdown",
   "metadata": {
    "id": "i2ajdUlDzQdM"
   },
   "source": [
    "# Plotting the training progress"
   ]
  },
  {
   "cell_type": "code",
   "execution_count": null,
   "metadata": {
    "id": "GixoKeUrt_rE"
   },
   "outputs": [],
   "source": [
    "##Task1-Question3.a\n",
    "\n",
    "#Your code\n",
    "model=load_model('HMT.h5')\n",
    "def my_summary_iterator(path):\n",
    "  for r in tf_record.tf_record_iterator(path):\n",
    "    yield event_pb2.Event.FromString(r)\n",
    "train_acc = []\n",
    "train_loss = []\n",
    "train_lr = []\n",
    "#print('log/train/' + os.listdir('log/train')[2])\n",
    "for e in my_summary_iterator('log/train/' + os.listdir('log/train')[-1]):\n",
    "  for v in e.summary.value:\n",
    "    if v.tag == 'epoch_accuracy':\n",
    "      train_acc.append(v.simple_value)\n",
    "    elif v.tag == 'epoch_loss':\n",
    "      train_loss.append(v.simple_value)\n",
    "\n",
    "plt.plot(np.arange(len(train_acc)), train_acc)\n",
    "plt.xlabel('Epoch')\n",
    "plt.ylabel('Training Accuracy')\n",
    "plt.title('Training progress: Accuracy')\n",
    "\n",
    "plt.plot(np.arange(len(train_loss)), train_loss)\n",
    "plt.xlabel('Epoch')\n",
    "plt.ylabel('Training Loss')\n",
    "plt.title('Training progress: Loss')\n",
    "##"
   ]
  },
  {
   "cell_type": "markdown",
   "metadata": {
    "id": "7ZWnNSegwqn3"
   },
   "source": [
    "# Explanation"
   ]
  },
  {
   "cell_type": "code",
   "execution_count": null,
   "metadata": {
    "id": "fQQiOC7McDrI"
   },
   "outputs": [],
   "source": [
    "from xai_utils import *"
   ]
  },
  {
   "cell_type": "markdown",
   "metadata": {
    "id": "04WgCQtUumf3"
   },
   "source": [
    "Take a test sample"
   ]
  },
  {
   "cell_type": "code",
   "execution_count": null,
   "metadata": {
    "id": "8bfBhw_WumCv"
   },
   "outputs": [],
   "source": [
    "x_test = dataset['x_test']\n",
    "y_test = dataset['y_test']"
   ]
  },
  {
   "cell_type": "markdown",
   "metadata": {
    "id": "78Rd1BLHupgY"
   },
   "source": [
    "Give the input to the model (Prediction)"
   ]
  },
  {
   "cell_type": "code",
   "execution_count": null,
   "metadata": {
    "colab": {
     "base_uri": "https://localhost:8080/"
    },
    "id": "YGPB_uXFuxBu",
    "outputId": "f3dc79f7-52dd-49c7-b23a-cd0b79e7093b"
   },
   "outputs": [],
   "source": [
    "index = int(np.floor(np.random.rand()*1000))\n",
    "input = np.expand_dims(np.expand_dims(x_test[index], axis=0), axis=-1)\n",
    "label = y_test[index]\n",
    "print('Correct digit: '+str(label))\n",
    "print('Predicted digit: '+str(np.argmax(model(np.expand_dims(np.expand_dims(x_test[index], axis=0), axis=-1)).numpy())))\n",
    "print('Confidence score for the correct label: '+str(model(np.expand_dims(np.expand_dims(x_test[index], axis=0), axis=-1)).numpy()[0,label]))"
   ]
  },
  {
   "cell_type": "markdown",
   "metadata": {
    "id": "HWBlYJ_Gvzmt"
   },
   "source": [
    "## SISE (Semantic Input Sampling for Explanation)"
   ]
  },
  {
   "cell_type": "code",
   "execution_count": null,
   "metadata": {
    "id": "s_3MO6jQvp1l"
   },
   "outputs": [],
   "source": [
    "explanation = SISE(input, model, label, [['conv1d_2']], grad_thr=0.)"
   ]
  },
  {
   "cell_type": "code",
   "execution_count": null,
   "metadata": {
    "colab": {
     "base_uri": "https://localhost:8080/",
     "height": 353
    },
    "id": "raFCq-HXcQge",
    "outputId": "a1973287-43bf-4a6f-d74e-d65f39f658f0"
   },
   "outputs": [],
   "source": [
    "threshold = np.sort(explanation[:,0])[-12]\n",
    "\n",
    "plt.figure(figsize=(25,5))\n",
    "\n",
    "plt.subplot(1,4,1)\n",
    "plt.plot(input[0])\n",
    "plt.title('Input array')\n",
    "\n",
    "plt.subplot(1,4,2)\n",
    "plt.plot(explanation, 'r')\n",
    "plt.title('Explanation map')\n",
    "\n",
    "plt.subplot(1,4,3)\n",
    "plt.plot(dataset['templates']['x'][label])\n",
    "plt.title('Label template')\n",
    "\n",
    "plt.subplot(1,4,4)\n",
    "plt.plot((input[0]*(explanation>threshold)), 'r')\n",
    "plt.title('Highlighted input region (by the SISE algorithm)')"
   ]
  },
  {
   "cell_type": "markdown",
   "metadata": {
    "id": "PNEApbAEQkc9"
   },
   "source": [
    "## Grad-CAM"
   ]
  },
  {
   "cell_type": "code",
   "execution_count": null,
   "metadata": {
    "id": "OQPetu80Qlhw"
   },
   "outputs": [],
   "source": [
    "explanation = grad_cam(model, input, 'conv1d_2')"
   ]
  },
  {
   "cell_type": "code",
   "execution_count": null,
   "metadata": {
    "colab": {
     "base_uri": "https://localhost:8080/",
     "height": 353
    },
    "id": "0rDRk4clQwl6",
    "outputId": "d1546a39-99fb-4c87-8111-919a8c016740"
   },
   "outputs": [],
   "source": [
    "threshold = np.sort(explanation)[-12]\n",
    "\n",
    "plt.figure(figsize=(25,5))\n",
    "\n",
    "plt.subplot(1,4,1)\n",
    "plt.plot(input[0])\n",
    "plt.title('Input array')\n",
    "\n",
    "plt.subplot(1,4,2)\n",
    "plt.plot(explanation, 'r')\n",
    "plt.title('Explanation map')\n",
    "\n",
    "plt.subplot(1,4,3)\n",
    "plt.plot(dataset['templates']['x'][label])\n",
    "plt.title('Label template')\n",
    "\n",
    "plt.subplot(1,4,4)\n",
    "plt.plot((input[0,:,0]*(explanation>threshold)), 'r')\n",
    "plt.title('Highlighted input region (by the  algorithm)')"
   ]
  },
  {
   "cell_type": "markdown",
   "metadata": {
    "id": "C2YVQARaeTKi"
   },
   "source": [
    "## Quantitative evaluation"
   ]
  },
  {
   "cell_type": "code",
   "execution_count": null,
   "metadata": {
    "id": "CTm4tTQMeOxs"
   },
   "outputs": [],
   "source": [
    "def calculate_drop_increase(images, model, exmap, class_index, frac=0.15):\n",
    "    '''\n",
    "    inputs:\n",
    "        images: a 4-D image of size (1 x H x W x 3)\n",
    "          containing an image in RGB format and of size (H x W)\n",
    "        model: The base model\n",
    "        exmap: a given explanation map whose completeness is to be evaluated.\n",
    "        class_index: The class to whom the explanation map is related to.\n",
    "        frac: The fraction of top pixels selected.\n",
    "    returns:v\n",
    "        a tuple with 4 calculates values:\n",
    "        (drop, increase, original_pred, eplanation_pred)\n",
    "        drop (float): drop rate (between 0 and 1)\n",
    "        increase (boolean): \"1\" if increase happened\n",
    "        original_pred: confidence score for original image\n",
    "        explanation_pred:  confidence score for the selected top pixels of the image.\n",
    "    '''\n",
    "    predictions = model.predict(images)\n",
    "    #print(images.shape)\n",
    "    # Pre-processing image \n",
    "    img=images[0,:,:]\n",
    "    #img=img_to_array(img)\n",
    "    img = np.expand_dims(img,axis=0)\n",
    "    # Getting the prediction for image\n",
    "    Y=predictions[0][class_index]\n",
    "    \n",
    "    grad_array=np.reshape(exmap, (-1,))\n",
    "    array_size=int(grad_array.shape[0]*frac)\n",
    "    thr=np.flip(sorted(grad_array))[array_size]\n",
    "    exmap1_msk=(exmap>thr)\n",
    "    exmap1_thr=np.zeros(shape=(1,40,1))\n",
    "    exmap1_thr=img*exmap1_msk\n",
    "    ex_predictions = model.predict(exmap1_thr)[0]\n",
    "    O1=ex_predictions[class_index]\n",
    "    etta=(Y-O1)/(Y+1e-100)\n",
    "    return (etta*(etta>0), 1*(etta<0), Y, O1)"
   ]
  },
  {
   "cell_type": "code",
   "execution_count": null,
   "metadata": {
    "id": "udarj3epeVRX"
   },
   "outputs": [],
   "source": [
    "drop_rate = 0.\n",
    "for index in range(1000):\n",
    "    prediction=model(np.expand_dims(np.expand_dims(x_test[index], axis=0), axis=-1)).numpy()\n",
    "    explanation_map = SISE(np.expand_dims(np.expand_dims(x_test[index], axis=0), axis=-1), model, layers=[['conv1d_2']], class_index=np.argmax(prediction[0]), grad_thr=0.)\n",
    "    drop_rate += calculate_drop_increase(np.expand_dims(np.expand_dims(x_test[index], axis=0), axis=-1), model, explanation_map, class_index=np.argmax(prediction[0]), frac=0.3)[0]\n",
    "drop_rate /= 1000"
   ]
  }
 ],
 "metadata": {
  "colab": {
   "collapsed_sections": [
    "i2ajdUlDzQdM"
   ],
   "name": "MNIST1D.ipynb",
   "provenance": []
  },
  "kernelspec": {
   "display_name": "Python 3 (ipykernel)",
   "language": "python",
   "name": "python3"
  },
  "language_info": {
   "codemirror_mode": {
    "name": "ipython",
    "version": 3
   },
   "file_extension": ".py",
   "mimetype": "text/x-python",
   "name": "python",
   "nbconvert_exporter": "python",
   "pygments_lexer": "ipython3",
   "version": "3.9.2"
  }
 },
 "nbformat": 4,
 "nbformat_minor": 1
}
